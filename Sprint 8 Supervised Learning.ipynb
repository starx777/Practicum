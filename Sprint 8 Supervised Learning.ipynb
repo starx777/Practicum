{
 "cells": [
  {
   "cell_type": "markdown",
   "metadata": {},
   "source": [
    "<div style=\"border:solid black 2px; padding: 20px\">\n",
    "\n",
    "# Reviewer's feedback v.1\n",
    "\n",
    "**Hi Gea**\n",
    "    \n",
    "**Greetings from Chamdani**\n",
    "\n",
    "Terima kasih telah mengirimkan project kamu dengan ini kamu sudah memulai sebuah langkah yang luar biasa saat ini. Disini saya akan mereview proyek kamu ya.\n",
    "\n",
    "Saya akan memberikan beberapa komentar dan feedback seperti dibawah ini, **mohon jangan dipindah, dirubah, maupun dihapus ya :).**\n",
    "    \n",
    "> Mohon diperhatikan bahwa apabila ada temuan atau kesalahan yang sama namun tidak ada komentar perbaikan disana, itu berarti kamu masih tetap harus memperbaikinya yaa.\n",
    "\n",
    "Komentar yang saya berikan akan muncul dalam warna hijau, kuning, atau pun merah seperti ini:\n",
    "\n",
    "</div>"
   ]
  },
  {
   "cell_type": "markdown",
   "metadata": {},
   "source": [
    "<div class=\"alert alert-success\">\n",
    "<b>Chamdani's comment v.*</b> <a class=\"tocSkip\"></a>\n",
    "\n",
    "Bagus, semua berjalan lancar.\n",
    "\n",
    "</div>"
   ]
  },
  {
   "cell_type": "markdown",
   "metadata": {},
   "source": [
    "<div class=\"alert alert-warning\">\n",
    "<b>Chamdani's comment v.*</b> <a class=\"tocSkip\"></a>\n",
    "\n",
    "Ada beberapa catatan.\n",
    "\n",
    "</div>"
   ]
  },
  {
   "cell_type": "markdown",
   "metadata": {},
   "source": [
    "<div class=\"alert alert-danger\">\n",
    "<b>Chamdani's comment v.*</b> <a class=\"tocSkip\"></a>\n",
    "\n",
    "Perlu beberapa perbaikan.\n",
    "\n",
    "</div>"
   ]
  },
  {
   "cell_type": "markdown",
   "metadata": {},
   "source": [
    "<div class=\"alert alert-info\">\n",
    "<b>Chamdani's info v.1</b> <a class=\"tocSkip\"></a>\n",
    "\n",
    "Catatan umum:\n",
    "* Fungsi `print` tidak diperlukan untuk mencetak suatu nilai\n",
    "* Lebih baik tulis kode pada bagian akhir cell code untuk menampilkan output tanpa `print`\n",
    "* Perintah soal yang ada dalam tanda kurung siku `[...]` sebaiknya dihilangkan\n",
    "* Sangat disarankan untuk menggunakan cell markdown untuk memberikan deskripsi temuan atau kesimpulan.\n",
    "* Tidak disarankan menggunakan cell code untuk memberikan penjelasan / deskripsi.\n",
    "* Untuk menghindari galat pada notebook project kamu. Batasi jumlah output yang dikeluarkan setiap kode dengan batas max 10 baris data.\n",
    "\n",
    "</div>"
   ]
  },
  {
   "cell_type": "markdown",
   "metadata": {},
   "source": [
    "<div style=\"border:solid gray 5px; padding: 20px\" class=\"alert alert-warning\">\n",
    "\n",
    "**INGATLAH** \n",
    "* Project kamu tidak akan bisa diterima bila kamu masih memiliki feedback berwarna merah. \n",
    "* Kamu hanya memiliki 3 kali kesempatan iterasi submission disetiap projectnya \n",
    "* Kamu dapat memperbaiki dan menyelesaikan feedback **pertama** dari saya tidak lebih dari 1\\*24 jam setiap iterasinya. *Untuk membantu saya mengetahui apakah ada kesulitan dari feedback project kamu*\n",
    "* Jika merasa kesulitan kamu dapat menuliskan responmu atas feedback saya menggunakan blok markdown warna biru yaa."
   ]
  },
  {
   "cell_type": "markdown",
   "metadata": {},
   "source": [
    "Kamu dapat menjawab saya dengan menggunakan blok berwarna biru seperti ini"
   ]
  },
  {
   "cell_type": "markdown",
   "metadata": {},
   "source": [
    "<div class=\"alert alert-info\">\n",
    "<b>Student answer</b> <a class=\"tocSkip\"></a>\n",
    "\n",
    "Siap kak.\n",
    "\n",
    "</div>"
   ]
  },
  {
   "cell_type": "markdown",
   "metadata": {},
   "source": [
    "<div style=\"border:solid black 2px; padding: 20px\" class=\"alert alert-success\">\n",
    "    \n",
    "# General feedback v.1 *Project Accepted*\n",
    "\n",
    "Terima kasih banyak telah mengirimkan proyek Anda! \n",
    "<br>\n",
    "    \n",
    "Secara keseluruhan, proyek Anda **SANGAT** mengesankan. Semoga apa yang kamu pelajari dalam project ini dapat membantu meningkatkan kemampuanmu. Pertahankan apa yang sudah bagus, dan tingkatkan apa yang menurutmu masih perlu ditingkatkan. Semoga berhasil pada project selanjutnya yaa :)\n",
    "\n",
    "**TETAP SEMANGAT!!**\n",
    "    \n",
    "</div>"
   ]
  },
  {
   "cell_type": "markdown",
   "metadata": {},
   "source": []
  },
  {
   "cell_type": "markdown",
   "metadata": {
    "id": "RdtNFHyS0L_Z"
   },
   "source": [
    "**DESKRIPSI PROYEK**\n",
    "\n",
    "**Latar Belakang**\n",
    "\n",
    "Nasabah Bank Beta pergi meninggalkan perusahaan: sedikit demi sedikit, jumlah mereka berkurang setiap bulannya. Para pegawai bank menyadari bahwa akan lebih menghemat biaya jika perusahaan fokus untuk mempertahankan nasabah lama mereka yang setia daripada menarik nasabah baru.\n",
    "\n",
    "**Tujuan Proyek**\n",
    "\n",
    "Proyek ini bertujuan untuk memprediksi apakah seorang nasabah akan segera meninggalkan bank atau tidak. Data terkait perilaku para klien di masa lalu dan riwayat pemutusan kontrak mereka dengan bank telah tersedia. Untuk bisa dinyatakan lulus dari peninjauan, skor F1 minimal 0,59 untuk test dataset. \n",
    "Selain itu, metrik AUC-ROC diukur dan dibandingkan dengan skor F1.\n",
    "\n",
    "**Deskripsi Data**\n",
    "\n",
    "Data yang Anda butuhkan bisa ditemukan di file /datasets/Churn.csv. Unduh dataset.\n",
    "\n",
    "Fitur\n",
    "* RowNumber — indeks string data\n",
    "* CustomerId — ID pelanggan\n",
    "* Surname — nama belakang\n",
    "* CreditScore — skor kredit\n",
    "* Geography — negara domisili\n",
    "* Gender — gender\n",
    "* Age — umur\n",
    "* Tenure — jangka waktu jatuh tempo untuk deposito tetap nasabah (tahun)\n",
    "* Balance — saldo rekening\n",
    "* NumOfProducts — jumlah produk bank yang digunakan oleh nasabah\n",
    "* HasCrCard — apakah nasabah memiliki kartu kredit (1 - jika ya; 0 - jika tidak)\n",
    "* IsActiveMember — tingkat keaktifan nasabah (1 - jika ya; 0 - jika tidak)\n",
    "* EstimatedSalary — estimasi gaji\n",
    "\n",
    "Target\n",
    "* Exited — apakah nasabah telah berhenti (1 - jika ya; 0 - jika tidak)"
   ]
  },
  {
   "cell_type": "markdown",
   "metadata": {},
   "source": [
    "<div class=\"alert alert-success\">\n",
    "<b>Chamdani's comment v.1</b> <a class=\"tocSkip\"></a>\n",
    "\n",
    "Bagus, semua berjalan lancar.\n",
    "\n",
    "</div>"
   ]
  },
  {
   "cell_type": "code",
   "execution_count": 87,
   "metadata": {
    "id": "jiouA9bw0ate"
   },
   "outputs": [],
   "source": [
    "# Load Library\n",
    "import pandas as pd\n",
    "import numpy as np\n",
    "import re\n",
    "import seaborn as sns\n",
    "\n",
    "import matplotlib.pyplot as plt\n",
    "\n",
    "from sklearn.model_selection import train_test_split\n",
    "from sklearn.linear_model import LogisticRegression\n",
    "from sklearn.ensemble import RandomForestClassifier\n",
    "from sklearn.linear_model import LinearRegression\n",
    "from sklearn.preprocessing import OrdinalEncoder\n",
    "from sklearn.tree import DecisionTreeClassifier\n",
    "from sklearn.preprocessing import StandardScaler\n",
    "\n",
    "from sklearn.metrics import accuracy_score\n",
    "from sklearn.metrics import recall_score\n",
    "from sklearn.metrics import precision_score\n",
    "from sklearn.metrics import f1_score\n",
    "from sklearn.metrics import roc_curve\n",
    "from sklearn.metrics import roc_auc_score\n",
    "from sklearn.metrics import mean_squared_error\n",
    "\n",
    "from sklearn.utils import shuffle\n",
    "\n",
    "# Ignore warning\n",
    "import warnings\n",
    "pd.set_option('display.max_column', 100)\n",
    "warnings.filterwarnings('ignore')"
   ]
  },
  {
   "cell_type": "markdown",
   "metadata": {},
   "source": [
    "<div class=\"alert alert-success\">\n",
    "<b>Chamdani's comment v.1</b> <a class=\"tocSkip\"></a>\n",
    "\n",
    "Bagus, semua berjalan lancar.\n",
    "\n",
    "</div>"
   ]
  },
  {
   "cell_type": "markdown",
   "metadata": {
    "id": "NjnYjBGDx8WA"
   },
   "source": [
    "# 1 Ikhtisar Data"
   ]
  },
  {
   "cell_type": "code",
   "execution_count": 88,
   "metadata": {
    "colab": {
     "base_uri": "https://localhost:8080/",
     "height": 206
    },
    "id": "zWOaDa1f1PIq",
    "outputId": "f80b776c-f798-41e1-8c27-8c2ee1a06ee8"
   },
   "outputs": [
    {
     "data": {
      "text/html": [
       "\n",
       "  <div id=\"df-ded3129e-c3c2-4f02-8a63-19d29dd884bb\">\n",
       "    <div class=\"colab-df-container\">\n",
       "      <div>\n",
       "<style scoped>\n",
       "    .dataframe tbody tr th:only-of-type {\n",
       "        vertical-align: middle;\n",
       "    }\n",
       "\n",
       "    .dataframe tbody tr th {\n",
       "        vertical-align: top;\n",
       "    }\n",
       "\n",
       "    .dataframe thead th {\n",
       "        text-align: right;\n",
       "    }\n",
       "</style>\n",
       "<table border=\"1\" class=\"dataframe\">\n",
       "  <thead>\n",
       "    <tr style=\"text-align: right;\">\n",
       "      <th></th>\n",
       "      <th>RowNumber</th>\n",
       "      <th>CustomerId</th>\n",
       "      <th>Surname</th>\n",
       "      <th>CreditScore</th>\n",
       "      <th>Geography</th>\n",
       "      <th>Gender</th>\n",
       "      <th>Age</th>\n",
       "      <th>Tenure</th>\n",
       "      <th>Balance</th>\n",
       "      <th>NumOfProducts</th>\n",
       "      <th>HasCrCard</th>\n",
       "      <th>IsActiveMember</th>\n",
       "      <th>EstimatedSalary</th>\n",
       "      <th>Exited</th>\n",
       "    </tr>\n",
       "  </thead>\n",
       "  <tbody>\n",
       "    <tr>\n",
       "      <th>0</th>\n",
       "      <td>1</td>\n",
       "      <td>15634602</td>\n",
       "      <td>Hargrave</td>\n",
       "      <td>619</td>\n",
       "      <td>France</td>\n",
       "      <td>Female</td>\n",
       "      <td>42</td>\n",
       "      <td>2.0</td>\n",
       "      <td>0.00</td>\n",
       "      <td>1</td>\n",
       "      <td>1</td>\n",
       "      <td>1</td>\n",
       "      <td>101348.88</td>\n",
       "      <td>1</td>\n",
       "    </tr>\n",
       "    <tr>\n",
       "      <th>1</th>\n",
       "      <td>2</td>\n",
       "      <td>15647311</td>\n",
       "      <td>Hill</td>\n",
       "      <td>608</td>\n",
       "      <td>Spain</td>\n",
       "      <td>Female</td>\n",
       "      <td>41</td>\n",
       "      <td>1.0</td>\n",
       "      <td>83807.86</td>\n",
       "      <td>1</td>\n",
       "      <td>0</td>\n",
       "      <td>1</td>\n",
       "      <td>112542.58</td>\n",
       "      <td>0</td>\n",
       "    </tr>\n",
       "    <tr>\n",
       "      <th>2</th>\n",
       "      <td>3</td>\n",
       "      <td>15619304</td>\n",
       "      <td>Onio</td>\n",
       "      <td>502</td>\n",
       "      <td>France</td>\n",
       "      <td>Female</td>\n",
       "      <td>42</td>\n",
       "      <td>8.0</td>\n",
       "      <td>159660.80</td>\n",
       "      <td>3</td>\n",
       "      <td>1</td>\n",
       "      <td>0</td>\n",
       "      <td>113931.57</td>\n",
       "      <td>1</td>\n",
       "    </tr>\n",
       "    <tr>\n",
       "      <th>3</th>\n",
       "      <td>4</td>\n",
       "      <td>15701354</td>\n",
       "      <td>Boni</td>\n",
       "      <td>699</td>\n",
       "      <td>France</td>\n",
       "      <td>Female</td>\n",
       "      <td>39</td>\n",
       "      <td>1.0</td>\n",
       "      <td>0.00</td>\n",
       "      <td>2</td>\n",
       "      <td>0</td>\n",
       "      <td>0</td>\n",
       "      <td>93826.63</td>\n",
       "      <td>0</td>\n",
       "    </tr>\n",
       "    <tr>\n",
       "      <th>4</th>\n",
       "      <td>5</td>\n",
       "      <td>15737888</td>\n",
       "      <td>Mitchell</td>\n",
       "      <td>850</td>\n",
       "      <td>Spain</td>\n",
       "      <td>Female</td>\n",
       "      <td>43</td>\n",
       "      <td>2.0</td>\n",
       "      <td>125510.82</td>\n",
       "      <td>1</td>\n",
       "      <td>1</td>\n",
       "      <td>1</td>\n",
       "      <td>79084.10</td>\n",
       "      <td>0</td>\n",
       "    </tr>\n",
       "  </tbody>\n",
       "</table>\n",
       "</div>\n",
       "      <button class=\"colab-df-convert\" onclick=\"convertToInteractive('df-ded3129e-c3c2-4f02-8a63-19d29dd884bb')\"\n",
       "              title=\"Convert this dataframe to an interactive table.\"\n",
       "              style=\"display:none;\">\n",
       "        \n",
       "  <svg xmlns=\"http://www.w3.org/2000/svg\" height=\"24px\"viewBox=\"0 0 24 24\"\n",
       "       width=\"24px\">\n",
       "    <path d=\"M0 0h24v24H0V0z\" fill=\"none\"/>\n",
       "    <path d=\"M18.56 5.44l.94 2.06.94-2.06 2.06-.94-2.06-.94-.94-2.06-.94 2.06-2.06.94zm-11 1L8.5 8.5l.94-2.06 2.06-.94-2.06-.94L8.5 2.5l-.94 2.06-2.06.94zm10 10l.94 2.06.94-2.06 2.06-.94-2.06-.94-.94-2.06-.94 2.06-2.06.94z\"/><path d=\"M17.41 7.96l-1.37-1.37c-.4-.4-.92-.59-1.43-.59-.52 0-1.04.2-1.43.59L10.3 9.45l-7.72 7.72c-.78.78-.78 2.05 0 2.83L4 21.41c.39.39.9.59 1.41.59.51 0 1.02-.2 1.41-.59l7.78-7.78 2.81-2.81c.8-.78.8-2.07 0-2.86zM5.41 20L4 18.59l7.72-7.72 1.47 1.35L5.41 20z\"/>\n",
       "  </svg>\n",
       "      </button>\n",
       "      \n",
       "  <style>\n",
       "    .colab-df-container {\n",
       "      display:flex;\n",
       "      flex-wrap:wrap;\n",
       "      gap: 12px;\n",
       "    }\n",
       "\n",
       "    .colab-df-convert {\n",
       "      background-color: #E8F0FE;\n",
       "      border: none;\n",
       "      border-radius: 50%;\n",
       "      cursor: pointer;\n",
       "      display: none;\n",
       "      fill: #1967D2;\n",
       "      height: 32px;\n",
       "      padding: 0 0 0 0;\n",
       "      width: 32px;\n",
       "    }\n",
       "\n",
       "    .colab-df-convert:hover {\n",
       "      background-color: #E2EBFA;\n",
       "      box-shadow: 0px 1px 2px rgba(60, 64, 67, 0.3), 0px 1px 3px 1px rgba(60, 64, 67, 0.15);\n",
       "      fill: #174EA6;\n",
       "    }\n",
       "\n",
       "    [theme=dark] .colab-df-convert {\n",
       "      background-color: #3B4455;\n",
       "      fill: #D2E3FC;\n",
       "    }\n",
       "\n",
       "    [theme=dark] .colab-df-convert:hover {\n",
       "      background-color: #434B5C;\n",
       "      box-shadow: 0px 1px 3px 1px rgba(0, 0, 0, 0.15);\n",
       "      filter: drop-shadow(0px 1px 2px rgba(0, 0, 0, 0.3));\n",
       "      fill: #FFFFFF;\n",
       "    }\n",
       "  </style>\n",
       "\n",
       "      <script>\n",
       "        const buttonEl =\n",
       "          document.querySelector('#df-ded3129e-c3c2-4f02-8a63-19d29dd884bb button.colab-df-convert');\n",
       "        buttonEl.style.display =\n",
       "          google.colab.kernel.accessAllowed ? 'block' : 'none';\n",
       "\n",
       "        async function convertToInteractive(key) {\n",
       "          const element = document.querySelector('#df-ded3129e-c3c2-4f02-8a63-19d29dd884bb');\n",
       "          const dataTable =\n",
       "            await google.colab.kernel.invokeFunction('convertToInteractive',\n",
       "                                                     [key], {});\n",
       "          if (!dataTable) return;\n",
       "\n",
       "          const docLinkHtml = 'Like what you see? Visit the ' +\n",
       "            '<a target=\"_blank\" href=https://colab.research.google.com/notebooks/data_table.ipynb>data table notebook</a>'\n",
       "            + ' to learn more about interactive tables.';\n",
       "          element.innerHTML = '';\n",
       "          dataTable['output_type'] = 'display_data';\n",
       "          await google.colab.output.renderOutput(dataTable, element);\n",
       "          const docLink = document.createElement('div');\n",
       "          docLink.innerHTML = docLinkHtml;\n",
       "          element.appendChild(docLink);\n",
       "        }\n",
       "      </script>\n",
       "    </div>\n",
       "  </div>\n",
       "  "
      ],
      "text/plain": [
       "   RowNumber  CustomerId   Surname  CreditScore Geography  Gender  Age  \\\n",
       "0          1    15634602  Hargrave          619    France  Female   42   \n",
       "1          2    15647311      Hill          608     Spain  Female   41   \n",
       "2          3    15619304      Onio          502    France  Female   42   \n",
       "3          4    15701354      Boni          699    France  Female   39   \n",
       "4          5    15737888  Mitchell          850     Spain  Female   43   \n",
       "\n",
       "   Tenure    Balance  NumOfProducts  HasCrCard  IsActiveMember  \\\n",
       "0     2.0       0.00              1          1               1   \n",
       "1     1.0   83807.86              1          0               1   \n",
       "2     8.0  159660.80              3          1               0   \n",
       "3     1.0       0.00              2          0               0   \n",
       "4     2.0  125510.82              1          1               1   \n",
       "\n",
       "   EstimatedSalary  Exited  \n",
       "0        101348.88       1  \n",
       "1        112542.58       0  \n",
       "2        113931.57       1  \n",
       "3         93826.63       0  \n",
       "4         79084.10       0  "
      ]
     },
     "execution_count": 88,
     "metadata": {},
     "output_type": "execute_result"
    }
   ],
   "source": [
    "# Load data\n",
    "data = pd.read_csv('/content/Churn.csv')\n",
    "data.head()"
   ]
  },
  {
   "cell_type": "code",
   "execution_count": 89,
   "metadata": {
    "colab": {
     "base_uri": "https://localhost:8080/"
    },
    "id": "76OOlI5P1ijb",
    "outputId": "aecabfe3-93ad-4d07-824a-76042994718a"
   },
   "outputs": [
    {
     "name": "stdout",
     "output_type": "stream",
     "text": [
      "<class 'pandas.core.frame.DataFrame'>\n",
      "RangeIndex: 10000 entries, 0 to 9999\n",
      "Data columns (total 14 columns):\n",
      " #   Column           Non-Null Count  Dtype  \n",
      "---  ------           --------------  -----  \n",
      " 0   RowNumber        10000 non-null  int64  \n",
      " 1   CustomerId       10000 non-null  int64  \n",
      " 2   Surname          10000 non-null  object \n",
      " 3   CreditScore      10000 non-null  int64  \n",
      " 4   Geography        10000 non-null  object \n",
      " 5   Gender           10000 non-null  object \n",
      " 6   Age              10000 non-null  int64  \n",
      " 7   Tenure           9091 non-null   float64\n",
      " 8   Balance          10000 non-null  float64\n",
      " 9   NumOfProducts    10000 non-null  int64  \n",
      " 10  HasCrCard        10000 non-null  int64  \n",
      " 11  IsActiveMember   10000 non-null  int64  \n",
      " 12  EstimatedSalary  10000 non-null  float64\n",
      " 13  Exited           10000 non-null  int64  \n",
      "dtypes: float64(3), int64(8), object(3)\n",
      "memory usage: 1.1+ MB\n",
      "None\n"
     ]
    }
   ],
   "source": [
    "# Info & Shape\n",
    "print(data.info())"
   ]
  },
  {
   "cell_type": "code",
   "execution_count": 90,
   "metadata": {
    "colab": {
     "base_uri": "https://localhost:8080/"
    },
    "id": "HlaZcib7yiu8",
    "outputId": "3b6da5b3-8a7e-49f1-f703-30cda64f36fe"
   },
   "outputs": [
    {
     "data": {
      "text/plain": [
       "RowNumber            0\n",
       "CustomerId           0\n",
       "Surname              0\n",
       "CreditScore          0\n",
       "Geography            0\n",
       "Gender               0\n",
       "Age                  0\n",
       "Tenure             909\n",
       "Balance              0\n",
       "NumOfProducts        0\n",
       "HasCrCard            0\n",
       "IsActiveMember       0\n",
       "EstimatedSalary      0\n",
       "Exited               0\n",
       "dtype: int64"
      ]
     },
     "execution_count": 90,
     "metadata": {},
     "output_type": "execute_result"
    }
   ],
   "source": [
    "# Memeriksa nilai yang hilang\n",
    "data.isna().sum()"
   ]
  },
  {
   "cell_type": "code",
   "execution_count": 91,
   "metadata": {
    "colab": {
     "base_uri": "https://localhost:8080/"
    },
    "id": "gOa05V9a0gBM",
    "outputId": "b44786f8-3741-4e2f-b803-edc905337ec8"
   },
   "outputs": [
    {
     "name": "stdout",
     "output_type": "stream",
     "text": [
      "Persentase data yang hilang pada kolom Tenure adalah 90.91%\n"
     ]
    }
   ],
   "source": [
    "# Menampilkan persentase yang hilang pada kolom 'Tenure'\n",
    "print('Persentase data yang hilang pada kolom Tenure adalah {}%'.format((data['Tenure'].count()/len(data))*100))"
   ]
  },
  {
   "cell_type": "code",
   "execution_count": 92,
   "metadata": {
    "colab": {
     "base_uri": "https://localhost:8080/",
     "height": 300
    },
    "id": "nt6e9T0Z10Xp",
    "outputId": "8cc62713-86bc-4c25-fb1e-335768bdaf4f"
   },
   "outputs": [
    {
     "data": {
      "text/html": [
       "\n",
       "  <div id=\"df-fed0b5c2-da4d-41d4-b512-5ad1c823c6f7\">\n",
       "    <div class=\"colab-df-container\">\n",
       "      <div>\n",
       "<style scoped>\n",
       "    .dataframe tbody tr th:only-of-type {\n",
       "        vertical-align: middle;\n",
       "    }\n",
       "\n",
       "    .dataframe tbody tr th {\n",
       "        vertical-align: top;\n",
       "    }\n",
       "\n",
       "    .dataframe thead th {\n",
       "        text-align: right;\n",
       "    }\n",
       "</style>\n",
       "<table border=\"1\" class=\"dataframe\">\n",
       "  <thead>\n",
       "    <tr style=\"text-align: right;\">\n",
       "      <th></th>\n",
       "      <th>RowNumber</th>\n",
       "      <th>CustomerId</th>\n",
       "      <th>CreditScore</th>\n",
       "      <th>Age</th>\n",
       "      <th>Tenure</th>\n",
       "      <th>Balance</th>\n",
       "      <th>NumOfProducts</th>\n",
       "      <th>HasCrCard</th>\n",
       "      <th>IsActiveMember</th>\n",
       "      <th>EstimatedSalary</th>\n",
       "      <th>Exited</th>\n",
       "    </tr>\n",
       "  </thead>\n",
       "  <tbody>\n",
       "    <tr>\n",
       "      <th>count</th>\n",
       "      <td>10000.00000</td>\n",
       "      <td>1.000000e+04</td>\n",
       "      <td>10000.000000</td>\n",
       "      <td>10000.000000</td>\n",
       "      <td>9091.000000</td>\n",
       "      <td>10000.000000</td>\n",
       "      <td>10000.000000</td>\n",
       "      <td>10000.00000</td>\n",
       "      <td>10000.000000</td>\n",
       "      <td>10000.000000</td>\n",
       "      <td>10000.000000</td>\n",
       "    </tr>\n",
       "    <tr>\n",
       "      <th>mean</th>\n",
       "      <td>5000.50000</td>\n",
       "      <td>1.569094e+07</td>\n",
       "      <td>650.528800</td>\n",
       "      <td>38.921800</td>\n",
       "      <td>4.997690</td>\n",
       "      <td>76485.889288</td>\n",
       "      <td>1.530200</td>\n",
       "      <td>0.70550</td>\n",
       "      <td>0.515100</td>\n",
       "      <td>100090.239881</td>\n",
       "      <td>0.203700</td>\n",
       "    </tr>\n",
       "    <tr>\n",
       "      <th>std</th>\n",
       "      <td>2886.89568</td>\n",
       "      <td>7.193619e+04</td>\n",
       "      <td>96.653299</td>\n",
       "      <td>10.487806</td>\n",
       "      <td>2.894723</td>\n",
       "      <td>62397.405202</td>\n",
       "      <td>0.581654</td>\n",
       "      <td>0.45584</td>\n",
       "      <td>0.499797</td>\n",
       "      <td>57510.492818</td>\n",
       "      <td>0.402769</td>\n",
       "    </tr>\n",
       "    <tr>\n",
       "      <th>min</th>\n",
       "      <td>1.00000</td>\n",
       "      <td>1.556570e+07</td>\n",
       "      <td>350.000000</td>\n",
       "      <td>18.000000</td>\n",
       "      <td>0.000000</td>\n",
       "      <td>0.000000</td>\n",
       "      <td>1.000000</td>\n",
       "      <td>0.00000</td>\n",
       "      <td>0.000000</td>\n",
       "      <td>11.580000</td>\n",
       "      <td>0.000000</td>\n",
       "    </tr>\n",
       "    <tr>\n",
       "      <th>25%</th>\n",
       "      <td>2500.75000</td>\n",
       "      <td>1.562853e+07</td>\n",
       "      <td>584.000000</td>\n",
       "      <td>32.000000</td>\n",
       "      <td>2.000000</td>\n",
       "      <td>0.000000</td>\n",
       "      <td>1.000000</td>\n",
       "      <td>0.00000</td>\n",
       "      <td>0.000000</td>\n",
       "      <td>51002.110000</td>\n",
       "      <td>0.000000</td>\n",
       "    </tr>\n",
       "    <tr>\n",
       "      <th>50%</th>\n",
       "      <td>5000.50000</td>\n",
       "      <td>1.569074e+07</td>\n",
       "      <td>652.000000</td>\n",
       "      <td>37.000000</td>\n",
       "      <td>5.000000</td>\n",
       "      <td>97198.540000</td>\n",
       "      <td>1.000000</td>\n",
       "      <td>1.00000</td>\n",
       "      <td>1.000000</td>\n",
       "      <td>100193.915000</td>\n",
       "      <td>0.000000</td>\n",
       "    </tr>\n",
       "    <tr>\n",
       "      <th>75%</th>\n",
       "      <td>7500.25000</td>\n",
       "      <td>1.575323e+07</td>\n",
       "      <td>718.000000</td>\n",
       "      <td>44.000000</td>\n",
       "      <td>7.000000</td>\n",
       "      <td>127644.240000</td>\n",
       "      <td>2.000000</td>\n",
       "      <td>1.00000</td>\n",
       "      <td>1.000000</td>\n",
       "      <td>149388.247500</td>\n",
       "      <td>0.000000</td>\n",
       "    </tr>\n",
       "    <tr>\n",
       "      <th>max</th>\n",
       "      <td>10000.00000</td>\n",
       "      <td>1.581569e+07</td>\n",
       "      <td>850.000000</td>\n",
       "      <td>92.000000</td>\n",
       "      <td>10.000000</td>\n",
       "      <td>250898.090000</td>\n",
       "      <td>4.000000</td>\n",
       "      <td>1.00000</td>\n",
       "      <td>1.000000</td>\n",
       "      <td>199992.480000</td>\n",
       "      <td>1.000000</td>\n",
       "    </tr>\n",
       "  </tbody>\n",
       "</table>\n",
       "</div>\n",
       "      <button class=\"colab-df-convert\" onclick=\"convertToInteractive('df-fed0b5c2-da4d-41d4-b512-5ad1c823c6f7')\"\n",
       "              title=\"Convert this dataframe to an interactive table.\"\n",
       "              style=\"display:none;\">\n",
       "        \n",
       "  <svg xmlns=\"http://www.w3.org/2000/svg\" height=\"24px\"viewBox=\"0 0 24 24\"\n",
       "       width=\"24px\">\n",
       "    <path d=\"M0 0h24v24H0V0z\" fill=\"none\"/>\n",
       "    <path d=\"M18.56 5.44l.94 2.06.94-2.06 2.06-.94-2.06-.94-.94-2.06-.94 2.06-2.06.94zm-11 1L8.5 8.5l.94-2.06 2.06-.94-2.06-.94L8.5 2.5l-.94 2.06-2.06.94zm10 10l.94 2.06.94-2.06 2.06-.94-2.06-.94-.94-2.06-.94 2.06-2.06.94z\"/><path d=\"M17.41 7.96l-1.37-1.37c-.4-.4-.92-.59-1.43-.59-.52 0-1.04.2-1.43.59L10.3 9.45l-7.72 7.72c-.78.78-.78 2.05 0 2.83L4 21.41c.39.39.9.59 1.41.59.51 0 1.02-.2 1.41-.59l7.78-7.78 2.81-2.81c.8-.78.8-2.07 0-2.86zM5.41 20L4 18.59l7.72-7.72 1.47 1.35L5.41 20z\"/>\n",
       "  </svg>\n",
       "      </button>\n",
       "      \n",
       "  <style>\n",
       "    .colab-df-container {\n",
       "      display:flex;\n",
       "      flex-wrap:wrap;\n",
       "      gap: 12px;\n",
       "    }\n",
       "\n",
       "    .colab-df-convert {\n",
       "      background-color: #E8F0FE;\n",
       "      border: none;\n",
       "      border-radius: 50%;\n",
       "      cursor: pointer;\n",
       "      display: none;\n",
       "      fill: #1967D2;\n",
       "      height: 32px;\n",
       "      padding: 0 0 0 0;\n",
       "      width: 32px;\n",
       "    }\n",
       "\n",
       "    .colab-df-convert:hover {\n",
       "      background-color: #E2EBFA;\n",
       "      box-shadow: 0px 1px 2px rgba(60, 64, 67, 0.3), 0px 1px 3px 1px rgba(60, 64, 67, 0.15);\n",
       "      fill: #174EA6;\n",
       "    }\n",
       "\n",
       "    [theme=dark] .colab-df-convert {\n",
       "      background-color: #3B4455;\n",
       "      fill: #D2E3FC;\n",
       "    }\n",
       "\n",
       "    [theme=dark] .colab-df-convert:hover {\n",
       "      background-color: #434B5C;\n",
       "      box-shadow: 0px 1px 3px 1px rgba(0, 0, 0, 0.15);\n",
       "      filter: drop-shadow(0px 1px 2px rgba(0, 0, 0, 0.3));\n",
       "      fill: #FFFFFF;\n",
       "    }\n",
       "  </style>\n",
       "\n",
       "      <script>\n",
       "        const buttonEl =\n",
       "          document.querySelector('#df-fed0b5c2-da4d-41d4-b512-5ad1c823c6f7 button.colab-df-convert');\n",
       "        buttonEl.style.display =\n",
       "          google.colab.kernel.accessAllowed ? 'block' : 'none';\n",
       "\n",
       "        async function convertToInteractive(key) {\n",
       "          const element = document.querySelector('#df-fed0b5c2-da4d-41d4-b512-5ad1c823c6f7');\n",
       "          const dataTable =\n",
       "            await google.colab.kernel.invokeFunction('convertToInteractive',\n",
       "                                                     [key], {});\n",
       "          if (!dataTable) return;\n",
       "\n",
       "          const docLinkHtml = 'Like what you see? Visit the ' +\n",
       "            '<a target=\"_blank\" href=https://colab.research.google.com/notebooks/data_table.ipynb>data table notebook</a>'\n",
       "            + ' to learn more about interactive tables.';\n",
       "          element.innerHTML = '';\n",
       "          dataTable['output_type'] = 'display_data';\n",
       "          await google.colab.output.renderOutput(dataTable, element);\n",
       "          const docLink = document.createElement('div');\n",
       "          docLink.innerHTML = docLinkHtml;\n",
       "          element.appendChild(docLink);\n",
       "        }\n",
       "      </script>\n",
       "    </div>\n",
       "  </div>\n",
       "  "
      ],
      "text/plain": [
       "         RowNumber    CustomerId   CreditScore           Age       Tenure  \\\n",
       "count  10000.00000  1.000000e+04  10000.000000  10000.000000  9091.000000   \n",
       "mean    5000.50000  1.569094e+07    650.528800     38.921800     4.997690   \n",
       "std     2886.89568  7.193619e+04     96.653299     10.487806     2.894723   \n",
       "min        1.00000  1.556570e+07    350.000000     18.000000     0.000000   \n",
       "25%     2500.75000  1.562853e+07    584.000000     32.000000     2.000000   \n",
       "50%     5000.50000  1.569074e+07    652.000000     37.000000     5.000000   \n",
       "75%     7500.25000  1.575323e+07    718.000000     44.000000     7.000000   \n",
       "max    10000.00000  1.581569e+07    850.000000     92.000000    10.000000   \n",
       "\n",
       "             Balance  NumOfProducts    HasCrCard  IsActiveMember  \\\n",
       "count   10000.000000   10000.000000  10000.00000    10000.000000   \n",
       "mean    76485.889288       1.530200      0.70550        0.515100   \n",
       "std     62397.405202       0.581654      0.45584        0.499797   \n",
       "min         0.000000       1.000000      0.00000        0.000000   \n",
       "25%         0.000000       1.000000      0.00000        0.000000   \n",
       "50%     97198.540000       1.000000      1.00000        1.000000   \n",
       "75%    127644.240000       2.000000      1.00000        1.000000   \n",
       "max    250898.090000       4.000000      1.00000        1.000000   \n",
       "\n",
       "       EstimatedSalary        Exited  \n",
       "count     10000.000000  10000.000000  \n",
       "mean     100090.239881      0.203700  \n",
       "std       57510.492818      0.402769  \n",
       "min          11.580000      0.000000  \n",
       "25%       51002.110000      0.000000  \n",
       "50%      100193.915000      0.000000  \n",
       "75%      149388.247500      0.000000  \n",
       "max      199992.480000      1.000000  "
      ]
     },
     "execution_count": 92,
     "metadata": {},
     "output_type": "execute_result"
    }
   ],
   "source": [
    "# Info data numerik\n",
    "data.describe()"
   ]
  },
  {
   "cell_type": "markdown",
   "metadata": {
    "id": "6hpyYd8KyuZR"
   },
   "source": [
    "Di Tahap ini dapat ditarik beberapa kesimpulan :\n",
    "* Penamaan kolom kurang tepat\n",
    "* Tipe data sudah sesuai, kecuali Tenure yang harus diperiksa lebih lanjut.\n",
    "* Ada nilai yang hilang pada kolom Tenure sebanyak 90.91%\n",
    "* Nilai pada kolom 'tenure' mendekati distribusi normal karena nilai mean dan mediannya hampir sama\n",
    "* Secara umum mendekati distribusi normal karena nilai mean dan median sama atau tidak jauh berbeda. Outlier mungkin ditemukan di kolom Balance dan Estimated Salary yang selisih nilai minimum dan maksimumnya sangat besar.\n"
   ]
  },
  {
   "cell_type": "markdown",
   "metadata": {},
   "source": [
    "<div class=\"alert alert-success\">\n",
    "<b>Chamdani's comment v.1</b> <a class=\"tocSkip\"></a>\n",
    "\n",
    "Bagus, semua berjalan lancar.\n",
    "\n",
    "</div>"
   ]
  },
  {
   "cell_type": "markdown",
   "metadata": {
    "id": "GTzLBpXDMaog"
   },
   "source": [
    "# 2 Pra-Pemrosesan Data"
   ]
  },
  {
   "cell_type": "markdown",
   "metadata": {
    "id": "hCIoag7dUvrd"
   },
   "source": [
    "## 2.1 Mengubah nama kolom"
   ]
  },
  {
   "cell_type": "code",
   "execution_count": 93,
   "metadata": {
    "colab": {
     "base_uri": "https://localhost:8080/",
     "height": 206
    },
    "id": "xLD1gnkayNyP",
    "outputId": "63c01db5-ac34-43cc-baa6-3e57ca48a5a0"
   },
   "outputs": [
    {
     "data": {
      "text/html": [
       "\n",
       "  <div id=\"df-282bb6e9-e661-4bd1-acaa-96f93f44d735\">\n",
       "    <div class=\"colab-df-container\">\n",
       "      <div>\n",
       "<style scoped>\n",
       "    .dataframe tbody tr th:only-of-type {\n",
       "        vertical-align: middle;\n",
       "    }\n",
       "\n",
       "    .dataframe tbody tr th {\n",
       "        vertical-align: top;\n",
       "    }\n",
       "\n",
       "    .dataframe thead th {\n",
       "        text-align: right;\n",
       "    }\n",
       "</style>\n",
       "<table border=\"1\" class=\"dataframe\">\n",
       "  <thead>\n",
       "    <tr style=\"text-align: right;\">\n",
       "      <th></th>\n",
       "      <th>row_number</th>\n",
       "      <th>customer_id</th>\n",
       "      <th>surname</th>\n",
       "      <th>credit_score</th>\n",
       "      <th>geography</th>\n",
       "      <th>gender</th>\n",
       "      <th>age</th>\n",
       "      <th>tenure</th>\n",
       "      <th>balance</th>\n",
       "      <th>num_of_products</th>\n",
       "      <th>has_cr_card</th>\n",
       "      <th>is_active_member</th>\n",
       "      <th>estimated_salary</th>\n",
       "      <th>exited</th>\n",
       "    </tr>\n",
       "  </thead>\n",
       "  <tbody>\n",
       "    <tr>\n",
       "      <th>0</th>\n",
       "      <td>1</td>\n",
       "      <td>15634602</td>\n",
       "      <td>Hargrave</td>\n",
       "      <td>619</td>\n",
       "      <td>France</td>\n",
       "      <td>Female</td>\n",
       "      <td>42</td>\n",
       "      <td>2.0</td>\n",
       "      <td>0.00</td>\n",
       "      <td>1</td>\n",
       "      <td>1</td>\n",
       "      <td>1</td>\n",
       "      <td>101348.88</td>\n",
       "      <td>1</td>\n",
       "    </tr>\n",
       "    <tr>\n",
       "      <th>1</th>\n",
       "      <td>2</td>\n",
       "      <td>15647311</td>\n",
       "      <td>Hill</td>\n",
       "      <td>608</td>\n",
       "      <td>Spain</td>\n",
       "      <td>Female</td>\n",
       "      <td>41</td>\n",
       "      <td>1.0</td>\n",
       "      <td>83807.86</td>\n",
       "      <td>1</td>\n",
       "      <td>0</td>\n",
       "      <td>1</td>\n",
       "      <td>112542.58</td>\n",
       "      <td>0</td>\n",
       "    </tr>\n",
       "    <tr>\n",
       "      <th>2</th>\n",
       "      <td>3</td>\n",
       "      <td>15619304</td>\n",
       "      <td>Onio</td>\n",
       "      <td>502</td>\n",
       "      <td>France</td>\n",
       "      <td>Female</td>\n",
       "      <td>42</td>\n",
       "      <td>8.0</td>\n",
       "      <td>159660.80</td>\n",
       "      <td>3</td>\n",
       "      <td>1</td>\n",
       "      <td>0</td>\n",
       "      <td>113931.57</td>\n",
       "      <td>1</td>\n",
       "    </tr>\n",
       "    <tr>\n",
       "      <th>3</th>\n",
       "      <td>4</td>\n",
       "      <td>15701354</td>\n",
       "      <td>Boni</td>\n",
       "      <td>699</td>\n",
       "      <td>France</td>\n",
       "      <td>Female</td>\n",
       "      <td>39</td>\n",
       "      <td>1.0</td>\n",
       "      <td>0.00</td>\n",
       "      <td>2</td>\n",
       "      <td>0</td>\n",
       "      <td>0</td>\n",
       "      <td>93826.63</td>\n",
       "      <td>0</td>\n",
       "    </tr>\n",
       "    <tr>\n",
       "      <th>4</th>\n",
       "      <td>5</td>\n",
       "      <td>15737888</td>\n",
       "      <td>Mitchell</td>\n",
       "      <td>850</td>\n",
       "      <td>Spain</td>\n",
       "      <td>Female</td>\n",
       "      <td>43</td>\n",
       "      <td>2.0</td>\n",
       "      <td>125510.82</td>\n",
       "      <td>1</td>\n",
       "      <td>1</td>\n",
       "      <td>1</td>\n",
       "      <td>79084.10</td>\n",
       "      <td>0</td>\n",
       "    </tr>\n",
       "  </tbody>\n",
       "</table>\n",
       "</div>\n",
       "      <button class=\"colab-df-convert\" onclick=\"convertToInteractive('df-282bb6e9-e661-4bd1-acaa-96f93f44d735')\"\n",
       "              title=\"Convert this dataframe to an interactive table.\"\n",
       "              style=\"display:none;\">\n",
       "        \n",
       "  <svg xmlns=\"http://www.w3.org/2000/svg\" height=\"24px\"viewBox=\"0 0 24 24\"\n",
       "       width=\"24px\">\n",
       "    <path d=\"M0 0h24v24H0V0z\" fill=\"none\"/>\n",
       "    <path d=\"M18.56 5.44l.94 2.06.94-2.06 2.06-.94-2.06-.94-.94-2.06-.94 2.06-2.06.94zm-11 1L8.5 8.5l.94-2.06 2.06-.94-2.06-.94L8.5 2.5l-.94 2.06-2.06.94zm10 10l.94 2.06.94-2.06 2.06-.94-2.06-.94-.94-2.06-.94 2.06-2.06.94z\"/><path d=\"M17.41 7.96l-1.37-1.37c-.4-.4-.92-.59-1.43-.59-.52 0-1.04.2-1.43.59L10.3 9.45l-7.72 7.72c-.78.78-.78 2.05 0 2.83L4 21.41c.39.39.9.59 1.41.59.51 0 1.02-.2 1.41-.59l7.78-7.78 2.81-2.81c.8-.78.8-2.07 0-2.86zM5.41 20L4 18.59l7.72-7.72 1.47 1.35L5.41 20z\"/>\n",
       "  </svg>\n",
       "      </button>\n",
       "      \n",
       "  <style>\n",
       "    .colab-df-container {\n",
       "      display:flex;\n",
       "      flex-wrap:wrap;\n",
       "      gap: 12px;\n",
       "    }\n",
       "\n",
       "    .colab-df-convert {\n",
       "      background-color: #E8F0FE;\n",
       "      border: none;\n",
       "      border-radius: 50%;\n",
       "      cursor: pointer;\n",
       "      display: none;\n",
       "      fill: #1967D2;\n",
       "      height: 32px;\n",
       "      padding: 0 0 0 0;\n",
       "      width: 32px;\n",
       "    }\n",
       "\n",
       "    .colab-df-convert:hover {\n",
       "      background-color: #E2EBFA;\n",
       "      box-shadow: 0px 1px 2px rgba(60, 64, 67, 0.3), 0px 1px 3px 1px rgba(60, 64, 67, 0.15);\n",
       "      fill: #174EA6;\n",
       "    }\n",
       "\n",
       "    [theme=dark] .colab-df-convert {\n",
       "      background-color: #3B4455;\n",
       "      fill: #D2E3FC;\n",
       "    }\n",
       "\n",
       "    [theme=dark] .colab-df-convert:hover {\n",
       "      background-color: #434B5C;\n",
       "      box-shadow: 0px 1px 3px 1px rgba(0, 0, 0, 0.15);\n",
       "      filter: drop-shadow(0px 1px 2px rgba(0, 0, 0, 0.3));\n",
       "      fill: #FFFFFF;\n",
       "    }\n",
       "  </style>\n",
       "\n",
       "      <script>\n",
       "        const buttonEl =\n",
       "          document.querySelector('#df-282bb6e9-e661-4bd1-acaa-96f93f44d735 button.colab-df-convert');\n",
       "        buttonEl.style.display =\n",
       "          google.colab.kernel.accessAllowed ? 'block' : 'none';\n",
       "\n",
       "        async function convertToInteractive(key) {\n",
       "          const element = document.querySelector('#df-282bb6e9-e661-4bd1-acaa-96f93f44d735');\n",
       "          const dataTable =\n",
       "            await google.colab.kernel.invokeFunction('convertToInteractive',\n",
       "                                                     [key], {});\n",
       "          if (!dataTable) return;\n",
       "\n",
       "          const docLinkHtml = 'Like what you see? Visit the ' +\n",
       "            '<a target=\"_blank\" href=https://colab.research.google.com/notebooks/data_table.ipynb>data table notebook</a>'\n",
       "            + ' to learn more about interactive tables.';\n",
       "          element.innerHTML = '';\n",
       "          dataTable['output_type'] = 'display_data';\n",
       "          await google.colab.output.renderOutput(dataTable, element);\n",
       "          const docLink = document.createElement('div');\n",
       "          docLink.innerHTML = docLinkHtml;\n",
       "          element.appendChild(docLink);\n",
       "        }\n",
       "      </script>\n",
       "    </div>\n",
       "  </div>\n",
       "  "
      ],
      "text/plain": [
       "   row_number  customer_id   surname  credit_score geography  gender  age  \\\n",
       "0           1     15634602  Hargrave           619    France  Female   42   \n",
       "1           2     15647311      Hill           608     Spain  Female   41   \n",
       "2           3     15619304      Onio           502    France  Female   42   \n",
       "3           4     15701354      Boni           699    France  Female   39   \n",
       "4           5     15737888  Mitchell           850     Spain  Female   43   \n",
       "\n",
       "   tenure    balance  num_of_products  has_cr_card  is_active_member  \\\n",
       "0     2.0       0.00                1            1                 1   \n",
       "1     1.0   83807.86                1            0                 1   \n",
       "2     8.0  159660.80                3            1                 0   \n",
       "3     1.0       0.00                2            0                 0   \n",
       "4     2.0  125510.82                1            1                 1   \n",
       "\n",
       "   estimated_salary  exited  \n",
       "0         101348.88       1  \n",
       "1         112542.58       0  \n",
       "2         113931.57       1  \n",
       "3          93826.63       0  \n",
       "4          79084.10       0  "
      ]
     },
     "execution_count": 93,
     "metadata": {},
     "output_type": "execute_result"
    }
   ],
   "source": [
    "# Mengubah nama kolom ke bentuk standar\n",
    "columns = []\n",
    "for column in data.columns.values:\n",
    "    column = re.sub('([A-Z])', r' \\1', column).lower().replace(' ', '_')[1:]\n",
    "    columns.append(column)\n",
    "data.columns = columns\n",
    "data.head()"
   ]
  },
  {
   "cell_type": "markdown",
   "metadata": {},
   "source": [
    "<div class=\"alert alert-success\">\n",
    "<b>Chamdani's comment v.1</b> <a class=\"tocSkip\"></a>\n",
    "\n",
    "Bagus, semua berjalan lancar.\n",
    "\n",
    "</div>"
   ]
  },
  {
   "cell_type": "markdown",
   "metadata": {
    "id": "ppuvQd_kU8Td"
   },
   "source": [
    "## 2.2 Kolom 'tenure'"
   ]
  },
  {
   "cell_type": "markdown",
   "metadata": {
    "id": "98RjmuPPV5ti"
   },
   "source": [
    "Pada pemeriksaan data sebelumnya nilai pada kolom `tenure` mendekati distribusi normal, untuk itu nilai yang hilang dapat diisi dengan mean berdasarkan banyak produk yang digunakan nasabah (`num_of_products`)."
   ]
  },
  {
   "cell_type": "code",
   "execution_count": 94,
   "metadata": {
    "colab": {
     "base_uri": "https://localhost:8080/"
    },
    "id": "2be8gkkoL6Qd",
    "outputId": "9cdee610-795a-4f2a-c2f2-1121b643b7fb"
   },
   "outputs": [
    {
     "data": {
      "text/plain": [
       "1.0     952\n",
       "2.0     950\n",
       "8.0     933\n",
       "3.0     928\n",
       "5.0     927\n",
       "7.0     925\n",
       "4.0     885\n",
       "9.0     882\n",
       "6.0     881\n",
       "10.0    446\n",
       "0.0     382\n",
       "Name: tenure, dtype: int64"
      ]
     },
     "execution_count": 94,
     "metadata": {},
     "output_type": "execute_result"
    }
   ],
   "source": [
    "# Pemeriksaan data di kolom 'tenure'\n",
    "data['tenure'].value_counts()"
   ]
  },
  {
   "cell_type": "markdown",
   "metadata": {
    "id": "qk15Sx2kW_iO"
   },
   "source": [
    "Semua nilai pada kolom `tenure` integer, setelah mengisi nilai hilang semua nilai di ubah ke integer."
   ]
  },
  {
   "cell_type": "code",
   "execution_count": 95,
   "metadata": {
    "id": "oeDFvqf-Qmdy"
   },
   "outputs": [],
   "source": [
    "# Mengisi nilai yang hilang\n",
    "data['tenure'] = data.groupby('num_of_products')['tenure'].apply(lambda x: x.fillna(x.mean()))"
   ]
  },
  {
   "cell_type": "code",
   "execution_count": 96,
   "metadata": {
    "colab": {
     "base_uri": "https://localhost:8080/"
    },
    "id": "B8_O7L1RXVh6",
    "outputId": "9a87dba9-fb0b-4f86-a60e-de932f531014"
   },
   "outputs": [
    {
     "data": {
      "text/plain": [
       "0"
      ]
     },
     "execution_count": 96,
     "metadata": {},
     "output_type": "execute_result"
    }
   ],
   "source": [
    "# pemeriksaan ulang\n",
    "data['tenure'].isnull().sum()"
   ]
  },
  {
   "cell_type": "code",
   "execution_count": 97,
   "metadata": {
    "id": "zpPll4mZXaPX"
   },
   "outputs": [],
   "source": [
    "# Mengubah tipe data ke integer\n",
    "data['tenure'] = data['tenure'].astype(int)"
   ]
  },
  {
   "cell_type": "code",
   "execution_count": 98,
   "metadata": {
    "colab": {
     "base_uri": "https://localhost:8080/"
    },
    "id": "iGW1iY_pXibo",
    "outputId": "9f1ea5fe-c7d6-4250-a0ce-ffdfd0994e5c"
   },
   "outputs": [
    {
     "data": {
      "text/plain": [
       "4     1384\n",
       "5     1337\n",
       "1      952\n",
       "2      950\n",
       "8      933\n",
       "3      928\n",
       "7      925\n",
       "9      882\n",
       "6      881\n",
       "10     446\n",
       "0      382\n",
       "Name: tenure, dtype: int64"
      ]
     },
     "execution_count": 98,
     "metadata": {},
     "output_type": "execute_result"
    }
   ],
   "source": [
    "data['tenure'].value_counts()"
   ]
  },
  {
   "cell_type": "markdown",
   "metadata": {},
   "source": [
    "<div class=\"alert alert-success\">\n",
    "<b>Chamdani's comment v.1</b> <a class=\"tocSkip\"></a>\n",
    "\n",
    "Bagus, semua berjalan lancar.\n",
    "\n",
    "</div>"
   ]
  },
  {
   "cell_type": "markdown",
   "metadata": {
    "id": "e4P9iYPTeYPV"
   },
   "source": [
    "## 2.3 Memeriksa Nilai Unik"
   ]
  },
  {
   "cell_type": "code",
   "execution_count": 99,
   "metadata": {
    "colab": {
     "base_uri": "https://localhost:8080/"
    },
    "id": "BFv4IM59epko",
    "outputId": "0248a354-ee9c-44ee-bc7f-5db991b38add"
   },
   "outputs": [
    {
     "data": {
      "text/plain": [
       "row_number          10000\n",
       "customer_id         10000\n",
       "surname              2932\n",
       "credit_score          460\n",
       "geography               3\n",
       "gender                  2\n",
       "age                    70\n",
       "tenure                 11\n",
       "balance              6382\n",
       "num_of_products         4\n",
       "has_cr_card             2\n",
       "is_active_member        2\n",
       "estimated_salary     9999\n",
       "exited                  2\n",
       "dtype: int64"
      ]
     },
     "execution_count": 99,
     "metadata": {},
     "output_type": "execute_result"
    }
   ],
   "source": [
    "# Memeriksa nilai unik pada semua kolom\n",
    "data.nunique()"
   ]
  },
  {
   "cell_type": "markdown",
   "metadata": {
    "id": "5y1juAYjez_Y"
   },
   "source": [
    "Target variabel exited hanya memiliki dua kategori sesuai dengan yang diharapkan"
   ]
  },
  {
   "cell_type": "markdown",
   "metadata": {},
   "source": [
    "<div class=\"alert alert-success\">\n",
    "<b>Chamdani's comment v.1</b> <a class=\"tocSkip\"></a>\n",
    "\n",
    "Bagus, semua berjalan lancar.\n",
    "\n",
    "</div>"
   ]
  },
  {
   "cell_type": "markdown",
   "metadata": {
    "id": "Tqn-1SSWgLip"
   },
   "source": [
    "# 3 Analisis Data Eksploratif"
   ]
  },
  {
   "cell_type": "code",
   "execution_count": 100,
   "metadata": {
    "colab": {
     "base_uri": "https://localhost:8080/",
     "height": 650
    },
    "id": "qfzlZ9mResxA",
    "outputId": "6d2ac7be-0858-4285-8ef0-d6a4cbed7bcd"
   },
   "outputs": [
    {
     "name": "stdout",
     "output_type": "stream",
     "text": [
      "0    7963\n",
      "1    2037\n",
      "Name: exited, dtype: int64\n"
     ]
    },
    {
     "data": {
      "image/png": "[encoded data removed]",
      "text/plain": [
       "<Figure size 700x700 with 1 Axes>"
      ]
     },
     "metadata": {},
     "output_type": "display_data"
    }
   ],
   "source": [
    "# Menampilkan grafik nasabah yang telah keluar dan masih bertahan\n",
    "print(data.exited.value_counts())\n",
    "data.exited.value_counts().plot(kind = 'pie', autopct = '%0.1f%%', figsize = [7, 7], explode = (0, 0.05))\n",
    "plt.title(\"Distribution of Churned Customers\")\n",
    "plt.show()"
   ]
  },
  {
   "cell_type": "markdown",
   "metadata": {
    "id": "3WFaqfg-8VKU"
   },
   "source": [
    "Dari grafik di atas terlihat bahwa hanya rasio nasabah yang keluar dan bertahan sekitar 1 : 4, sehingga data tidak seimbang. Hal ini menjadi catatan apakah hal ini akan mempengaruhi kinerja model di tahap berikutnya."
   ]
  },
  {
   "cell_type": "markdown",
   "metadata": {},
   "source": [
    "<div class=\"alert alert-success\">\n",
    "<b>Chamdani's comment v.1</b> <a class=\"tocSkip\"></a>\n",
    "\n",
    "Bagus, semua berjalan lancar.\n",
    "\n",
    "</div>"
   ]
  },
  {
   "cell_type": "code",
   "execution_count": 101,
   "metadata": {
    "colab": {
     "base_uri": "https://localhost:8080/",
     "height": 394
    },
    "id": "jYYJnnvhjB_p",
    "outputId": "188ec95a-9afb-4427-d458-fb7b9e47b421"
   },
   "outputs": [
    {
     "data": {
      "text/html": [
       "\n",
       "  <div id=\"df-9909134b-1b9b-450d-a242-e0a8c9e5ab4b\">\n",
       "    <div class=\"colab-df-container\">\n",
       "      <div>\n",
       "<style scoped>\n",
       "    .dataframe tbody tr th:only-of-type {\n",
       "        vertical-align: middle;\n",
       "    }\n",
       "\n",
       "    .dataframe tbody tr th {\n",
       "        vertical-align: top;\n",
       "    }\n",
       "\n",
       "    .dataframe thead th {\n",
       "        text-align: right;\n",
       "    }\n",
       "</style>\n",
       "<table border=\"1\" class=\"dataframe\">\n",
       "  <thead>\n",
       "    <tr style=\"text-align: right;\">\n",
       "      <th></th>\n",
       "      <th>row_number</th>\n",
       "      <th>customer_id</th>\n",
       "      <th>credit_score</th>\n",
       "      <th>age</th>\n",
       "      <th>tenure</th>\n",
       "      <th>balance</th>\n",
       "      <th>num_of_products</th>\n",
       "      <th>has_cr_card</th>\n",
       "      <th>is_active_member</th>\n",
       "      <th>estimated_salary</th>\n",
       "      <th>exited</th>\n",
       "    </tr>\n",
       "  </thead>\n",
       "  <tbody>\n",
       "    <tr>\n",
       "      <th>row_number</th>\n",
       "      <td>1.000000</td>\n",
       "      <td>0.004202</td>\n",
       "      <td>0.005840</td>\n",
       "      <td>0.000783</td>\n",
       "      <td>-0.005862</td>\n",
       "      <td>-0.009067</td>\n",
       "      <td>0.007246</td>\n",
       "      <td>0.000599</td>\n",
       "      <td>0.012044</td>\n",
       "      <td>-0.005988</td>\n",
       "      <td>-0.016571</td>\n",
       "    </tr>\n",
       "    <tr>\n",
       "      <th>customer_id</th>\n",
       "      <td>0.004202</td>\n",
       "      <td>1.000000</td>\n",
       "      <td>0.005308</td>\n",
       "      <td>0.009497</td>\n",
       "      <td>-0.019326</td>\n",
       "      <td>-0.012419</td>\n",
       "      <td>0.016972</td>\n",
       "      <td>-0.014025</td>\n",
       "      <td>0.001665</td>\n",
       "      <td>0.015271</td>\n",
       "      <td>-0.006248</td>\n",
       "    </tr>\n",
       "    <tr>\n",
       "      <th>credit_score</th>\n",
       "      <td>0.005840</td>\n",
       "      <td>0.005308</td>\n",
       "      <td>1.000000</td>\n",
       "      <td>-0.003965</td>\n",
       "      <td>0.001196</td>\n",
       "      <td>0.006268</td>\n",
       "      <td>0.012238</td>\n",
       "      <td>-0.005458</td>\n",
       "      <td>0.025651</td>\n",
       "      <td>-0.001384</td>\n",
       "      <td>-0.027094</td>\n",
       "    </tr>\n",
       "    <tr>\n",
       "      <th>age</th>\n",
       "      <td>0.000783</td>\n",
       "      <td>0.009497</td>\n",
       "      <td>-0.003965</td>\n",
       "      <td>1.000000</td>\n",
       "      <td>-0.013638</td>\n",
       "      <td>0.028308</td>\n",
       "      <td>-0.030680</td>\n",
       "      <td>-0.011721</td>\n",
       "      <td>0.085472</td>\n",
       "      <td>-0.007201</td>\n",
       "      <td>0.285323</td>\n",
       "    </tr>\n",
       "    <tr>\n",
       "      <th>tenure</th>\n",
       "      <td>-0.005862</td>\n",
       "      <td>-0.019326</td>\n",
       "      <td>0.001196</td>\n",
       "      <td>-0.013638</td>\n",
       "      <td>1.000000</td>\n",
       "      <td>-0.013406</td>\n",
       "      <td>0.023830</td>\n",
       "      <td>0.025189</td>\n",
       "      <td>-0.029933</td>\n",
       "      <td>0.010363</td>\n",
       "      <td>-0.020545</td>\n",
       "    </tr>\n",
       "    <tr>\n",
       "      <th>balance</th>\n",
       "      <td>-0.009067</td>\n",
       "      <td>-0.012419</td>\n",
       "      <td>0.006268</td>\n",
       "      <td>0.028308</td>\n",
       "      <td>-0.013406</td>\n",
       "      <td>1.000000</td>\n",
       "      <td>-0.304180</td>\n",
       "      <td>-0.014858</td>\n",
       "      <td>-0.010084</td>\n",
       "      <td>0.012797</td>\n",
       "      <td>0.118533</td>\n",
       "    </tr>\n",
       "    <tr>\n",
       "      <th>num_of_products</th>\n",
       "      <td>0.007246</td>\n",
       "      <td>0.016972</td>\n",
       "      <td>0.012238</td>\n",
       "      <td>-0.030680</td>\n",
       "      <td>0.023830</td>\n",
       "      <td>-0.304180</td>\n",
       "      <td>1.000000</td>\n",
       "      <td>0.003183</td>\n",
       "      <td>0.009612</td>\n",
       "      <td>0.014204</td>\n",
       "      <td>-0.047820</td>\n",
       "    </tr>\n",
       "    <tr>\n",
       "      <th>has_cr_card</th>\n",
       "      <td>0.000599</td>\n",
       "      <td>-0.014025</td>\n",
       "      <td>-0.005458</td>\n",
       "      <td>-0.011721</td>\n",
       "      <td>0.025189</td>\n",
       "      <td>-0.014858</td>\n",
       "      <td>0.003183</td>\n",
       "      <td>1.000000</td>\n",
       "      <td>-0.011866</td>\n",
       "      <td>-0.009933</td>\n",
       "      <td>-0.007138</td>\n",
       "    </tr>\n",
       "    <tr>\n",
       "      <th>is_active_member</th>\n",
       "      <td>0.012044</td>\n",
       "      <td>0.001665</td>\n",
       "      <td>0.025651</td>\n",
       "      <td>0.085472</td>\n",
       "      <td>-0.029933</td>\n",
       "      <td>-0.010084</td>\n",
       "      <td>0.009612</td>\n",
       "      <td>-0.011866</td>\n",
       "      <td>1.000000</td>\n",
       "      <td>-0.011421</td>\n",
       "      <td>-0.156128</td>\n",
       "    </tr>\n",
       "    <tr>\n",
       "      <th>estimated_salary</th>\n",
       "      <td>-0.005988</td>\n",
       "      <td>0.015271</td>\n",
       "      <td>-0.001384</td>\n",
       "      <td>-0.007201</td>\n",
       "      <td>0.010363</td>\n",
       "      <td>0.012797</td>\n",
       "      <td>0.014204</td>\n",
       "      <td>-0.009933</td>\n",
       "      <td>-0.011421</td>\n",
       "      <td>1.000000</td>\n",
       "      <td>0.012097</td>\n",
       "    </tr>\n",
       "    <tr>\n",
       "      <th>exited</th>\n",
       "      <td>-0.016571</td>\n",
       "      <td>-0.006248</td>\n",
       "      <td>-0.027094</td>\n",
       "      <td>0.285323</td>\n",
       "      <td>-0.020545</td>\n",
       "      <td>0.118533</td>\n",
       "      <td>-0.047820</td>\n",
       "      <td>-0.007138</td>\n",
       "      <td>-0.156128</td>\n",
       "      <td>0.012097</td>\n",
       "      <td>1.000000</td>\n",
       "    </tr>\n",
       "  </tbody>\n",
       "</table>\n",
       "</div>\n",
       "      <button class=\"colab-df-convert\" onclick=\"convertToInteractive('df-9909134b-1b9b-450d-a242-e0a8c9e5ab4b')\"\n",
       "              title=\"Convert this dataframe to an interactive table.\"\n",
       "              style=\"display:none;\">\n",
       "        \n",
       "  <svg xmlns=\"http://www.w3.org/2000/svg\" height=\"24px\"viewBox=\"0 0 24 24\"\n",
       "       width=\"24px\">\n",
       "    <path d=\"M0 0h24v24H0V0z\" fill=\"none\"/>\n",
       "    <path d=\"M18.56 5.44l.94 2.06.94-2.06 2.06-.94-2.06-.94-.94-2.06-.94 2.06-2.06.94zm-11 1L8.5 8.5l.94-2.06 2.06-.94-2.06-.94L8.5 2.5l-.94 2.06-2.06.94zm10 10l.94 2.06.94-2.06 2.06-.94-2.06-.94-.94-2.06-.94 2.06-2.06.94z\"/><path d=\"M17.41 7.96l-1.37-1.37c-.4-.4-.92-.59-1.43-.59-.52 0-1.04.2-1.43.59L10.3 9.45l-7.72 7.72c-.78.78-.78 2.05 0 2.83L4 21.41c.39.39.9.59 1.41.59.51 0 1.02-.2 1.41-.59l7.78-7.78 2.81-2.81c.8-.78.8-2.07 0-2.86zM5.41 20L4 18.59l7.72-7.72 1.47 1.35L5.41 20z\"/>\n",
       "  </svg>\n",
       "      </button>\n",
       "      \n",
       "  <style>\n",
       "    .colab-df-container {\n",
       "      display:flex;\n",
       "      flex-wrap:wrap;\n",
       "      gap: 12px;\n",
       "    }\n",
       "\n",
       "    .colab-df-convert {\n",
       "      background-color: #E8F0FE;\n",
       "      border: none;\n",
       "      border-radius: 50%;\n",
       "      cursor: pointer;\n",
       "      display: none;\n",
       "      fill: #1967D2;\n",
       "      height: 32px;\n",
       "      padding: 0 0 0 0;\n",
       "      width: 32px;\n",
       "    }\n",
       "\n",
       "    .colab-df-convert:hover {\n",
       "      background-color: #E2EBFA;\n",
       "      box-shadow: 0px 1px 2px rgba(60, 64, 67, 0.3), 0px 1px 3px 1px rgba(60, 64, 67, 0.15);\n",
       "      fill: #174EA6;\n",
       "    }\n",
       "\n",
       "    [theme=dark] .colab-df-convert {\n",
       "      background-color: #3B4455;\n",
       "      fill: #D2E3FC;\n",
       "    }\n",
       "\n",
       "    [theme=dark] .colab-df-convert:hover {\n",
       "      background-color: #434B5C;\n",
       "      box-shadow: 0px 1px 3px 1px rgba(0, 0, 0, 0.15);\n",
       "      filter: drop-shadow(0px 1px 2px rgba(0, 0, 0, 0.3));\n",
       "      fill: #FFFFFF;\n",
       "    }\n",
       "  </style>\n",
       "\n",
       "      <script>\n",
       "        const buttonEl =\n",
       "          document.querySelector('#df-9909134b-1b9b-450d-a242-e0a8c9e5ab4b button.colab-df-convert');\n",
       "        buttonEl.style.display =\n",
       "          google.colab.kernel.accessAllowed ? 'block' : 'none';\n",
       "\n",
       "        async function convertToInteractive(key) {\n",
       "          const element = document.querySelector('#df-9909134b-1b9b-450d-a242-e0a8c9e5ab4b');\n",
       "          const dataTable =\n",
       "            await google.colab.kernel.invokeFunction('convertToInteractive',\n",
       "                                                     [key], {});\n",
       "          if (!dataTable) return;\n",
       "\n",
       "          const docLinkHtml = 'Like what you see? Visit the ' +\n",
       "            '<a target=\"_blank\" href=https://colab.research.google.com/notebooks/data_table.ipynb>data table notebook</a>'\n",
       "            + ' to learn more about interactive tables.';\n",
       "          element.innerHTML = '';\n",
       "          dataTable['output_type'] = 'display_data';\n",
       "          await google.colab.output.renderOutput(dataTable, element);\n",
       "          const docLink = document.createElement('div');\n",
       "          docLink.innerHTML = docLinkHtml;\n",
       "          element.appendChild(docLink);\n",
       "        }\n",
       "      </script>\n",
       "    </div>\n",
       "  </div>\n",
       "  "
      ],
      "text/plain": [
       "                  row_number  customer_id  credit_score       age    tenure  \\\n",
       "row_number          1.000000     0.004202      0.005840  0.000783 -0.005862   \n",
       "customer_id         0.004202     1.000000      0.005308  0.009497 -0.019326   \n",
       "credit_score        0.005840     0.005308      1.000000 -0.003965  0.001196   \n",
       "age                 0.000783     0.009497     -0.003965  1.000000 -0.013638   \n",
       "tenure             -0.005862    -0.019326      0.001196 -0.013638  1.000000   \n",
       "balance            -0.009067    -0.012419      0.006268  0.028308 -0.013406   \n",
       "num_of_products     0.007246     0.016972      0.012238 -0.030680  0.023830   \n",
       "has_cr_card         0.000599    -0.014025     -0.005458 -0.011721  0.025189   \n",
       "is_active_member    0.012044     0.001665      0.025651  0.085472 -0.029933   \n",
       "estimated_salary   -0.005988     0.015271     -0.001384 -0.007201  0.010363   \n",
       "exited             -0.016571    -0.006248     -0.027094  0.285323 -0.020545   \n",
       "\n",
       "                   balance  num_of_products  has_cr_card  is_active_member  \\\n",
       "row_number       -0.009067         0.007246     0.000599          0.012044   \n",
       "customer_id      -0.012419         0.016972    -0.014025          0.001665   \n",
       "credit_score      0.006268         0.012238    -0.005458          0.025651   \n",
       "age               0.028308        -0.030680    -0.011721          0.085472   \n",
       "tenure           -0.013406         0.023830     0.025189         -0.029933   \n",
       "balance           1.000000        -0.304180    -0.014858         -0.010084   \n",
       "num_of_products  -0.304180         1.000000     0.003183          0.009612   \n",
       "has_cr_card      -0.014858         0.003183     1.000000         -0.011866   \n",
       "is_active_member -0.010084         0.009612    -0.011866          1.000000   \n",
       "estimated_salary  0.012797         0.014204    -0.009933         -0.011421   \n",
       "exited            0.118533        -0.047820    -0.007138         -0.156128   \n",
       "\n",
       "                  estimated_salary    exited  \n",
       "row_number               -0.005988 -0.016571  \n",
       "customer_id               0.015271 -0.006248  \n",
       "credit_score             -0.001384 -0.027094  \n",
       "age                      -0.007201  0.285323  \n",
       "tenure                    0.010363 -0.020545  \n",
       "balance                   0.012797  0.118533  \n",
       "num_of_products           0.014204 -0.047820  \n",
       "has_cr_card              -0.009933 -0.007138  \n",
       "is_active_member         -0.011421 -0.156128  \n",
       "estimated_salary          1.000000  0.012097  \n",
       "exited                    0.012097  1.000000  "
      ]
     },
     "execution_count": 101,
     "metadata": {},
     "output_type": "execute_result"
    }
   ],
   "source": [
    "# Memeriksa korelasi antar kolom\n",
    "korelasi = data.corr()\n",
    "korelasi"
   ]
  },
  {
   "cell_type": "code",
   "execution_count": 102,
   "metadata": {
    "colab": {
     "base_uri": "https://localhost:8080/",
     "height": 564
    },
    "id": "TTDXxTP_jL4h",
    "outputId": "b9ef6dc8-31c8-432a-f84a-c17b84255517"
   },
   "outputs": [
    {
     "data": {
      "text/plain": [
       "<Axes: >"
      ]
     },
     "execution_count": 102,
     "metadata": {},
     "output_type": "execute_result"
    },
    {
     "data": {
      "image/png": "[encoded data removed]",
      "text/plain": [
       "<Figure size 640x480 with 2 Axes>"
      ]
     },
     "metadata": {},
     "output_type": "display_data"
    }
   ],
   "source": [
    "# Menampilkan korelasi heatmap\n",
    "sns.heatmap(korelasi)"
   ]
  },
  {
   "cell_type": "code",
   "execution_count": 103,
   "metadata": {
    "colab": {
     "base_uri": "https://localhost:8080/"
    },
    "id": "iYjnrYcCjXq4",
    "outputId": "b7d74980-9273-4d45-8dfa-897659d509fc"
   },
   "outputs": [
    {
     "data": {
      "text/plain": [
       "exited              1.000000\n",
       "age                 0.285323\n",
       "is_active_member    0.156128\n",
       "balance             0.118533\n",
       "num_of_products     0.047820\n",
       "credit_score        0.027094\n",
       "tenure              0.020545\n",
       "row_number          0.016571\n",
       "estimated_salary    0.012097\n",
       "has_cr_card         0.007138\n",
       "customer_id         0.006248\n",
       "Name: exited, dtype: float64"
      ]
     },
     "execution_count": 103,
     "metadata": {},
     "output_type": "execute_result"
    }
   ],
   "source": [
    "# Menampilkan Nilai Korelasi Absolut\n",
    "korelasi.exited.abs().sort_values(ascending=False)"
   ]
  },
  {
   "cell_type": "markdown",
   "metadata": {
    "id": "0IuRPfH9oE4W"
   },
   "source": [
    "Dari data diatas tidak terlihat korelasi yang kuat dengan target (di bawah 0.5). Namun ada 3 variabel yang memiliki korelasi yang lebih baik yakni:\n",
    "* age = 0.285 \n",
    "* is_active_member = 0.156\n",
    "* num_of_products = 0.118\n",
    "\n",
    "Sedangkan yang lainya memiliki korelasi yang sangat rendah (dibawah 0.01)."
   ]
  },
  {
   "cell_type": "markdown",
   "metadata": {},
   "source": [
    "<div class=\"alert alert-success\">\n",
    "<b>Chamdani's comment v.1</b> <a class=\"tocSkip\"></a>\n",
    "\n",
    "Bagus, semua berjalan lancar.\n",
    "\n",
    "</div>"
   ]
  },
  {
   "cell_type": "markdown",
   "metadata": {
    "id": "cwiDqdHHpURk"
   },
   "source": [
    "# 4 Persiapan Data / Feature Engineering"
   ]
  },
  {
   "cell_type": "code",
   "execution_count": 104,
   "metadata": {
    "colab": {
     "base_uri": "https://localhost:8080/",
     "height": 206
    },
    "id": "oO0Rs-jNjV9c",
    "outputId": "a8538b94-6c33-4015-876c-68be6a7a3e04"
   },
   "outputs": [
    {
     "data": {
      "text/html": [
       "\n",
       "  <div id=\"df-ee6d8f63-34d2-42fa-af97-bffed2e961fe\">\n",
       "    <div class=\"colab-df-container\">\n",
       "      <div>\n",
       "<style scoped>\n",
       "    .dataframe tbody tr th:only-of-type {\n",
       "        vertical-align: middle;\n",
       "    }\n",
       "\n",
       "    .dataframe tbody tr th {\n",
       "        vertical-align: top;\n",
       "    }\n",
       "\n",
       "    .dataframe thead th {\n",
       "        text-align: right;\n",
       "    }\n",
       "</style>\n",
       "<table border=\"1\" class=\"dataframe\">\n",
       "  <thead>\n",
       "    <tr style=\"text-align: right;\">\n",
       "      <th></th>\n",
       "      <th>row_number</th>\n",
       "      <th>customer_id</th>\n",
       "      <th>surname</th>\n",
       "      <th>credit_score</th>\n",
       "      <th>geography</th>\n",
       "      <th>gender</th>\n",
       "      <th>age</th>\n",
       "      <th>tenure</th>\n",
       "      <th>balance</th>\n",
       "      <th>num_of_products</th>\n",
       "      <th>has_cr_card</th>\n",
       "      <th>is_active_member</th>\n",
       "      <th>estimated_salary</th>\n",
       "      <th>exited</th>\n",
       "    </tr>\n",
       "  </thead>\n",
       "  <tbody>\n",
       "    <tr>\n",
       "      <th>0</th>\n",
       "      <td>1</td>\n",
       "      <td>15634602</td>\n",
       "      <td>Hargrave</td>\n",
       "      <td>619</td>\n",
       "      <td>France</td>\n",
       "      <td>Female</td>\n",
       "      <td>42</td>\n",
       "      <td>2</td>\n",
       "      <td>0.00</td>\n",
       "      <td>1</td>\n",
       "      <td>1</td>\n",
       "      <td>1</td>\n",
       "      <td>101348.88</td>\n",
       "      <td>1</td>\n",
       "    </tr>\n",
       "    <tr>\n",
       "      <th>1</th>\n",
       "      <td>2</td>\n",
       "      <td>15647311</td>\n",
       "      <td>Hill</td>\n",
       "      <td>608</td>\n",
       "      <td>Spain</td>\n",
       "      <td>Female</td>\n",
       "      <td>41</td>\n",
       "      <td>1</td>\n",
       "      <td>83807.86</td>\n",
       "      <td>1</td>\n",
       "      <td>0</td>\n",
       "      <td>1</td>\n",
       "      <td>112542.58</td>\n",
       "      <td>0</td>\n",
       "    </tr>\n",
       "    <tr>\n",
       "      <th>2</th>\n",
       "      <td>3</td>\n",
       "      <td>15619304</td>\n",
       "      <td>Onio</td>\n",
       "      <td>502</td>\n",
       "      <td>France</td>\n",
       "      <td>Female</td>\n",
       "      <td>42</td>\n",
       "      <td>8</td>\n",
       "      <td>159660.80</td>\n",
       "      <td>3</td>\n",
       "      <td>1</td>\n",
       "      <td>0</td>\n",
       "      <td>113931.57</td>\n",
       "      <td>1</td>\n",
       "    </tr>\n",
       "    <tr>\n",
       "      <th>3</th>\n",
       "      <td>4</td>\n",
       "      <td>15701354</td>\n",
       "      <td>Boni</td>\n",
       "      <td>699</td>\n",
       "      <td>France</td>\n",
       "      <td>Female</td>\n",
       "      <td>39</td>\n",
       "      <td>1</td>\n",
       "      <td>0.00</td>\n",
       "      <td>2</td>\n",
       "      <td>0</td>\n",
       "      <td>0</td>\n",
       "      <td>93826.63</td>\n",
       "      <td>0</td>\n",
       "    </tr>\n",
       "    <tr>\n",
       "      <th>4</th>\n",
       "      <td>5</td>\n",
       "      <td>15737888</td>\n",
       "      <td>Mitchell</td>\n",
       "      <td>850</td>\n",
       "      <td>Spain</td>\n",
       "      <td>Female</td>\n",
       "      <td>43</td>\n",
       "      <td>2</td>\n",
       "      <td>125510.82</td>\n",
       "      <td>1</td>\n",
       "      <td>1</td>\n",
       "      <td>1</td>\n",
       "      <td>79084.10</td>\n",
       "      <td>0</td>\n",
       "    </tr>\n",
       "  </tbody>\n",
       "</table>\n",
       "</div>\n",
       "      <button class=\"colab-df-convert\" onclick=\"convertToInteractive('df-ee6d8f63-34d2-42fa-af97-bffed2e961fe')\"\n",
       "              title=\"Convert this dataframe to an interactive table.\"\n",
       "              style=\"display:none;\">\n",
       "        \n",
       "  <svg xmlns=\"http://www.w3.org/2000/svg\" height=\"24px\"viewBox=\"0 0 24 24\"\n",
       "       width=\"24px\">\n",
       "    <path d=\"M0 0h24v24H0V0z\" fill=\"none\"/>\n",
       "    <path d=\"M18.56 5.44l.94 2.06.94-2.06 2.06-.94-2.06-.94-.94-2.06-.94 2.06-2.06.94zm-11 1L8.5 8.5l.94-2.06 2.06-.94-2.06-.94L8.5 2.5l-.94 2.06-2.06.94zm10 10l.94 2.06.94-2.06 2.06-.94-2.06-.94-.94-2.06-.94 2.06-2.06.94z\"/><path d=\"M17.41 7.96l-1.37-1.37c-.4-.4-.92-.59-1.43-.59-.52 0-1.04.2-1.43.59L10.3 9.45l-7.72 7.72c-.78.78-.78 2.05 0 2.83L4 21.41c.39.39.9.59 1.41.59.51 0 1.02-.2 1.41-.59l7.78-7.78 2.81-2.81c.8-.78.8-2.07 0-2.86zM5.41 20L4 18.59l7.72-7.72 1.47 1.35L5.41 20z\"/>\n",
       "  </svg>\n",
       "      </button>\n",
       "      \n",
       "  <style>\n",
       "    .colab-df-container {\n",
       "      display:flex;\n",
       "      flex-wrap:wrap;\n",
       "      gap: 12px;\n",
       "    }\n",
       "\n",
       "    .colab-df-convert {\n",
       "      background-color: #E8F0FE;\n",
       "      border: none;\n",
       "      border-radius: 50%;\n",
       "      cursor: pointer;\n",
       "      display: none;\n",
       "      fill: #1967D2;\n",
       "      height: 32px;\n",
       "      padding: 0 0 0 0;\n",
       "      width: 32px;\n",
       "    }\n",
       "\n",
       "    .colab-df-convert:hover {\n",
       "      background-color: #E2EBFA;\n",
       "      box-shadow: 0px 1px 2px rgba(60, 64, 67, 0.3), 0px 1px 3px 1px rgba(60, 64, 67, 0.15);\n",
       "      fill: #174EA6;\n",
       "    }\n",
       "\n",
       "    [theme=dark] .colab-df-convert {\n",
       "      background-color: #3B4455;\n",
       "      fill: #D2E3FC;\n",
       "    }\n",
       "\n",
       "    [theme=dark] .colab-df-convert:hover {\n",
       "      background-color: #434B5C;\n",
       "      box-shadow: 0px 1px 3px 1px rgba(0, 0, 0, 0.15);\n",
       "      filter: drop-shadow(0px 1px 2px rgba(0, 0, 0, 0.3));\n",
       "      fill: #FFFFFF;\n",
       "    }\n",
       "  </style>\n",
       "\n",
       "      <script>\n",
       "        const buttonEl =\n",
       "          document.querySelector('#df-ee6d8f63-34d2-42fa-af97-bffed2e961fe button.colab-df-convert');\n",
       "        buttonEl.style.display =\n",
       "          google.colab.kernel.accessAllowed ? 'block' : 'none';\n",
       "\n",
       "        async function convertToInteractive(key) {\n",
       "          const element = document.querySelector('#df-ee6d8f63-34d2-42fa-af97-bffed2e961fe');\n",
       "          const dataTable =\n",
       "            await google.colab.kernel.invokeFunction('convertToInteractive',\n",
       "                                                     [key], {});\n",
       "          if (!dataTable) return;\n",
       "\n",
       "          const docLinkHtml = 'Like what you see? Visit the ' +\n",
       "            '<a target=\"_blank\" href=https://colab.research.google.com/notebooks/data_table.ipynb>data table notebook</a>'\n",
       "            + ' to learn more about interactive tables.';\n",
       "          element.innerHTML = '';\n",
       "          dataTable['output_type'] = 'display_data';\n",
       "          await google.colab.output.renderOutput(dataTable, element);\n",
       "          const docLink = document.createElement('div');\n",
       "          docLink.innerHTML = docLinkHtml;\n",
       "          element.appendChild(docLink);\n",
       "        }\n",
       "      </script>\n",
       "    </div>\n",
       "  </div>\n",
       "  "
      ],
      "text/plain": [
       "   row_number  customer_id   surname  credit_score geography  gender  age  \\\n",
       "0           1     15634602  Hargrave           619    France  Female   42   \n",
       "1           2     15647311      Hill           608     Spain  Female   41   \n",
       "2           3     15619304      Onio           502    France  Female   42   \n",
       "3           4     15701354      Boni           699    France  Female   39   \n",
       "4           5     15737888  Mitchell           850     Spain  Female   43   \n",
       "\n",
       "   tenure    balance  num_of_products  has_cr_card  is_active_member  \\\n",
       "0       2       0.00                1            1                 1   \n",
       "1       1   83807.86                1            0                 1   \n",
       "2       8  159660.80                3            1                 0   \n",
       "3       1       0.00                2            0                 0   \n",
       "4       2  125510.82                1            1                 1   \n",
       "\n",
       "   estimated_salary  exited  \n",
       "0         101348.88       1  \n",
       "1         112542.58       0  \n",
       "2         113931.57       1  \n",
       "3          93826.63       0  \n",
       "4          79084.10       0  "
      ]
     },
     "execution_count": 104,
     "metadata": {},
     "output_type": "execute_result"
    }
   ],
   "source": [
    "# Menampilkan sample data kembali\n",
    "data.head()"
   ]
  },
  {
   "cell_type": "code",
   "execution_count": 105,
   "metadata": {
    "colab": {
     "base_uri": "https://localhost:8080/",
     "height": 206
    },
    "id": "8LWfGrRqqKjG",
    "outputId": "7011c7a2-63e5-48ab-9f1f-fc15e0ba84fa"
   },
   "outputs": [
    {
     "data": {
      "text/html": [
       "\n",
       "  <div id=\"df-4629b875-0fd6-4efa-b274-d2d9a3871916\">\n",
       "    <div class=\"colab-df-container\">\n",
       "      <div>\n",
       "<style scoped>\n",
       "    .dataframe tbody tr th:only-of-type {\n",
       "        vertical-align: middle;\n",
       "    }\n",
       "\n",
       "    .dataframe tbody tr th {\n",
       "        vertical-align: top;\n",
       "    }\n",
       "\n",
       "    .dataframe thead th {\n",
       "        text-align: right;\n",
       "    }\n",
       "</style>\n",
       "<table border=\"1\" class=\"dataframe\">\n",
       "  <thead>\n",
       "    <tr style=\"text-align: right;\">\n",
       "      <th></th>\n",
       "      <th>credit_score</th>\n",
       "      <th>age</th>\n",
       "      <th>tenure</th>\n",
       "      <th>balance</th>\n",
       "      <th>num_of_products</th>\n",
       "      <th>has_cr_card</th>\n",
       "      <th>is_active_member</th>\n",
       "      <th>estimated_salary</th>\n",
       "    </tr>\n",
       "  </thead>\n",
       "  <tbody>\n",
       "    <tr>\n",
       "      <th>0</th>\n",
       "      <td>619</td>\n",
       "      <td>42</td>\n",
       "      <td>2</td>\n",
       "      <td>0.00</td>\n",
       "      <td>1</td>\n",
       "      <td>1</td>\n",
       "      <td>1</td>\n",
       "      <td>101348.88</td>\n",
       "    </tr>\n",
       "    <tr>\n",
       "      <th>1</th>\n",
       "      <td>608</td>\n",
       "      <td>41</td>\n",
       "      <td>1</td>\n",
       "      <td>83807.86</td>\n",
       "      <td>1</td>\n",
       "      <td>0</td>\n",
       "      <td>1</td>\n",
       "      <td>112542.58</td>\n",
       "    </tr>\n",
       "    <tr>\n",
       "      <th>2</th>\n",
       "      <td>502</td>\n",
       "      <td>42</td>\n",
       "      <td>8</td>\n",
       "      <td>159660.80</td>\n",
       "      <td>3</td>\n",
       "      <td>1</td>\n",
       "      <td>0</td>\n",
       "      <td>113931.57</td>\n",
       "    </tr>\n",
       "    <tr>\n",
       "      <th>3</th>\n",
       "      <td>699</td>\n",
       "      <td>39</td>\n",
       "      <td>1</td>\n",
       "      <td>0.00</td>\n",
       "      <td>2</td>\n",
       "      <td>0</td>\n",
       "      <td>0</td>\n",
       "      <td>93826.63</td>\n",
       "    </tr>\n",
       "    <tr>\n",
       "      <th>4</th>\n",
       "      <td>850</td>\n",
       "      <td>43</td>\n",
       "      <td>2</td>\n",
       "      <td>125510.82</td>\n",
       "      <td>1</td>\n",
       "      <td>1</td>\n",
       "      <td>1</td>\n",
       "      <td>79084.10</td>\n",
       "    </tr>\n",
       "  </tbody>\n",
       "</table>\n",
       "</div>\n",
       "      <button class=\"colab-df-convert\" onclick=\"convertToInteractive('df-4629b875-0fd6-4efa-b274-d2d9a3871916')\"\n",
       "              title=\"Convert this dataframe to an interactive table.\"\n",
       "              style=\"display:none;\">\n",
       "        \n",
       "  <svg xmlns=\"http://www.w3.org/2000/svg\" height=\"24px\"viewBox=\"0 0 24 24\"\n",
       "       width=\"24px\">\n",
       "    <path d=\"M0 0h24v24H0V0z\" fill=\"none\"/>\n",
       "    <path d=\"M18.56 5.44l.94 2.06.94-2.06 2.06-.94-2.06-.94-.94-2.06-.94 2.06-2.06.94zm-11 1L8.5 8.5l.94-2.06 2.06-.94-2.06-.94L8.5 2.5l-.94 2.06-2.06.94zm10 10l.94 2.06.94-2.06 2.06-.94-2.06-.94-.94-2.06-.94 2.06-2.06.94z\"/><path d=\"M17.41 7.96l-1.37-1.37c-.4-.4-.92-.59-1.43-.59-.52 0-1.04.2-1.43.59L10.3 9.45l-7.72 7.72c-.78.78-.78 2.05 0 2.83L4 21.41c.39.39.9.59 1.41.59.51 0 1.02-.2 1.41-.59l7.78-7.78 2.81-2.81c.8-.78.8-2.07 0-2.86zM5.41 20L4 18.59l7.72-7.72 1.47 1.35L5.41 20z\"/>\n",
       "  </svg>\n",
       "      </button>\n",
       "      \n",
       "  <style>\n",
       "    .colab-df-container {\n",
       "      display:flex;\n",
       "      flex-wrap:wrap;\n",
       "      gap: 12px;\n",
       "    }\n",
       "\n",
       "    .colab-df-convert {\n",
       "      background-color: #E8F0FE;\n",
       "      border: none;\n",
       "      border-radius: 50%;\n",
       "      cursor: pointer;\n",
       "      display: none;\n",
       "      fill: #1967D2;\n",
       "      height: 32px;\n",
       "      padding: 0 0 0 0;\n",
       "      width: 32px;\n",
       "    }\n",
       "\n",
       "    .colab-df-convert:hover {\n",
       "      background-color: #E2EBFA;\n",
       "      box-shadow: 0px 1px 2px rgba(60, 64, 67, 0.3), 0px 1px 3px 1px rgba(60, 64, 67, 0.15);\n",
       "      fill: #174EA6;\n",
       "    }\n",
       "\n",
       "    [theme=dark] .colab-df-convert {\n",
       "      background-color: #3B4455;\n",
       "      fill: #D2E3FC;\n",
       "    }\n",
       "\n",
       "    [theme=dark] .colab-df-convert:hover {\n",
       "      background-color: #434B5C;\n",
       "      box-shadow: 0px 1px 3px 1px rgba(0, 0, 0, 0.15);\n",
       "      filter: drop-shadow(0px 1px 2px rgba(0, 0, 0, 0.3));\n",
       "      fill: #FFFFFF;\n",
       "    }\n",
       "  </style>\n",
       "\n",
       "      <script>\n",
       "        const buttonEl =\n",
       "          document.querySelector('#df-4629b875-0fd6-4efa-b274-d2d9a3871916 button.colab-df-convert');\n",
       "        buttonEl.style.display =\n",
       "          google.colab.kernel.accessAllowed ? 'block' : 'none';\n",
       "\n",
       "        async function convertToInteractive(key) {\n",
       "          const element = document.querySelector('#df-4629b875-0fd6-4efa-b274-d2d9a3871916');\n",
       "          const dataTable =\n",
       "            await google.colab.kernel.invokeFunction('convertToInteractive',\n",
       "                                                     [key], {});\n",
       "          if (!dataTable) return;\n",
       "\n",
       "          const docLinkHtml = 'Like what you see? Visit the ' +\n",
       "            '<a target=\"_blank\" href=https://colab.research.google.com/notebooks/data_table.ipynb>data table notebook</a>'\n",
       "            + ' to learn more about interactive tables.';\n",
       "          element.innerHTML = '';\n",
       "          dataTable['output_type'] = 'display_data';\n",
       "          await google.colab.output.renderOutput(dataTable, element);\n",
       "          const docLink = document.createElement('div');\n",
       "          docLink.innerHTML = docLinkHtml;\n",
       "          element.appendChild(docLink);\n",
       "        }\n",
       "      </script>\n",
       "    </div>\n",
       "  </div>\n",
       "  "
      ],
      "text/plain": [
       "   credit_score  age  tenure    balance  num_of_products  has_cr_card  \\\n",
       "0           619   42       2       0.00                1            1   \n",
       "1           608   41       1   83807.86                1            0   \n",
       "2           502   42       8  159660.80                3            1   \n",
       "3           699   39       1       0.00                2            0   \n",
       "4           850   43       2  125510.82                1            1   \n",
       "\n",
       "   is_active_member  estimated_salary  \n",
       "0                 1         101348.88  \n",
       "1                 1         112542.58  \n",
       "2                 0         113931.57  \n",
       "3                 0          93826.63  \n",
       "4                 1          79084.10  "
      ]
     },
     "execution_count": 105,
     "metadata": {},
     "output_type": "execute_result"
    }
   ],
   "source": [
    "# Menentukan target dan fitur\n",
    "target = data['exited']\n",
    "fitur = data.drop(['row_number', 'customer_id','surname','geography','gender','exited'], axis=1)\n",
    "fitur.head()"
   ]
  },
  {
   "cell_type": "markdown",
   "metadata": {
    "id": "VTQaLIDgibc2"
   },
   "source": [
    "Dataset dibagi 80% data training dan 20% testing."
   ]
  },
  {
   "cell_type": "code",
   "execution_count": 106,
   "metadata": {
    "id": "_Lb-8REDj2cy"
   },
   "outputs": [],
   "source": [
    "# Membagi dataset untuk training dan Testing\n",
    "fitur_train, fitur_test, target_train, target_test = train_test_split(fitur, target, test_size=0.2, random_state=12345, stratify=target)"
   ]
  },
  {
   "cell_type": "markdown",
   "metadata": {
    "id": "Fusv5qimidGA"
   },
   "source": [
    "Dataset telah dibagi menjadi training dan testing, selanjutnya training dibagi lagi untuk mendapatkan validation data sebanyak 25% dari data training."
   ]
  },
  {
   "cell_type": "code",
   "execution_count": 107,
   "metadata": {
    "id": "OHzhZvaxiKuB"
   },
   "outputs": [],
   "source": [
    "# Membagi data training dengan data validation\n",
    "fitur_train, fitur_valid, target_train, target_valid = train_test_split(fitur_train, target_train, test_size = 0.25, random_state = 12345, stratify=target_train)"
   ]
  },
  {
   "cell_type": "code",
   "execution_count": 108,
   "metadata": {
    "colab": {
     "base_uri": "https://localhost:8080/"
    },
    "id": "jPQpDTnDk4nK",
    "outputId": "b1453418-4a02-4183-e2f8-573293cec59d"
   },
   "outputs": [
    {
     "name": "stdout",
     "output_type": "stream",
     "text": [
      "Ukuran dari Fitur Train 6000 dengan persentase 60.0 %\n",
      "Ukuran dari Target Train 6000 dengan persentase 60.0 %\n",
      "Ukuran dari Fitur_Test 2000 dengan persentase 20.0 %\n",
      "Ukuran dari Target_Test 2000 dengan persentase 20.0 %\n",
      "Ukuran dari Fitur Valid 2000 dengan persentase 20.0 %\n",
      "Ukuran dari Target Valid 2000 dengan persentase 20.0 %\n"
     ]
    }
   ],
   "source": [
    "# Membuat nama dataset\n",
    "target_train.name = 'Target Train'\n",
    "fitur_train.name = 'Fitur Train'\n",
    "fitur_test.name = 'Fitur_Test'\n",
    "target_test.name = 'Target_Test'\n",
    "target_valid.name = 'Target Valid'\n",
    "fitur_valid.name = 'Fitur Valid'\n",
    "\n",
    "\n",
    "# Menampilkan ukuran dan persentase dataset secara keseluruhan\n",
    "for dataset in [fitur_train, target_train, fitur_test, target_test, fitur_valid, target_valid]:\n",
    "  print('Ukuran dari', dataset.name, dataset.shape[0],'dengan persentase' ,np.round(dataset.shape[0]/len(data)*100),'%')"
   ]
  },
  {
   "cell_type": "markdown",
   "metadata": {},
   "source": [
    "<div class=\"alert alert-success\">\n",
    "<b>Chamdani's comment v.1</b> <a class=\"tocSkip\"></a>\n",
    "\n",
    "Bagus, semua berjalan lancar.\n",
    "\n",
    "</div>"
   ]
  },
  {
   "cell_type": "markdown",
   "metadata": {
    "id": "MSfKOocgmWTo"
   },
   "source": [
    "# 5 Pemodelan Data"
   ]
  },
  {
   "cell_type": "markdown",
   "metadata": {
    "id": "tRzX0py8_PYX"
   },
   "source": [
    "Pada tahap analisis data, ditemukan bahwa model tidak seimbang antara nasabah yang keluar dan bertahan sekitar 1:4. Ketidakseimbangna ini akan mempengaruhi model. Namun pemodelan awal akan dilakukan tanpa memperhitungkan keseimbangan model dan selanjutnya ketidakseimbangan ini diperbaiki untuk model yang lebih baik. Sesuai dengan deskripsi proyek skor F1 minimal yang diharapkan 0.59.\n"
   ]
  },
  {
   "cell_type": "markdown",
   "metadata": {
    "id": "mnESmtH6XC2w"
   },
   "source": [
    "## 5.1 Model Tanpa Memperhitungkan Keseimbangan"
   ]
  },
  {
   "cell_type": "markdown",
   "metadata": {
    "id": "6O2z0Cncw8UU"
   },
   "source": [
    "### 5.1.1 Logistic Regression"
   ]
  },
  {
   "cell_type": "code",
   "execution_count": 109,
   "metadata": {
    "colab": {
     "base_uri": "https://localhost:8080/"
    },
    "id": "m_aZ0V3v_nuv",
    "outputId": "3f2bbf17-952c-4789-889c-10f5775d1937"
   },
   "outputs": [
    {
     "name": "stdout",
     "output_type": "stream",
     "text": [
      "F1 score: 0.07\n"
     ]
    }
   ],
   "source": [
    "# Logistic Regression tanpa memperhitungkan keseimbangan\n",
    "LR = LogisticRegression(random_state=12345)\n",
    "LR.fit(fitur_train,target_train)\n",
    "lr_f1 = f1_score(target_valid, LR.predict(fitur_valid))\n",
    "print('F1 score:' , round(lr_f1,2))"
   ]
  },
  {
   "cell_type": "markdown",
   "metadata": {
    "id": "pxN0E-tnZfbb"
   },
   "source": [
    "### 5.1.2 Decision Tree Classifier"
   ]
  },
  {
   "cell_type": "code",
   "execution_count": 110,
   "metadata": {
    "colab": {
     "base_uri": "https://localhost:8080/"
    },
    "id": "pAoCDoZ5Z2K9",
    "outputId": "a281c0fb-a3fd-4da2-ff83-0c0b92c6c0cd"
   },
   "outputs": [
    {
     "name": "stdout",
     "output_type": "stream",
     "text": [
      "F1 score: 0.46\n"
     ]
    }
   ],
   "source": [
    "# Decision Tree tanpa memperhitungkan keseimbangan\n",
    "DT = DecisionTreeClassifier(random_state=12345)\n",
    "DT.fit(fitur_train,target_train)\n",
    "dt_f1 = f1_score(target_valid, DT.predict(fitur_valid))\n",
    "print('F1 score:' ,round(dt_f1,2))"
   ]
  },
  {
   "cell_type": "markdown",
   "metadata": {
    "id": "NutqhnagZlS3"
   },
   "source": [
    "### 5.1.3 Random Forest Classifier"
   ]
  },
  {
   "cell_type": "code",
   "execution_count": 111,
   "metadata": {
    "colab": {
     "base_uri": "https://localhost:8080/"
    },
    "id": "22R_NErdYloP",
    "outputId": "88ea6965-26c7-468c-b133-a9dd686324e6"
   },
   "outputs": [
    {
     "name": "stdout",
     "output_type": "stream",
     "text": [
      "F1 score: 0.52\n"
     ]
    }
   ],
   "source": [
    "# Random Forest tanpa memperhitungkan keseimbangan\n",
    "RF = RandomForestClassifier(random_state=12345)\n",
    "RF.fit(fitur_train,target_train)\n",
    "rf_f1 = f1_score(target_valid, RF.predict(fitur_valid))\n",
    "print('F1 score:' ,round(rf_f1,2))"
   ]
  },
  {
   "cell_type": "markdown",
   "metadata": {
    "id": "2-EVdMKad2QI"
   },
   "source": [
    "Dari ketiga model diatas nilai F1 Score tidak mencapai minimum nilai 0.59 yang diharapkan, dengan demikian diperlukan perbaikan untuk keseimbangan. Namun terlihat bahwa Random Forest memiliki nilai yang paling F1 Score yang paling baik dan mendekati nilai harapan."
   ]
  },
  {
   "cell_type": "markdown",
   "metadata": {},
   "source": [
    "<div class=\"alert alert-success\">\n",
    "<b>Chamdani's comment v.1</b> <a class=\"tocSkip\"></a>\n",
    "\n",
    "Bagus, semua berjalan lancar.\n",
    "\n",
    "</div>"
   ]
  },
  {
   "cell_type": "markdown",
   "metadata": {
    "id": "qerezQdDmj7g"
   },
   "source": [
    "##5.2 Model dengan Perbaikan Keseimbangan dan Hyperparameter Tuning"
   ]
  },
  {
   "cell_type": "markdown",
   "metadata": {
    "id": "BxnCQlgOh3hg"
   },
   "source": [
    "Untuk memperbaiki ketidakseimbangan, berikut ini ada 3 metode yang akan digunakan:\n",
    "* Class Weight Adjustment\n",
    "* UpSampling\n",
    "* Downsampling"
   ]
  },
  {
   "cell_type": "markdown",
   "metadata": {
    "id": "0BMa65ubmmE2"
   },
   "source": [
    "###5.2.1 Class Weight Adjustment"
   ]
  },
  {
   "cell_type": "markdown",
   "metadata": {
    "id": "Fi1w_SuaizD4"
   },
   "source": [
    "#### 5.2.1.1 Logistic Regression"
   ]
  },
  {
   "cell_type": "code",
   "execution_count": 112,
   "metadata": {
    "colab": {
     "base_uri": "https://localhost:8080/"
    },
    "id": "41gcJlZWDGF4",
    "outputId": "0a54ebd5-c6dc-4782-8e69-20f044acd0ac"
   },
   "outputs": [
    {
     "name": "stdout",
     "output_type": "stream",
     "text": [
      "F1 Score terbaik adalah 0.07 dengan C = 0.01 dan penalty = l1\n"
     ]
    }
   ],
   "source": [
    "# Menggunakan parameter class_weight(balanced) dan hyperparameter tuning\n",
    "list_lr = []\n",
    "for penalty in ['l1', 'l2']:\n",
    "    for C in np.arange(0.01,1,0.01):\n",
    "        logistic_regression = LogisticRegression(solver=\"liblinear\", penalty=penalty, class_weight='balanced', C=C, random_state=12345)\n",
    "        logistic_regression.fit(fitur_train, target_train)     \n",
    "        target_pred = LR.predict(fitur_valid)\n",
    "        LR_balanced = f1_score(target_valid,target_pred)\n",
    "        list_lr.append(\n",
    "            {\n",
    "                'penalty': penalty,\n",
    "                'C': C,\n",
    "                'LR_balanced':  LR_balanced\n",
    "            }\n",
    "        )\n",
    "\n",
    "# Mengubah list ke bentuk dataframe untuk menyederhanakan pengambilan hasil\n",
    "lr_set = pd.DataFrame(list_lr).nlargest(1,['LR_balanced'],keep='first')\n",
    "lr_set\n",
    "lr_weight_f1 = round(lr_set['LR_balanced'].values.item(),2)\n",
    "best_C = round(lr_set['C'].item(),2)\n",
    "best_penalty = lr_set['penalty'].values.item()\n",
    "\n",
    "# Menampilkan nilai F1 dan nilai parameter terbaiknya\n",
    "print('F1 Score terbaik adalah', lr_weight_f1, 'dengan C =', best_C, 'dan penalty =',best_penalty )"
   ]
  },
  {
   "cell_type": "markdown",
   "metadata": {},
   "source": [
    "<div class=\"alert alert-success\">\n",
    "<b>Chamdani's comment v.1</b> <a class=\"tocSkip\"></a>\n",
    "\n",
    "Bagus, semua berjalan lancar.\n",
    "\n",
    "</div>"
   ]
  },
  {
   "cell_type": "markdown",
   "metadata": {
    "id": "18bfVNMVjVYg"
   },
   "source": [
    "#### 5.2.1.2 Decision Tree Classifier"
   ]
  },
  {
   "cell_type": "code",
   "execution_count": 113,
   "metadata": {
    "colab": {
     "base_uri": "https://localhost:8080/"
    },
    "id": "ZU7xraSAis_Q",
    "outputId": "3d61aa4e-eecf-4b5b-aa16-a2fd80b6d967"
   },
   "outputs": [
    {
     "name": "stdout",
     "output_type": "stream",
     "text": [
      "F1 Score terbaik adalah 0.57 dengan kedalaman = 5\n"
     ]
    }
   ],
   "source": [
    "# Menggunakan parameter class_weight(balanced) dan hyperparameter tuning\n",
    "list_dt = []\n",
    "for depth in range(1,10):\n",
    "    decision_tree = DecisionTreeClassifier(class_weight='balanced', random_state=12345, max_depth=depth)\n",
    "    decision_tree.fit(fitur_train, target_train)\n",
    "    DT_balanced = round(f1_score(target_valid,decision_tree.predict(fitur_valid)), 2)\n",
    "    list_dt.append(\n",
    "        {\n",
    "            'max_depth': depth,\n",
    "            'DT_balanced':  DT_balanced\n",
    "          }\n",
    "     )\n",
    "# Mengubah list ke bentuk dataframe untuk menyederhanakan pengambilan hasil\n",
    "dt_set = pd.DataFrame(list_dt).nlargest(1, ['DT_balanced'], keep='first')\n",
    "\n",
    "# Menentukan nilai parameter terbaik\n",
    "best_depth = dt_set['max_depth'].item()\n",
    "dt_weight_f1 = dt_set['DT_balanced'].item()\n",
    "\n",
    "# Menampilkan nilai F1 dan nilai parameter terbaiknya\n",
    "print('F1 Score terbaik adalah', dt_weight_f1, 'dengan kedalaman =', best_depth )"
   ]
  },
  {
   "cell_type": "markdown",
   "metadata": {},
   "source": [
    "<div class=\"alert alert-success\">\n",
    "<b>Chamdani's comment v.1</b> <a class=\"tocSkip\"></a>\n",
    "\n",
    "Bagus, semua berjalan lancar.\n",
    "\n",
    "</div>"
   ]
  },
  {
   "cell_type": "markdown",
   "metadata": {
    "id": "29MxlZ_xiDT6"
   },
   "source": [
    "####5.2.1.3 Random Forest Classifier"
   ]
  },
  {
   "cell_type": "code",
   "execution_count": 114,
   "metadata": {
    "colab": {
     "base_uri": "https://localhost:8080/"
    },
    "id": "WSoyPEeQAEdk",
    "outputId": "6ffa186f-b147-4689-b3fd-e79ff64e42ac"
   },
   "outputs": [
    {
     "name": "stdout",
     "output_type": "stream",
     "text": [
      "F1 Score terbaik adalah 0.59 dengan kedalaman = 8 dan n_estimator = 46\n"
     ]
    }
   ],
   "source": [
    "# Menggunakan parameter class_weight(balanced) dan hyperparameter tuning\n",
    "list_rf = []\n",
    "for est in range(1,51,9):\n",
    "    for depth in range(1,10):\n",
    "        random_forest = RandomForestClassifier(random_state=12345, n_estimators=est, max_depth=depth, class_weight='balanced')\n",
    "        random_forest.fit(fitur_train, target_train)\n",
    "        RF_balanced = f1_score(target_valid,random_forest.predict(fitur_valid))\n",
    "        list_rf.append(\n",
    "            {               \n",
    "                'RF_balanced':  RF_balanced,\n",
    "                'max_depth': depth,\n",
    "                'n_estimators': est\n",
    "            }\n",
    "        )\n",
    "\n",
    "# Mengubah list ke bentuk dataframe untuk menyederhanakan pengambilan hasil\n",
    "rf_set = pd.DataFrame(list_rf).nlargest(1, ['RF_balanced'], keep='first')\n",
    "\n",
    "# Menentukan nilai parameter terbaik\n",
    "best_depth = rf_set['max_depth'].item()\n",
    "rf_weight_f1 = round(rf_set['RF_balanced'].item(),2)\n",
    "best_estimator = rf_set['n_estimators'].item()\n",
    "\n",
    "# Menampilkan nilai F1 dan nilai parameter terbaiknya\n",
    "print('F1 Score terbaik adalah', rf_weight_f1, 'dengan kedalaman =', best_depth, 'dan n_estimator =',best_estimator )"
   ]
  },
  {
   "cell_type": "markdown",
   "metadata": {},
   "source": [
    "<div class=\"alert alert-success\">\n",
    "<b>Chamdani's comment v.1</b> <a class=\"tocSkip\"></a>\n",
    "\n",
    "Bagus, semua berjalan lancar.\n",
    "\n",
    "</div>"
   ]
  },
  {
   "cell_type": "markdown",
   "metadata": {
    "id": "94ewiYcBmoMk"
   },
   "source": [
    "###5.2.2 Upsampling"
   ]
  },
  {
   "cell_type": "code",
   "execution_count": 115,
   "metadata": {
    "id": "hcWheqEyrjHd"
   },
   "outputs": [],
   "source": [
    "# Membuat fungsi untuk model Upsampling\n",
    "def upsample(features, target, repeat):\n",
    "    features_zeros = features[target == 0]\n",
    "    features_ones = features[target == 1]\n",
    "    target_zeros = target[target == 0]\n",
    "    target_ones = target[target == 1]\n",
    "\n",
    "    features_upsampled = pd.concat([features_zeros] + [features_ones] * repeat)\n",
    "    target_upsampled = pd.concat([target_zeros] + [target_ones] * repeat)\n",
    "\n",
    "    features_upsampled, target_upsampled = shuffle(features_upsampled, target_upsampled, random_state=12345)\n",
    "\n",
    "    return features_upsampled, target_upsampled\n",
    "\n",
    "features_train_upsampled, target_train_upsampled  = upsample(fitur_train, target_train, 4)"
   ]
  },
  {
   "cell_type": "markdown",
   "metadata": {
    "id": "J4_5BCYrrCIT"
   },
   "source": [
    "####5.2.2.1 Logistic Regression"
   ]
  },
  {
   "cell_type": "code",
   "execution_count": 116,
   "metadata": {
    "colab": {
     "base_uri": "https://localhost:8080/"
    },
    "id": "7tzYc51VsRsZ",
    "outputId": "fc097e67-f4c9-4480-9af9-7a66458a8b04"
   },
   "outputs": [
    {
     "name": "stdout",
     "output_type": "stream",
     "text": [
      "F1 Score terbaik adalah 48.73 dengan C = 0.05 dan penalty = l1\n"
     ]
    }
   ],
   "source": [
    "# Menggunakan metode upsampling dan hyperparameter tuning pada model\n",
    "list_lr = []\n",
    "for penalty in ['l1', 'l2']:\n",
    "    for C in np.arange(0.01,1,0.01):\n",
    "        logistic_regression = LogisticRegression(solver=\"liblinear\", penalty=penalty, C=C, random_state=12345)\n",
    "        logistic_regression.fit(features_train_upsampled, target_train_upsampled)\n",
    "        LR_upsampled = round(f1_score(target_valid,logistic_regression.predict(fitur_valid))* 100, 2)\n",
    "        list_lr.append(\n",
    "            {\n",
    "                'penalty': penalty,\n",
    "                'C': C,\n",
    "                'LR_upsampled':  LR_upsampled\n",
    "            }\n",
    "        )\n",
    "\n",
    "# Mengubah list ke bentuk dataframe untuk menyederhanakan pengambilan hasil\n",
    "lr_set = pd.DataFrame(list_lr).nlargest(1,['LR_upsampled'],keep='first')\n",
    "\n",
    "# Menentukan nilai parameter terbaik\n",
    "lr_up_f1 = round(lr_set['LR_upsampled'].values.item(),2)\n",
    "best_C = round(lr_set['C'].item(),2)\n",
    "best_penalty = lr_set['penalty'].values.item()\n",
    "\n",
    "# Menampilkan nilai F1 dan nilai parameter terbaiknya\n",
    "print('F1 Score terbaik adalah', lr_up_f1, 'dengan C =', best_C, 'dan penalty =',best_penalty )"
   ]
  },
  {
   "cell_type": "markdown",
   "metadata": {
    "id": "Gsd90ZNcrCQw"
   },
   "source": [
    "####5.2.2.2 Decision Tree Classifier"
   ]
  },
  {
   "cell_type": "code",
   "execution_count": 117,
   "metadata": {
    "colab": {
     "base_uri": "https://localhost:8080/"
    },
    "id": "KLXiVVoNt4pf",
    "outputId": "00131b49-3a1b-4056-c094-a74ffcf85f4c"
   },
   "outputs": [
    {
     "name": "stdout",
     "output_type": "stream",
     "text": [
      "F1 Score terbaik adalah 57.64 dengan kedalaman = 5\n"
     ]
    }
   ],
   "source": [
    "# Menggunakan metode upsampling dan hyperparameter tuning pada model\n",
    "list_dt = []\n",
    "for depth in range(1,10):\n",
    "    decision_tree = DecisionTreeClassifier(random_state=12345, max_depth=depth)\n",
    "    decision_tree.fit(features_train_upsampled, target_train_upsampled)\n",
    "    DT_upsampled = round(f1_score(target_valid,decision_tree.predict(fitur_valid)) * 100, 2)\n",
    "    list_dt.append(\n",
    "        {\n",
    "            'max_depth': depth,\n",
    "            'DT_upsampled':  DT_upsampled\n",
    "          }\n",
    "     )\n",
    "\n",
    "\n",
    "# Mengubah list ke bentuk dataframe untuk menyederhanakan pengambilan hasil\n",
    "dt_set = pd.DataFrame(list_dt).nlargest(1, ['DT_upsampled'], keep='first')\n",
    "\n",
    "# Menentukan nilai parameter terbaik\n",
    "dt_up_f1 = dt_set['DT_upsampled'].item()\n",
    "best_depth = dt_set['max_depth'].item()\n",
    "\n",
    "# Menampilkan nilai F1 dan nilai parameter terbaiknya\n",
    "print('F1 Score terbaik adalah', dt_up_f1, 'dengan kedalaman =', best_depth )"
   ]
  },
  {
   "cell_type": "markdown",
   "metadata": {
    "id": "okOoFf47rCXk"
   },
   "source": [
    "####5.2.2.3 Random Forest Classifier"
   ]
  },
  {
   "cell_type": "code",
   "execution_count": 118,
   "metadata": {
    "colab": {
     "base_uri": "https://localhost:8080/"
    },
    "id": "JYEBsmFFwwhM",
    "outputId": "4922f508-d7d2-40b1-bee1-852d2c7e2bce"
   },
   "outputs": [
    {
     "name": "stdout",
     "output_type": "stream",
     "text": [
      "F1 Score terbaik adalah 58.99 dengan kedalaman = 8 dan n_estimator = 19\n"
     ]
    }
   ],
   "source": [
    "# Menggunakan metode upsampling dan hyperparameter tuning pada model\n",
    "list_rf = []\n",
    "for est in range(1,51,9):\n",
    "    for depth in range(1,10):\n",
    "        random_forest = RandomForestClassifier(random_state=12345, n_estimators=est, max_depth=depth)\n",
    "        random_forest.fit(features_train_upsampled, target_train_upsampled)\n",
    "        RF_upsampled = round(f1_score(target_valid,random_forest.predict(fitur_valid)) * 100, 2)\n",
    "        list_rf.append(\n",
    "            {\n",
    "                'n_estimators': est,\n",
    "                'max_depth': depth,\n",
    "                'RF_upsampled':  RF_upsampled\n",
    "            }\n",
    "        )\n",
    "# Mengubah list ke bentuk dataframe untuk menyederhanakan pengambilan hasil\n",
    "rf_set = pd.DataFrame(list_rf).nlargest(1, ['RF_upsampled'], keep='first')\n",
    "\n",
    "# Menentukan nilai parameter terbaik\n",
    "best_depth = rf_set['max_depth'].item()\n",
    "rf_up_f1 = round(rf_set['RF_upsampled'].item(),2)\n",
    "best_estimator = rf_set['n_estimators'].item()\n",
    "\n",
    "# Menampilkan nilai F1 dan nilai parameter terbaiknya\n",
    "print('F1 Score terbaik adalah', rf_up_f1, 'dengan kedalaman =', best_depth, 'dan n_estimator =',best_estimator )"
   ]
  },
  {
   "cell_type": "markdown",
   "metadata": {},
   "source": [
    "<div class=\"alert alert-success\">\n",
    "<b>Chamdani's comment v.1</b> <a class=\"tocSkip\"></a>\n",
    "\n",
    "Bagus, semua berjalan lancar.\n",
    "\n",
    "</div>"
   ]
  },
  {
   "cell_type": "markdown",
   "metadata": {
    "id": "gvdRv39hil0C"
   },
   "source": [
    "### 5.2.3 Downsampling"
   ]
  },
  {
   "cell_type": "code",
   "execution_count": 119,
   "metadata": {
    "id": "gWWtjg2g9MnO"
   },
   "outputs": [],
   "source": [
    "# Membuat fungsi untuk model Upsampling\n",
    "def downsample(features, target, fraction):\n",
    "    features_zeros = features[target == 0]\n",
    "    features_ones = features[target == 1]\n",
    "    target_zeros = target[target == 0]\n",
    "    target_ones = target[target == 1]\n",
    "\n",
    "    features_downsampled = pd.concat([features_zeros.sample(frac=fraction, random_state=12345)] + [features_ones])\n",
    "    target_downsampled = pd.concat([target_zeros.sample(frac=fraction, random_state=12345)] + [target_ones])\n",
    "    \n",
    "    features_downsampled, target_downsampled = shuffle(features_downsampled, target_downsampled, random_state=12345)\n",
    "    \n",
    "    return features_downsampled, target_downsampled\n",
    "\n",
    "features_train_downsampled, target_train_downsampled = downsample(fitur_train, target_train, 0.4)"
   ]
  },
  {
   "cell_type": "markdown",
   "metadata": {
    "id": "RvODHp3w8tcT"
   },
   "source": [
    "#### 5.2.3.1 Logistic Regression"
   ]
  },
  {
   "cell_type": "code",
   "execution_count": 120,
   "metadata": {
    "colab": {
     "base_uri": "https://localhost:8080/"
    },
    "id": "Q3pIO74H9fHk",
    "outputId": "908894c4-3648-4123-9541-94a758e8546b"
   },
   "outputs": [
    {
     "name": "stdout",
     "output_type": "stream",
     "text": [
      "F1 Score terbaik adalah 48.1 dengan C = 0.2 dan penalty = l1\n"
     ]
    }
   ],
   "source": [
    "# Menggunakan metode downsampling dan hyperparameter tuning pada model\n",
    "list_lr = []\n",
    "for penalty in ['l1', 'l2']:\n",
    "    for C in np.arange(0.01,1,0.01):\n",
    "        logistic_regression = LogisticRegression(solver=\"liblinear\", penalty=penalty, C=C, random_state=12345)\n",
    "        logistic_regression.fit(features_train_downsampled, target_train_downsampled)\n",
    "        LR_downsampled = round(f1_score(target_valid,logistic_regression.predict(fitur_valid)) * 100, 2)\n",
    "        list_lr.append(\n",
    "            {\n",
    "                'penalty': penalty,\n",
    "                'C': C,\n",
    "                'LR_downsampled':  LR_downsampled\n",
    "            }\n",
    "        )\n",
    "\n",
    "# Mengubah list ke bentuk dataframe untuk menyederhanakan pengambilan hasil\n",
    "lr_set = pd.DataFrame(list_lr).nlargest(1, ['LR_downsampled'], keep='first')\n",
    "\n",
    "# Menentukan nilai parameter terbaik\n",
    "lr_down_f1 = round(lr_set['LR_downsampled'].values.item(),2)\n",
    "best_C = round(lr_set['C'].item(),2)\n",
    "best_penalty = lr_set['penalty'].values.item()\n",
    "\n",
    "# Menampilkan nilai F1 dan nilai parameter terbaiknya\n",
    "print('F1 Score terbaik adalah', lr_down_f1, 'dengan C =', best_C, 'dan penalty =',best_penalty )"
   ]
  },
  {
   "cell_type": "markdown",
   "metadata": {
    "id": "TUO0QaFL8vnV"
   },
   "source": [
    "#### 5.2.3.2 Decision Tree Classifier"
   ]
  },
  {
   "cell_type": "code",
   "execution_count": 121,
   "metadata": {
    "colab": {
     "base_uri": "https://localhost:8080/"
    },
    "id": "eEylu89B_HEI",
    "outputId": "78a62272-756c-4e27-f478-7b0a79aa495e"
   },
   "outputs": [
    {
     "name": "stdout",
     "output_type": "stream",
     "text": [
      "F1 Score terbaik adalah 59.23 dengan C = 0.2 dan penalty = l1\n"
     ]
    }
   ],
   "source": [
    "# Menggunakan metode downsampling dan hyperparameter tuning pada model\n",
    "list_dt = []\n",
    "for depth in range(1,10):\n",
    "    decision_tree = DecisionTreeClassifier(random_state=12345, max_depth=depth)\n",
    "    decision_tree.fit(features_train_downsampled, target_train_downsampled)\n",
    "    DT_downsampled = round(f1_score(target_valid,decision_tree.predict(fitur_valid)) * 100, 2)\n",
    "    list_dt.append(\n",
    "        {\n",
    "            'max_depth': depth,\n",
    "            'DT_downsampled':  DT_downsampled\n",
    "          }\n",
    "     )\n",
    "\n",
    "\n",
    "# Mengubah list ke bentuk dataframe untuk menyederhanakan pengambilan hasil\n",
    "dt_set = pd.DataFrame(list_dt).nlargest(1, ['DT_downsampled'], keep='first')\n",
    "\n",
    "# Menentukan nilai parameter terbaik\n",
    "dt_down_f1 = dt_set['DT_downsampled'].item()\n",
    "best_depth = dt_set['max_depth'].item()\n",
    "\n",
    "# Menampilkan nilai F1 dan nilai parameter terbaiknya\n",
    "print('F1 Score terbaik adalah', dt_down_f1, 'dengan C =', best_C, 'dan penalty =',best_penalty )"
   ]
  },
  {
   "cell_type": "markdown",
   "metadata": {
    "id": "iVWH9t_g8vv3"
   },
   "source": [
    "#### 5.2.3.3 Random Forest Classifier"
   ]
  },
  {
   "cell_type": "code",
   "execution_count": 122,
   "metadata": {
    "colab": {
     "base_uri": "https://localhost:8080/"
    },
    "id": "hUKRMMkFmHPC",
    "outputId": "9ec20a52-4f50-43dd-d759-8ca049a0cf82"
   },
   "outputs": [
    {
     "name": "stdout",
     "output_type": "stream",
     "text": [
      "F1 Score terbaik adalah 61.01 dengan kedalaman = 7 dan n_estimator = 19\n"
     ]
    }
   ],
   "source": [
    "# Menggunakan metode downsampling dan hyperparameter tuning pada model\n",
    "list_rf = []\n",
    "for estim in range(1,51,9):\n",
    "    for depth in range(1,10):\n",
    "        random_forest = RandomForestClassifier(random_state=12345, n_estimators=estim, max_depth=depth)\n",
    "        random_forest.fit(features_train_downsampled, target_train_downsampled)\n",
    "        RF_downsampled = round(f1_score(target_valid,random_forest.predict(fitur_valid)) * 100, 2)\n",
    "        list_rf.append(\n",
    "            {\n",
    "                'n_estimators': estim,\n",
    "                'max_depth': depth,\n",
    "                'RF_downsampled':  RF_downsampled\n",
    "            }\n",
    "        )\n",
    "\n",
    "# Mengubah list ke bentuk dataframe untuk menyederhanakan pengambilan hasil\n",
    "rf_set = pd.DataFrame(list_rf).nlargest(1, ['RF_downsampled'], keep='first')\n",
    "\n",
    "# Menentukan nilai parameter terbaik\n",
    "best_depth = rf_set['max_depth'].item()\n",
    "rf_down_f1 = round(rf_set['RF_downsampled'].item(),2)\n",
    "best_estimator = rf_set['n_estimators'].item()\n",
    "\n",
    "# Menampilkan nilai F1 dan nilai parameter terbaiknya\n",
    "print('F1 Score terbaik adalah', rf_down_f1, 'dengan kedalaman =', best_depth, 'dan n_estimator =',best_estimator )"
   ]
  },
  {
   "cell_type": "markdown",
   "metadata": {},
   "source": [
    "<div class=\"alert alert-success\">\n",
    "<b>Chamdani's comment v.1</b> <a class=\"tocSkip\"></a>\n",
    "\n",
    "Bagus, semua berjalan lancar.\n",
    "\n",
    "</div>"
   ]
  },
  {
   "cell_type": "markdown",
   "metadata": {
    "id": "BMNTQ5TuCiN-"
   },
   "source": [
    "## 5.3 Hasil Perbandingan F1 Score pada berbagai Model"
   ]
  },
  {
   "cell_type": "code",
   "execution_count": 123,
   "metadata": {
    "colab": {
     "base_uri": "https://localhost:8080/",
     "height": 143
    },
    "id": "bekHoiU5Datm",
    "outputId": "60090e09-108f-4f42-9efa-bb1551bf42d2"
   },
   "outputs": [
    {
     "data": {
      "text/html": [
       "\n",
       "  <div id=\"df-1f25d88e-b18e-4d53-9006-2dd0f751c7b6\">\n",
       "    <div class=\"colab-df-container\">\n",
       "      <div>\n",
       "<style scoped>\n",
       "    .dataframe tbody tr th:only-of-type {\n",
       "        vertical-align: middle;\n",
       "    }\n",
       "\n",
       "    .dataframe tbody tr th {\n",
       "        vertical-align: top;\n",
       "    }\n",
       "\n",
       "    .dataframe thead th {\n",
       "        text-align: right;\n",
       "    }\n",
       "</style>\n",
       "<table border=\"1\" class=\"dataframe\">\n",
       "  <thead>\n",
       "    <tr style=\"text-align: right;\">\n",
       "      <th></th>\n",
       "      <th>imbalanced</th>\n",
       "      <th>balanced</th>\n",
       "      <th>upsampled</th>\n",
       "      <th>downsampled</th>\n",
       "    </tr>\n",
       "  </thead>\n",
       "  <tbody>\n",
       "    <tr>\n",
       "      <th>logistic_regression</th>\n",
       "      <td>0.072235</td>\n",
       "      <td>0.07</td>\n",
       "      <td>48.73</td>\n",
       "      <td>48.10</td>\n",
       "    </tr>\n",
       "    <tr>\n",
       "      <th>decicion_tree</th>\n",
       "      <td>0.457921</td>\n",
       "      <td>0.57</td>\n",
       "      <td>57.64</td>\n",
       "      <td>59.23</td>\n",
       "    </tr>\n",
       "    <tr>\n",
       "      <th>random_forest</th>\n",
       "      <td>0.516640</td>\n",
       "      <td>0.59</td>\n",
       "      <td>58.99</td>\n",
       "      <td>61.01</td>\n",
       "    </tr>\n",
       "  </tbody>\n",
       "</table>\n",
       "</div>\n",
       "      <button class=\"colab-df-convert\" onclick=\"convertToInteractive('df-1f25d88e-b18e-4d53-9006-2dd0f751c7b6')\"\n",
       "              title=\"Convert this dataframe to an interactive table.\"\n",
       "              style=\"display:none;\">\n",
       "        \n",
       "  <svg xmlns=\"http://www.w3.org/2000/svg\" height=\"24px\"viewBox=\"0 0 24 24\"\n",
       "       width=\"24px\">\n",
       "    <path d=\"M0 0h24v24H0V0z\" fill=\"none\"/>\n",
       "    <path d=\"M18.56 5.44l.94 2.06.94-2.06 2.06-.94-2.06-.94-.94-2.06-.94 2.06-2.06.94zm-11 1L8.5 8.5l.94-2.06 2.06-.94-2.06-.94L8.5 2.5l-.94 2.06-2.06.94zm10 10l.94 2.06.94-2.06 2.06-.94-2.06-.94-.94-2.06-.94 2.06-2.06.94z\"/><path d=\"M17.41 7.96l-1.37-1.37c-.4-.4-.92-.59-1.43-.59-.52 0-1.04.2-1.43.59L10.3 9.45l-7.72 7.72c-.78.78-.78 2.05 0 2.83L4 21.41c.39.39.9.59 1.41.59.51 0 1.02-.2 1.41-.59l7.78-7.78 2.81-2.81c.8-.78.8-2.07 0-2.86zM5.41 20L4 18.59l7.72-7.72 1.47 1.35L5.41 20z\"/>\n",
       "  </svg>\n",
       "      </button>\n",
       "      \n",
       "  <style>\n",
       "    .colab-df-container {\n",
       "      display:flex;\n",
       "      flex-wrap:wrap;\n",
       "      gap: 12px;\n",
       "    }\n",
       "\n",
       "    .colab-df-convert {\n",
       "      background-color: #E8F0FE;\n",
       "      border: none;\n",
       "      border-radius: 50%;\n",
       "      cursor: pointer;\n",
       "      display: none;\n",
       "      fill: #1967D2;\n",
       "      height: 32px;\n",
       "      padding: 0 0 0 0;\n",
       "      width: 32px;\n",
       "    }\n",
       "\n",
       "    .colab-df-convert:hover {\n",
       "      background-color: #E2EBFA;\n",
       "      box-shadow: 0px 1px 2px rgba(60, 64, 67, 0.3), 0px 1px 3px 1px rgba(60, 64, 67, 0.15);\n",
       "      fill: #174EA6;\n",
       "    }\n",
       "\n",
       "    [theme=dark] .colab-df-convert {\n",
       "      background-color: #3B4455;\n",
       "      fill: #D2E3FC;\n",
       "    }\n",
       "\n",
       "    [theme=dark] .colab-df-convert:hover {\n",
       "      background-color: #434B5C;\n",
       "      box-shadow: 0px 1px 3px 1px rgba(0, 0, 0, 0.15);\n",
       "      filter: drop-shadow(0px 1px 2px rgba(0, 0, 0, 0.3));\n",
       "      fill: #FFFFFF;\n",
       "    }\n",
       "  </style>\n",
       "\n",
       "      <script>\n",
       "        const buttonEl =\n",
       "          document.querySelector('#df-1f25d88e-b18e-4d53-9006-2dd0f751c7b6 button.colab-df-convert');\n",
       "        buttonEl.style.display =\n",
       "          google.colab.kernel.accessAllowed ? 'block' : 'none';\n",
       "\n",
       "        async function convertToInteractive(key) {\n",
       "          const element = document.querySelector('#df-1f25d88e-b18e-4d53-9006-2dd0f751c7b6');\n",
       "          const dataTable =\n",
       "            await google.colab.kernel.invokeFunction('convertToInteractive',\n",
       "                                                     [key], {});\n",
       "          if (!dataTable) return;\n",
       "\n",
       "          const docLinkHtml = 'Like what you see? Visit the ' +\n",
       "            '<a target=\"_blank\" href=https://colab.research.google.com/notebooks/data_table.ipynb>data table notebook</a>'\n",
       "            + ' to learn more about interactive tables.';\n",
       "          element.innerHTML = '';\n",
       "          dataTable['output_type'] = 'display_data';\n",
       "          await google.colab.output.renderOutput(dataTable, element);\n",
       "          const docLink = document.createElement('div');\n",
       "          docLink.innerHTML = docLinkHtml;\n",
       "          element.appendChild(docLink);\n",
       "        }\n",
       "      </script>\n",
       "    </div>\n",
       "  </div>\n",
       "  "
      ],
      "text/plain": [
       "                     imbalanced  balanced  upsampled  downsampled\n",
       "logistic_regression    0.072235      0.07      48.73        48.10\n",
       "decicion_tree          0.457921      0.57      57.64        59.23\n",
       "random_forest          0.516640      0.59      58.99        61.01"
      ]
     },
     "execution_count": 123,
     "metadata": {},
     "output_type": "execute_result"
    }
   ],
   "source": [
    "# Menampilkan hasil perbandingan antara F1 pada berbagai Model\n",
    "hasil_f1 = {\n",
    "    'imbalanced':[lr_f1,dt_f1,rf_f1],\n",
    "    'balanced':[lr_weight_f1,dt_weight_f1, rf_weight_f1],\n",
    "    'upsampled':[lr_up_f1,dt_up_f1,rf_up_f1],\n",
    "    'downsampled':[lr_down_f1,dt_down_f1,rf_down_f1]\n",
    "}\n",
    "\n",
    "f1_set = pd.DataFrame(hasil_f1, index=['logistic_regression','decicion_tree','random_forest' ])\n",
    "f1_set"
   ]
  },
  {
   "cell_type": "markdown",
   "metadata": {
    "id": "a-l0sMaAC3Lk"
   },
   "source": [
    "Dari data diatas dapat disimpulkan bahwa hasil terbaik menggunakan model Random Forest Classifier dengan metode downsampled. Dengan demikian, model ini akan digunakan ke tahap berikutnya beserta parameter lainnya."
   ]
  },
  {
   "cell_type": "markdown",
   "metadata": {},
   "source": [
    "<div class=\"alert alert-success\">\n",
    "<b>Chamdani's comment v.1</b> <a class=\"tocSkip\"></a>\n",
    "\n",
    "Bagus, semua berjalan lancar.\n",
    "\n",
    "</div>"
   ]
  },
  {
   "cell_type": "markdown",
   "metadata": {
    "id": "rhi1ThcqIEc_"
   },
   "source": [
    "#6 Memeriksa Kualitas Model dengan Test Set"
   ]
  },
  {
   "cell_type": "code",
   "execution_count": 124,
   "metadata": {
    "colab": {
     "base_uri": "https://localhost:8080/"
    },
    "id": "DjKqgqwPeKe8",
    "outputId": "e25dadf8-5730-4d98-c20a-daa843f7d65c"
   },
   "outputs": [
    {
     "name": "stdout",
     "output_type": "stream",
     "text": [
      "F1 Score test set adalah 60.64\n"
     ]
    }
   ],
   "source": [
    "# Memeriksa Kualitas Model dengan data Test Set menggunakan parameter terbaik\n",
    "\n",
    "random_forest = RandomForestClassifier(random_state=12345, n_estimators=19, max_depth=7)\n",
    "random_forest.fit(features_train_downsampled, target_train_downsampled)\n",
    "\n",
    "rf_test_f1 = round(f1_score(target_test,random_forest.predict(fitur_test)) * 100, 2)\n",
    "rf_test_f1\n",
    "\n",
    "print('F1 Score test set adalah', rf_test_f1)\n",
    "        "
   ]
  },
  {
   "cell_type": "markdown",
   "metadata": {
    "id": "eLR5SbBCpD7D"
   },
   "source": [
    "Nilai F1 Score untuk test set adalah 60.64 sudah melebihi nilai minimum yang diharapkan sebesar 0.59"
   ]
  },
  {
   "cell_type": "markdown",
   "metadata": {
    "id": "n3FOnCtTd6WR"
   },
   "source": [
    "#7 Sanity Check"
   ]
  },
  {
   "cell_type": "markdown",
   "metadata": {
    "id": "sWYpsqecpfji"
   },
   "source": [
    "Sanity Check menggunakan AUC-ROC untuk mengevaluasi model akan bekerja dengan baik pada model acak."
   ]
  },
  {
   "cell_type": "markdown",
   "metadata": {
    "id": "J0e8Ch56qPmc"
   },
   "source": [
    "**AUC ROC**\n",
    "\n",
    "Ukuran Nilai AUC-ROC berada di rentang 0 dan 1, dimana nilai AUC-ROC pada model acak adalah 0.5.\n",
    "\n",
    "Perhitungan Nilai AUC-ROC didasarkan pada kemungkinan bernilai 1, berikut ini perhitungannya:"
   ]
  },
  {
   "cell_type": "code",
   "execution_count": 125,
   "metadata": {
    "colab": {
     "base_uri": "https://localhost:8080/"
    },
    "id": "03FEFg71r382",
    "outputId": "69db091f-45c8-419c-ba27-901a4db797d8"
   },
   "outputs": [
    {
     "data": {
      "text/plain": [
       "84.91"
      ]
     },
     "execution_count": 125,
     "metadata": {},
     "output_type": "execute_result"
    }
   ],
   "source": [
    "probabilities_test = random_forest.predict_proba(fitur_test)\n",
    "probabilities_one_test = probabilities_test[:, 1]\n",
    "\n",
    "auc_roc = round(roc_auc_score(target_test, probabilities_one_test) * 100, 2)\n",
    "auc_roc"
   ]
  },
  {
   "cell_type": "markdown",
   "metadata": {
    "id": "KIZb7VnlwnEs"
   },
   "source": [
    "Nilai AUC-ROC yang didapat sangat tinggi sehingga prediksi model yang benar bisa lebih dari 80%.\n",
    "\n",
    "Kurva ROC menggunakan nilai target dan probabilitas kelas positif, melintasi berbagai ambang batas, dan mengembalikan nilai FPR, nilai TPR, dan thresholds yang dilalui.\n",
    "\n",
    "Untuk model yang selalu menjawab secara acak, kurva ROC adalah garis diagonal dari sudut kiri bawah ke sudut kanan atas. Semakin tinggi kurvanya, semakin besar nilai TPR dan semakin baik kualitas model."
   ]
  },
  {
   "cell_type": "code",
   "execution_count": 126,
   "metadata": {
    "id": "p5sI86ygx22f"
   },
   "outputs": [],
   "source": [
    "fpr, tpr, thresholds = roc_curve(target_test, probabilities_one_test)"
   ]
  },
  {
   "cell_type": "code",
   "execution_count": 127,
   "metadata": {
    "colab": {
     "base_uri": "https://localhost:8080/",
     "height": 472
    },
    "id": "IOHeOuCvyEnc",
    "outputId": "dbdee723-640c-4226-ef91-8380cf7316a1"
   },
   "outputs": [
    {
     "data": {
      "image/png": "[encoded data removed]",
      "text/plain": [
       "<Figure size 640x480 with 1 Axes>"
      ]
     },
     "metadata": {},
     "output_type": "display_data"
    }
   ],
   "source": [
    "plt.figure()\n",
    "plt.plot(fpr, tpr)\n",
    "plt.plot([0, 1], [0, 1], linestyle='--')\n",
    "plt.xlabel('False Positive Rate')\n",
    "plt.ylabel('True Positive Rate')\n",
    "plt.ylim([0.0, 1.0])\n",
    "plt.xlim([0.0, 1.0])\n",
    "plt.title('ROC curve')\n",
    "plt.show()"
   ]
  },
  {
   "cell_type": "markdown",
   "metadata": {
    "id": "lzqAtt3zywId"
   },
   "source": [
    "Dari Kurva diatas peforma model akhir sangat baik dimana kurva ROC jauh lebih besar dari diagonal."
   ]
  },
  {
   "cell_type": "markdown",
   "metadata": {},
   "source": [
    "<div class=\"alert alert-success\">\n",
    "<b>Chamdani's comment v.1</b> <a class=\"tocSkip\"></a>\n",
    "\n",
    "Bagus, semua berjalan lancar.\n",
    "\n",
    "</div>"
   ]
  },
  {
   "cell_type": "markdown",
   "metadata": {
    "id": "O2OJ8skfeEEq"
   },
   "source": [
    "# 8 Kesimpulan Umum"
   ]
  },
  {
   "cell_type": "markdown",
   "metadata": {
    "id": "IF-mN2dtzeaJ"
   },
   "source": [
    "Proyek ini bertujuan untuk memprediksi apakah seorang nasabah akan segera meninggalkan bank atau tidak.\n",
    "\n",
    "Berikut ini kesimpulan berdasarkan langkah-langkah yang telah diambil:\n",
    "1.   Pada pemeriksaan awal, data yang hilang pada kolom Tenure diisi dengan mean dan nama kolom diganti sesuai standar.\n",
    "2. Target hanya memiliki dua nilai sesuai yang diharapkan namun memiliki rasio 1:4. Rasio 1:4 pada target akan menyebabkan ketidakseimbangan pada model sehingga diperlukan beberapa metode untuk mengatasinya.\n",
    "3. Tidak ada korelasi yang kuat antara fitur dengan target pada data numerik. Ada 3 fitur yang memiliki korelasi yang lebih kuat diantara yang lainnya, yakni: age, is_active_member, dan num_of_products.\n",
    "4. Target yang dipilih adalah exited dan fitur-fiturnya adalah credit_score, age, tenure, balance, num_of_products, has_cr_card, is_active_member dan estimated_salary.\n",
    "5. Keseluruhan dataset dibagi menjadi 80% untuk training dan 20% untuk testing. Kemudian 20% dari data training dibagi untuk data validation. Pada proses pembagian data digunakan parameter stratify untuk mengatasi masalah keseimbangan model.\n",
    "6. Pada pemodelan awal digunakan model logistic regression, decission tree classifier dan random forest classifier tanpa memperhitungkan keseimbangan. Hasil F1 Score yang didapat relatif rendah.\n",
    "7. Pemodelan selanjutnya menggunakan 3 metode untuk memperbaiki keseimbangan yakni : class weight adjustment, upsumpled, downsampled pada ketiga model (model logistic regression, decission tree classifier dan random forest classifier). Hasil terbaik didapat menggunakan model Random Forest Classifier dengan metode downsampled.\n",
    "8. Model diuji kembali dengan parameter terbaik sehingga didapat F1 Score sebesar 60.64.\n",
    "9. Sanity Check dilakukan menggunakan AUC-ROC dengan nilai 84.91 yang berarti bahwa predsiksi model yang benar bisa lebih dari 80%.\n",
    "10. Dengan demikian Model ini memiliki kinerja yang cukup baik digunakan untuk memprediksi nasabah yang akan segera meninggalkan bank atau tidak.\n",
    "\n"
   ]
  },
  {
   "cell_type": "markdown",
   "metadata": {},
   "source": [
    "<div class=\"alert alert-success\">\n",
    "<b>Chamdani's comment v.1</b> <a class=\"tocSkip\"></a>\n",
    "\n",
    "Bagus, semua berjalan lancar.\n",
    "\n",
    "</div>"
   ]
  }
 ],
 "metadata": {
  "colab": {
   "provenance": []
  },
  "kernelspec": {
   "display_name": "Python 3 (ipykernel)",
   "language": "python",
   "name": "python3"
  },
  "language_info": {
   "codemirror_mode": {
    "name": "ipython",
    "version": 3
   },
   "file_extension": ".py",
   "mimetype": "text/x-python",
   "name": "python",
   "nbconvert_exporter": "python",
   "pygments_lexer": "ipython3",
   "version": "3.9.5"
  },
  "toc": {
   "base_numbering": 1,
   "nav_menu": {},
   "number_sections": true,
   "sideBar": true,
   "skip_h1_title": true,
   "title_cell": "Table of Contents",
   "title_sidebar": "Contents",
   "toc_cell": false,
   "toc_position": {},
   "toc_section_display": true,
   "toc_window_display": false
  }
 },
 "nbformat": 4,
 "nbformat_minor": 1
}
