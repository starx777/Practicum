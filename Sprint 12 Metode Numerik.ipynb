{
 "cells": [
  {
   "cell_type": "markdown",
   "metadata": {},
   "source": [
    "Hello!\n",
    "\n",
    "Saya senang bisa mereview project Anda hari ini.\n",
    "\n",
    "Ketika Saya melihat error untuk pertama kali, Saya akan menunjukkannya. Saya akan membiarkan Anda menemukan dan memperbaikinya sendiri. Selain itu, dalam keseluruhan notebook, Saya akan mengusulkan beberapa improvisasi yang dapat dilakukan dan juga memberikan komentar terkait persepsi Anda terhadap suatu subject.Tetapi, jika Anda masih tidak dapat menyelesaikan tugas, Saya akan memberikan petunjuk yang lebih presisi di iterasi selanjutnya dan beberapa contoh praktis. Saya terbuka untuk feedbacks dan diskusi terkait topik yang sedang dibahas.\n",
    "\n",
    "Anda akan menemukan beberapa jenis komentar saya sebagai berikut - **tolong jangan dipindah, diedit atau dihapus**.\n",
    "\n",
    "Anda akan menemukan komentar saya dengan warna hijau, kuning dan merah sebagai berikut:\n",
    "\n",
    "<div class=\"alert alert-block alert-success\">\n",
    "<b>Code reviewer's comment</b> <a class=\"tocSkip\"></a>\n",
    "\n",
    "Success. Semua dikerjakan dengan benar.\n",
    "</div>\n",
    "\n",
    "<div class=\"alert alert-block alert-warning\">\n",
    "<b>Code reviewer's comment</b> <a class=\"tocSkip\"></a>\n",
    "\n",
    "Catatan. Beberapa rekomendasi.\n",
    "</div>\n",
    "\n",
    "<div class=\"alert alert-block alert-danger\">\n",
    "\n",
    "<b>Code reviewer's comment</b> <a class=\"tocSkip\"></a>\n",
    "\n",
    "Butuh perbaikan. Cell ini membutuhkan perbaikan. Pengerjaan proyek tidak dapat diterima dengan komentar berwarna merah.\n",
    "</div>\n",
    "\n",
    "Kamu dapat menjawab sebagai berikut:\n",
    "\n",
    "<div class=\"alert alert-block alert-info\">\n",
    "<b>Jawaban student.</b> <a class=\"tocSkip\"></a>\n",
    "</div>"
   ]
  },
  {
   "cell_type": "markdown",
   "metadata": {
    "id": "vjfCYIVwhyqC"
   },
   "source": [
    "# Prediksi Harga Mobil pada Rusty Bargain dengan Gradient Boosting\n",
    "\n",
    "## Deskripsi Proyek\n",
    "Rusty Bargain adalah perusahaan jual beli mobil bekas yang sedang mengembangkan sebuah aplikasi untuk menarik pembeli baru. Dalam aplikasi tersebut, Anda bisa dengan cepat mengetahui nilai pasar mobil Anda. Anda memiliki akses ke data historis, spesifikasi teknis kendaraan, versi model kendaraan, dan harga kendaraan. Tugas Anda adalah membuat suatu model yang mampu menentukan nilai pasar mobil.\n",
    "\n",
    "## Rusty Bargain tertarik pada:\n",
    "\n",
    "- kualitas prediksi;\n",
    "- kecepatan model dalam memprediksi;\n",
    "- waktu yang diperlukan untuk melatih model\n",
    "\n",
    "## Tujuan Proyek\n",
    "Tujuan Proyek ini adalah mengembangkan model yang mampu menenentukan nilai pasar mobil untuk calon pembeli. Secara teknikal, proyek ini mencari metode terbaik dengan membandingkan metode gradient boosting dengan random forest, decision tree, dan regresi linear.\n",
    "\n",
    "## Deskripsi Data\n",
    "\n",
    "**Fitur**\n",
    "* DateCrawled — tanggal ketika profil diunduh dari database\n",
    "* VehicleType — jenis bodi kendaraan\n",
    "* RegistrationYear — tahun registrasi kendaraan\n",
    "* Gearbox — jenis transmisi\n",
    "* Power — daya (hp)\n",
    "* Model — model kendaraan\n",
    "* Mileage — jarak tempuh (diukur dalam satuan km berdasarkan dataset regional tertentu)\n",
    "* RegistrationMonth — bulan registrasi kendaraan\n",
    "* FuelType — jenis bahan bakar\n",
    "* Brand — merek kendaraan\n",
    "* NotRepaired — apakah kendaraan pernah direparasi sebelumnya\n",
    "* DateCreated — tanggal pembuatan profil\n",
    "* NumberOfPictures — jumlah gambar kendaraan\n",
    "* PostalCode — kode pos pemilik profil (pengguna)\n",
    "* LastSeen — tanggal aktivitas terakhir\n",
    "\n",
    "**Target**\n",
    "\n",
    "* Price — harga (dalam satuan Euro)"
   ]
  },
  {
   "cell_type": "markdown",
   "metadata": {},
   "source": [
    "<div class=\"alert alert-block alert-success\">\n",
    "<b>Code reviewer's comment</b> <a class=\"tocSkip\"></a>\n",
    "\n",
    "Success. Narasi awal project disusun dengan baik.\n",
    "</div>"
   ]
  },
  {
   "cell_type": "code",
   "execution_count": 1,
   "metadata": {
    "colab": {
     "base_uri": "https://localhost:8080/"
    },
    "id": "gehv7k7Lq6P5",
    "outputId": "8e2126a8-61ae-4f3c-b5c8-ac3afb789d3e"
   },
   "outputs": [
    {
     "name": "stdout",
     "output_type": "stream",
     "text": [
      "Requirement already satisfied: catboost in /opt/conda/lib/python3.9/site-packages (1.0.3)\n",
      "Requirement already satisfied: numpy>=1.16.0 in /opt/conda/lib/python3.9/site-packages (from catboost) (1.21.1)\n",
      "Requirement already satisfied: six in /opt/conda/lib/python3.9/site-packages (from catboost) (1.16.0)\n",
      "Requirement already satisfied: scipy in /opt/conda/lib/python3.9/site-packages (from catboost) (1.8.0)\n",
      "Requirement already satisfied: graphviz in /opt/conda/lib/python3.9/site-packages (from catboost) (0.20)\n",
      "Requirement already satisfied: plotly in /opt/conda/lib/python3.9/site-packages (from catboost) (5.4.0)\n",
      "Requirement already satisfied: pandas>=0.24.0 in /opt/conda/lib/python3.9/site-packages (from catboost) (1.2.4)\n",
      "Requirement already satisfied: matplotlib in /opt/conda/lib/python3.9/site-packages (from catboost) (3.3.4)\n",
      "Requirement already satisfied: python-dateutil>=2.7.3 in /opt/conda/lib/python3.9/site-packages (from pandas>=0.24.0->catboost) (2.8.1)\n",
      "Requirement already satisfied: pytz>=2017.3 in /opt/conda/lib/python3.9/site-packages (from pandas>=0.24.0->catboost) (2021.1)\n",
      "Requirement already satisfied: kiwisolver>=1.0.1 in /opt/conda/lib/python3.9/site-packages (from matplotlib->catboost) (1.4.2)\n",
      "Requirement already satisfied: pyparsing!=2.0.4,!=2.1.2,!=2.1.6,>=2.0.3 in /opt/conda/lib/python3.9/site-packages (from matplotlib->catboost) (2.4.7)\n",
      "Requirement already satisfied: pillow>=6.2.0 in /opt/conda/lib/python3.9/site-packages (from matplotlib->catboost) (8.4.0)\n",
      "Requirement already satisfied: cycler>=0.10 in /opt/conda/lib/python3.9/site-packages (from matplotlib->catboost) (0.11.0)\n",
      "Requirement already satisfied: tenacity>=6.2.0 in /opt/conda/lib/python3.9/site-packages (from plotly->catboost) (8.0.1)\n"
     ]
    }
   ],
   "source": [
    "# Load Library\n",
    "import pandas as pd\n",
    "import matplotlib\n",
    "import numpy as np\n",
    "from numpy import *\n",
    "import re\n",
    "from time import time\n",
    "\n",
    "from sklearn.linear_model import LinearRegression\n",
    "from sklearn.ensemble import RandomForestRegressor\n",
    "\n",
    "!pip install catboost\n",
    "\n",
    "from catboost import CatBoostRegressor\n",
    "from lightgbm import LGBMRegressor\n",
    "from xgboost import XGBRegressor\n",
    "\n",
    "from sklearn.model_selection import train_test_split\n",
    "from sklearn.preprocessing import StandardScaler as ss\n",
    "from sklearn.metrics import mean_squared_error\n",
    "from sklearn.preprocessing import OrdinalEncoder\n",
    "\n",
    "import matplotlib.pyplot as plt\n",
    "%matplotlib inline\n",
    "\n",
    "import warnings\n",
    "warnings.filterwarnings('ignore')\n",
    "\n",
    "pd.set_option('display.max_rows', None, 'display.max_columns', None)"
   ]
  },
  {
   "cell_type": "markdown",
   "metadata": {
    "id": "vdufWhvuhyqE"
   },
   "source": [
    "## 1 Persiapan Data"
   ]
  },
  {
   "cell_type": "markdown",
   "metadata": {
    "id": "KJWuczzmt5Ll"
   },
   "source": [
    "### 1.1 Ikhtisar Data"
   ]
  },
  {
   "cell_type": "code",
   "execution_count": 2,
   "metadata": {
    "id": "Wm9YObwshyqE"
   },
   "outputs": [],
   "source": [
    "# Menyiapkan dataset\n",
    "df = pd.read_csv('/datasets/car_data.csv')"
   ]
  },
  {
   "cell_type": "code",
   "execution_count": 3,
   "metadata": {
    "colab": {
     "base_uri": "https://localhost:8080/",
     "height": 250
    },
    "id": "4ner4GQHsGNF",
    "outputId": "fede62f8-9356-4c80-e65f-163a3ae78421"
   },
   "outputs": [
    {
     "data": {
      "text/html": [
       "<div>\n",
       "<style scoped>\n",
       "    .dataframe tbody tr th:only-of-type {\n",
       "        vertical-align: middle;\n",
       "    }\n",
       "\n",
       "    .dataframe tbody tr th {\n",
       "        vertical-align: top;\n",
       "    }\n",
       "\n",
       "    .dataframe thead th {\n",
       "        text-align: right;\n",
       "    }\n",
       "</style>\n",
       "<table border=\"1\" class=\"dataframe\">\n",
       "  <thead>\n",
       "    <tr style=\"text-align: right;\">\n",
       "      <th></th>\n",
       "      <th>DateCrawled</th>\n",
       "      <th>Price</th>\n",
       "      <th>VehicleType</th>\n",
       "      <th>RegistrationYear</th>\n",
       "      <th>Gearbox</th>\n",
       "      <th>Power</th>\n",
       "      <th>Model</th>\n",
       "      <th>Mileage</th>\n",
       "      <th>RegistrationMonth</th>\n",
       "      <th>FuelType</th>\n",
       "      <th>Brand</th>\n",
       "      <th>NotRepaired</th>\n",
       "      <th>DateCreated</th>\n",
       "      <th>NumberOfPictures</th>\n",
       "      <th>PostalCode</th>\n",
       "      <th>LastSeen</th>\n",
       "    </tr>\n",
       "  </thead>\n",
       "  <tbody>\n",
       "    <tr>\n",
       "      <th>0</th>\n",
       "      <td>24/03/2016 11:52</td>\n",
       "      <td>480</td>\n",
       "      <td>NaN</td>\n",
       "      <td>1993</td>\n",
       "      <td>manual</td>\n",
       "      <td>0</td>\n",
       "      <td>golf</td>\n",
       "      <td>150000</td>\n",
       "      <td>0</td>\n",
       "      <td>petrol</td>\n",
       "      <td>volkswagen</td>\n",
       "      <td>NaN</td>\n",
       "      <td>24/03/2016 00:00</td>\n",
       "      <td>0</td>\n",
       "      <td>70435</td>\n",
       "      <td>07/04/2016 03:16</td>\n",
       "    </tr>\n",
       "    <tr>\n",
       "      <th>1</th>\n",
       "      <td>24/03/2016 10:58</td>\n",
       "      <td>18300</td>\n",
       "      <td>coupe</td>\n",
       "      <td>2011</td>\n",
       "      <td>manual</td>\n",
       "      <td>190</td>\n",
       "      <td>NaN</td>\n",
       "      <td>125000</td>\n",
       "      <td>5</td>\n",
       "      <td>gasoline</td>\n",
       "      <td>audi</td>\n",
       "      <td>yes</td>\n",
       "      <td>24/03/2016 00:00</td>\n",
       "      <td>0</td>\n",
       "      <td>66954</td>\n",
       "      <td>07/04/2016 01:46</td>\n",
       "    </tr>\n",
       "    <tr>\n",
       "      <th>2</th>\n",
       "      <td>14/03/2016 12:52</td>\n",
       "      <td>9800</td>\n",
       "      <td>suv</td>\n",
       "      <td>2004</td>\n",
       "      <td>auto</td>\n",
       "      <td>163</td>\n",
       "      <td>grand</td>\n",
       "      <td>125000</td>\n",
       "      <td>8</td>\n",
       "      <td>gasoline</td>\n",
       "      <td>jeep</td>\n",
       "      <td>NaN</td>\n",
       "      <td>14/03/2016 00:00</td>\n",
       "      <td>0</td>\n",
       "      <td>90480</td>\n",
       "      <td>05/04/2016 12:47</td>\n",
       "    </tr>\n",
       "    <tr>\n",
       "      <th>3</th>\n",
       "      <td>17/03/2016 16:54</td>\n",
       "      <td>1500</td>\n",
       "      <td>small</td>\n",
       "      <td>2001</td>\n",
       "      <td>manual</td>\n",
       "      <td>75</td>\n",
       "      <td>golf</td>\n",
       "      <td>150000</td>\n",
       "      <td>6</td>\n",
       "      <td>petrol</td>\n",
       "      <td>volkswagen</td>\n",
       "      <td>no</td>\n",
       "      <td>17/03/2016 00:00</td>\n",
       "      <td>0</td>\n",
       "      <td>91074</td>\n",
       "      <td>17/03/2016 17:40</td>\n",
       "    </tr>\n",
       "    <tr>\n",
       "      <th>4</th>\n",
       "      <td>31/03/2016 17:25</td>\n",
       "      <td>3600</td>\n",
       "      <td>small</td>\n",
       "      <td>2008</td>\n",
       "      <td>manual</td>\n",
       "      <td>69</td>\n",
       "      <td>fabia</td>\n",
       "      <td>90000</td>\n",
       "      <td>7</td>\n",
       "      <td>gasoline</td>\n",
       "      <td>skoda</td>\n",
       "      <td>no</td>\n",
       "      <td>31/03/2016 00:00</td>\n",
       "      <td>0</td>\n",
       "      <td>60437</td>\n",
       "      <td>06/04/2016 10:17</td>\n",
       "    </tr>\n",
       "  </tbody>\n",
       "</table>\n",
       "</div>"
      ],
      "text/plain": [
       "        DateCrawled  Price VehicleType  RegistrationYear Gearbox  Power  \\\n",
       "0  24/03/2016 11:52    480         NaN              1993  manual      0   \n",
       "1  24/03/2016 10:58  18300       coupe              2011  manual    190   \n",
       "2  14/03/2016 12:52   9800         suv              2004    auto    163   \n",
       "3  17/03/2016 16:54   1500       small              2001  manual     75   \n",
       "4  31/03/2016 17:25   3600       small              2008  manual     69   \n",
       "\n",
       "   Model  Mileage  RegistrationMonth  FuelType       Brand NotRepaired  \\\n",
       "0   golf   150000                  0    petrol  volkswagen         NaN   \n",
       "1    NaN   125000                  5  gasoline        audi         yes   \n",
       "2  grand   125000                  8  gasoline        jeep         NaN   \n",
       "3   golf   150000                  6    petrol  volkswagen          no   \n",
       "4  fabia    90000                  7  gasoline       skoda          no   \n",
       "\n",
       "        DateCreated  NumberOfPictures  PostalCode          LastSeen  \n",
       "0  24/03/2016 00:00                 0       70435  07/04/2016 03:16  \n",
       "1  24/03/2016 00:00                 0       66954  07/04/2016 01:46  \n",
       "2  14/03/2016 00:00                 0       90480  05/04/2016 12:47  \n",
       "3  17/03/2016 00:00                 0       91074  17/03/2016 17:40  \n",
       "4  31/03/2016 00:00                 0       60437  06/04/2016 10:17  "
      ]
     },
     "execution_count": 3,
     "metadata": {},
     "output_type": "execute_result"
    }
   ],
   "source": [
    "#  Menampilkan sample data\n",
    "df.head()"
   ]
  },
  {
   "cell_type": "code",
   "execution_count": 4,
   "metadata": {
    "colab": {
     "base_uri": "https://localhost:8080/"
    },
    "id": "HjT7S40wsgYx",
    "outputId": "77220009-29b4-435b-cea0-f162aedb458e"
   },
   "outputs": [
    {
     "name": "stdout",
     "output_type": "stream",
     "text": [
      "<class 'pandas.core.frame.DataFrame'>\n",
      "RangeIndex: 354369 entries, 0 to 354368\n",
      "Data columns (total 16 columns):\n",
      " #   Column             Non-Null Count   Dtype \n",
      "---  ------             --------------   ----- \n",
      " 0   DateCrawled        354369 non-null  object\n",
      " 1   Price              354369 non-null  int64 \n",
      " 2   VehicleType        316879 non-null  object\n",
      " 3   RegistrationYear   354369 non-null  int64 \n",
      " 4   Gearbox            334536 non-null  object\n",
      " 5   Power              354369 non-null  int64 \n",
      " 6   Model              334664 non-null  object\n",
      " 7   Mileage            354369 non-null  int64 \n",
      " 8   RegistrationMonth  354369 non-null  int64 \n",
      " 9   FuelType           321474 non-null  object\n",
      " 10  Brand              354369 non-null  object\n",
      " 11  NotRepaired        283215 non-null  object\n",
      " 12  DateCreated        354369 non-null  object\n",
      " 13  NumberOfPictures   354369 non-null  int64 \n",
      " 14  PostalCode         354369 non-null  int64 \n",
      " 15  LastSeen           354369 non-null  object\n",
      "dtypes: int64(7), object(9)\n",
      "memory usage: 43.3+ MB\n"
     ]
    }
   ],
   "source": [
    "# Menampilkan informasi data\n",
    "df.info()"
   ]
  },
  {
   "cell_type": "code",
   "execution_count": 5,
   "metadata": {
    "colab": {
     "base_uri": "https://localhost:8080/"
    },
    "id": "tBAm9daAJPCV",
    "outputId": "3f7a83a1-7cef-4d34-d7ce-b47f5bebdcfc"
   },
   "outputs": [
    {
     "data": {
      "text/plain": [
       "DateCrawled          0.000000\n",
       "Price                0.000000\n",
       "VehicleType          0.105794\n",
       "RegistrationYear     0.000000\n",
       "Gearbox              0.055967\n",
       "Power                0.000000\n",
       "Model                0.055606\n",
       "Mileage              0.000000\n",
       "RegistrationMonth    0.000000\n",
       "FuelType             0.092827\n",
       "Brand                0.000000\n",
       "NotRepaired          0.200791\n",
       "DateCreated          0.000000\n",
       "NumberOfPictures     0.000000\n",
       "PostalCode           0.000000\n",
       "LastSeen             0.000000\n",
       "dtype: float64"
      ]
     },
     "execution_count": 5,
     "metadata": {},
     "output_type": "execute_result"
    }
   ],
   "source": [
    "# Persentase nilai hilang\n",
    "df.isna().sum()/df.shape[0]"
   ]
  },
  {
   "cell_type": "code",
   "execution_count": 6,
   "metadata": {
    "colab": {
     "base_uri": "https://localhost:8080/",
     "height": 300
    },
    "id": "JGU5X1uNSp36",
    "outputId": "b8c55512-2bd3-4913-f2c9-cd4d1374730a"
   },
   "outputs": [
    {
     "data": {
      "text/html": [
       "<div>\n",
       "<style scoped>\n",
       "    .dataframe tbody tr th:only-of-type {\n",
       "        vertical-align: middle;\n",
       "    }\n",
       "\n",
       "    .dataframe tbody tr th {\n",
       "        vertical-align: top;\n",
       "    }\n",
       "\n",
       "    .dataframe thead th {\n",
       "        text-align: right;\n",
       "    }\n",
       "</style>\n",
       "<table border=\"1\" class=\"dataframe\">\n",
       "  <thead>\n",
       "    <tr style=\"text-align: right;\">\n",
       "      <th></th>\n",
       "      <th>Price</th>\n",
       "      <th>RegistrationYear</th>\n",
       "      <th>Power</th>\n",
       "      <th>Mileage</th>\n",
       "      <th>RegistrationMonth</th>\n",
       "      <th>NumberOfPictures</th>\n",
       "      <th>PostalCode</th>\n",
       "    </tr>\n",
       "  </thead>\n",
       "  <tbody>\n",
       "    <tr>\n",
       "      <th>count</th>\n",
       "      <td>354369.000000</td>\n",
       "      <td>354369.000000</td>\n",
       "      <td>354369.000000</td>\n",
       "      <td>354369.000000</td>\n",
       "      <td>354369.000000</td>\n",
       "      <td>354369.0</td>\n",
       "      <td>354369.000000</td>\n",
       "    </tr>\n",
       "    <tr>\n",
       "      <th>mean</th>\n",
       "      <td>4416.656776</td>\n",
       "      <td>2004.234448</td>\n",
       "      <td>110.094337</td>\n",
       "      <td>128211.172535</td>\n",
       "      <td>5.714645</td>\n",
       "      <td>0.0</td>\n",
       "      <td>50508.689087</td>\n",
       "    </tr>\n",
       "    <tr>\n",
       "      <th>std</th>\n",
       "      <td>4514.158514</td>\n",
       "      <td>90.227958</td>\n",
       "      <td>189.850405</td>\n",
       "      <td>37905.341530</td>\n",
       "      <td>3.726421</td>\n",
       "      <td>0.0</td>\n",
       "      <td>25783.096248</td>\n",
       "    </tr>\n",
       "    <tr>\n",
       "      <th>min</th>\n",
       "      <td>0.000000</td>\n",
       "      <td>1000.000000</td>\n",
       "      <td>0.000000</td>\n",
       "      <td>5000.000000</td>\n",
       "      <td>0.000000</td>\n",
       "      <td>0.0</td>\n",
       "      <td>1067.000000</td>\n",
       "    </tr>\n",
       "    <tr>\n",
       "      <th>25%</th>\n",
       "      <td>1050.000000</td>\n",
       "      <td>1999.000000</td>\n",
       "      <td>69.000000</td>\n",
       "      <td>125000.000000</td>\n",
       "      <td>3.000000</td>\n",
       "      <td>0.0</td>\n",
       "      <td>30165.000000</td>\n",
       "    </tr>\n",
       "    <tr>\n",
       "      <th>50%</th>\n",
       "      <td>2700.000000</td>\n",
       "      <td>2003.000000</td>\n",
       "      <td>105.000000</td>\n",
       "      <td>150000.000000</td>\n",
       "      <td>6.000000</td>\n",
       "      <td>0.0</td>\n",
       "      <td>49413.000000</td>\n",
       "    </tr>\n",
       "    <tr>\n",
       "      <th>75%</th>\n",
       "      <td>6400.000000</td>\n",
       "      <td>2008.000000</td>\n",
       "      <td>143.000000</td>\n",
       "      <td>150000.000000</td>\n",
       "      <td>9.000000</td>\n",
       "      <td>0.0</td>\n",
       "      <td>71083.000000</td>\n",
       "    </tr>\n",
       "    <tr>\n",
       "      <th>max</th>\n",
       "      <td>20000.000000</td>\n",
       "      <td>9999.000000</td>\n",
       "      <td>20000.000000</td>\n",
       "      <td>150000.000000</td>\n",
       "      <td>12.000000</td>\n",
       "      <td>0.0</td>\n",
       "      <td>99998.000000</td>\n",
       "    </tr>\n",
       "  </tbody>\n",
       "</table>\n",
       "</div>"
      ],
      "text/plain": [
       "               Price  RegistrationYear          Power        Mileage  \\\n",
       "count  354369.000000     354369.000000  354369.000000  354369.000000   \n",
       "mean     4416.656776       2004.234448     110.094337  128211.172535   \n",
       "std      4514.158514         90.227958     189.850405   37905.341530   \n",
       "min         0.000000       1000.000000       0.000000    5000.000000   \n",
       "25%      1050.000000       1999.000000      69.000000  125000.000000   \n",
       "50%      2700.000000       2003.000000     105.000000  150000.000000   \n",
       "75%      6400.000000       2008.000000     143.000000  150000.000000   \n",
       "max     20000.000000       9999.000000   20000.000000  150000.000000   \n",
       "\n",
       "       RegistrationMonth  NumberOfPictures     PostalCode  \n",
       "count      354369.000000          354369.0  354369.000000  \n",
       "mean            5.714645               0.0   50508.689087  \n",
       "std             3.726421               0.0   25783.096248  \n",
       "min             0.000000               0.0    1067.000000  \n",
       "25%             3.000000               0.0   30165.000000  \n",
       "50%             6.000000               0.0   49413.000000  \n",
       "75%             9.000000               0.0   71083.000000  \n",
       "max            12.000000               0.0   99998.000000  "
      ]
     },
     "execution_count": 6,
     "metadata": {},
     "output_type": "execute_result"
    }
   ],
   "source": [
    "# Menampilkan informasi statistik dari kolom numerik\n",
    "df.describe()"
   ]
  },
  {
   "cell_type": "code",
   "execution_count": 7,
   "metadata": {
    "colab": {
     "base_uri": "https://localhost:8080/",
     "height": 452
    },
    "id": "0E3wY1XMuB44",
    "outputId": "0c0144ac-dbdf-47f8-f129-ce0d839add33"
   },
   "outputs": [
    {
     "data": {
      "image/png": "[encoded data removed]",
      "text/plain": [
       "<Figure size 432x288 with 1 Axes>"
      ]
     },
     "metadata": {
      "needs_background": "light"
     },
     "output_type": "display_data"
    }
   ],
   "source": [
    "# Memeriksa data target\n",
    "df['Price'].hist()\n",
    "plt.title('Distribusi harga mobil');"
   ]
  },
  {
   "cell_type": "markdown",
   "metadata": {
    "id": "l_AyLZ55xGTY"
   },
   "source": [
    "Kesimpulan ikhitisar data:\n",
    "1. Dataset berisi 354,369 baris dengan 15 fitur dan 1 target.\n",
    "2. Ada nilai hilang pada kolom price, `VehicleType`, `Gearbox`, `Model`,`FuelType`,dan `NotRepaired`.\n",
    "3. Nama kolom sebaiknya diganti menjadi snake case.\n",
    "4. `DateCreated` dikonversi ke bentuk datetime.\n",
    "5. `DateCrawled` dan `LastSeen` dapat dihapus karena tidak berkaitan dengan harga.\n",
    "6. Rentang `RegistrationYear` harus diperiksa lebih lanjut (1000-9999).\n",
    "7. `Power` yang bernilai `0` perlu diperiksa.\n",
    "8. Outlier perlu diperiksa pada kolom `Mileage`.\n",
    "9. Jika gambar/`Number0fPictures` bernilai `0` dihapus karena dianggap tidak informatif.\n",
    "10. Pada histogram `Price` terlihat banyak yang bernilai `0`, untuk itu perlu dilakukan analisa lebih lanjut.\n",
    "11. Menghapus baris duplikat jika ada.\n"
   ]
  },
  {
   "cell_type": "markdown",
   "metadata": {},
   "source": [
    "<div class=\"alert alert-block alert-success\">\n",
    "<b>Code reviewer's comment</b> <a class=\"tocSkip\"></a>\n",
    "\n",
    "Success. Explorasi data dilakukan dengan baik.\n",
    "</div>"
   ]
  },
  {
   "cell_type": "markdown",
   "metadata": {
    "id": "lw3uatoeVVAV"
   },
   "source": [
    "### 1.2 Pra-Pemrosesan Data"
   ]
  },
  {
   "cell_type": "markdown",
   "metadata": {
    "id": "O0CLNsp9WQOa"
   },
   "source": [
    "**Mengganti nama kolom**"
   ]
  },
  {
   "cell_type": "code",
   "execution_count": 8,
   "metadata": {
    "id": "GPYybK2bWIiZ"
   },
   "outputs": [],
   "source": [
    "# Mengganti nama kolom dengan format `snake case`\n",
    "columns = []\n",
    "for name in df.columns.values:\n",
    "    name = re.sub('([A-Z])', r' \\1', name).lower().replace(' ', '_')[1:]\n",
    "    columns.append(name)\n",
    "df.columns = columns"
   ]
  },
  {
   "cell_type": "code",
   "execution_count": 9,
   "metadata": {
    "colab": {
     "base_uri": "https://localhost:8080/"
    },
    "id": "geCTntwiWWB-",
    "outputId": "376e26b0-5d31-44d9-d938-4e045485982d"
   },
   "outputs": [
    {
     "data": {
      "text/plain": [
       "Index(['date_crawled', 'price', 'vehicle_type', 'registration_year', 'gearbox',\n",
       "       'power', 'model', 'mileage', 'registration_month', 'fuel_type', 'brand',\n",
       "       'not_repaired', 'date_created', 'number_of_pictures', 'postal_code',\n",
       "       'last_seen'],\n",
       "      dtype='object')"
      ]
     },
     "execution_count": 9,
     "metadata": {},
     "output_type": "execute_result"
    }
   ],
   "source": [
    "# Memeriksa nama kolom yang sudah disesuaikan\n",
    "df.columns"
   ]
  },
  {
   "cell_type": "markdown",
   "metadata": {},
   "source": [
    "<div class=\"alert alert-block alert-success\">\n",
    "<b>Code reviewer's comment</b> <a class=\"tocSkip\"></a>\n",
    "\n",
    "Success. Proses penyesuaian nama kolom dilakukan dengan sukses.\n",
    "</div>"
   ]
  },
  {
   "cell_type": "markdown",
   "metadata": {
    "id": "x82kXBl9W2pt"
   },
   "source": [
    "**Mengganti tipe data pada kolom `date_created`**"
   ]
  },
  {
   "cell_type": "code",
   "execution_count": 10,
   "metadata": {
    "colab": {
     "base_uri": "https://localhost:8080/"
    },
    "id": "vVNjLEPsW758",
    "outputId": "45f936d8-4300-467d-aeec-c740253e61b1"
   },
   "outputs": [
    {
     "name": "stdout",
     "output_type": "stream",
     "text": [
      "datetime64[ns]\n"
     ]
    }
   ],
   "source": [
    "# Konversi tipe data pada kolom `date_created` dari object ke datetime\n",
    "df['date_created'] = pd.to_datetime(df['date_created'])\n",
    "print(df['date_created'].dtypes)"
   ]
  },
  {
   "cell_type": "code",
   "execution_count": 11,
   "metadata": {
    "colab": {
     "base_uri": "https://localhost:8080/"
    },
    "id": "lD2_9ty-dDlr",
    "outputId": "bfcfd721-8f92-43e1-c279-34910a5b8c66"
   },
   "outputs": [
    {
     "data": {
      "text/plain": [
       "array([2016, 2015, 2014])"
      ]
     },
     "execution_count": 11,
     "metadata": {},
     "output_type": "execute_result"
    }
   ],
   "source": [
    "# Membuat kolom tahun pembuat profil dari kolom tangal pembuatan profil\n",
    "df['year_created'] = df['date_created'].dt.year\n",
    "df['year_created'].unique()"
   ]
  },
  {
   "cell_type": "markdown",
   "metadata": {
    "id": "I6kcLHB-Xmgf"
   },
   "source": [
    "**Nilai yang hilang**\n",
    "\n",
    "Seperti yang diketahui sebelumnya ada 5 nilai yang hilang. Bagian ini akan memroses nilai yang hilang sesuai dengan keperluan model."
   ]
  },
  {
   "cell_type": "markdown",
   "metadata": {
    "id": "8qb9gpQMZmBU"
   },
   "source": [
    "`not_repaired`"
   ]
  },
  {
   "cell_type": "code",
   "execution_count": 12,
   "metadata": {
    "colab": {
     "base_uri": "https://localhost:8080/"
    },
    "id": "4flQARjfXlN1",
    "outputId": "fa485d05-f22b-4962-85da-52a7b52793a6"
   },
   "outputs": [
    {
     "data": {
      "text/plain": [
       "no     247161\n",
       "yes     36054\n",
       "Name: not_repaired, dtype: int64"
      ]
     },
     "execution_count": 12,
     "metadata": {},
     "output_type": "execute_result"
    }
   ],
   "source": [
    "# Menampilkan jumlah value kolom `not_repaired`\n",
    "df['not_repaired'].value_counts()"
   ]
  },
  {
   "cell_type": "markdown",
   "metadata": {
    "id": "FhpYYCkEYg9t"
   },
   "source": [
    "Ada lebih banyak mobil yang belum diperbaiki dibanding yang telah diperbaiki. Kemungkinan data yang hilang berarti belum diperbaiki, sehingga kolom yang hilang dapat diisi dengan string `no`"
   ]
  },
  {
   "cell_type": "code",
   "execution_count": 13,
   "metadata": {
    "id": "B6YDOKNDZBY5"
   },
   "outputs": [],
   "source": [
    "# Mengisi nilai yang hilang pada kolom `not_repaired` dengan nilai `no`\n",
    "df['not_repaired'].fillna('no', inplace=True)"
   ]
  },
  {
   "cell_type": "markdown",
   "metadata": {
    "id": "ykAVwBspZt1N"
   },
   "source": [
    "\n",
    "`model`, `vehicle_type`, `fuel_type`"
   ]
  },
  {
   "cell_type": "markdown",
   "metadata": {
    "id": "-auaUHPIdx-6"
   },
   "source": [
    "Karena tidak ada cara lain untuk mengisi nilai yang hilang untuk ketiga kolom diatas, nilai ini akan diisi dengan string `n/a`."
   ]
  },
  {
   "cell_type": "code",
   "execution_count": 14,
   "metadata": {
    "id": "cte7jCwUa1Np"
   },
   "outputs": [],
   "source": [
    "# Mengisi string `n/a` untuk kolom 'model', 'vehicle_type', 'fuel_type'.\n",
    "for col in ['model','vehicle_type','fuel_type']:\n",
    "    df[col].fillna('n/a', inplace=True)"
   ]
  },
  {
   "cell_type": "markdown",
   "metadata": {
    "id": "UGTKNa97eqmb"
   },
   "source": [
    "`gearbox`"
   ]
  },
  {
   "cell_type": "code",
   "execution_count": 15,
   "metadata": {
    "colab": {
     "base_uri": "https://localhost:8080/"
    },
    "id": "sFPDkJyQZKip",
    "outputId": "952b56d4-bcf5-430c-da0f-05f514a83af8"
   },
   "outputs": [
    {
     "data": {
      "text/plain": [
       "manual    268251\n",
       "auto       66285\n",
       "Name: gearbox, dtype: int64"
      ]
     },
     "execution_count": 15,
     "metadata": {},
     "output_type": "execute_result"
    }
   ],
   "source": [
    "# Memeriksa nilai yang hilang pada kolom `gearbox`\n",
    "df['gearbox'].value_counts()"
   ]
  },
  {
   "cell_type": "markdown",
   "metadata": {
    "id": "_uKd_F7je_QJ"
   },
   "source": [
    "Ada dua nilai pada kolom `gearbox`, nilai yang hilang akan diisi dengan nilai yang terbanyak yaitu `manual`"
   ]
  },
  {
   "cell_type": "code",
   "execution_count": 16,
   "metadata": {
    "id": "tpb7pxJWe2n5"
   },
   "outputs": [],
   "source": [
    "# Mengisi nilai yang hilang dengan nilai `manual`\n",
    "df['gearbox'].fillna('manual', inplace=True)"
   ]
  },
  {
   "cell_type": "markdown",
   "metadata": {},
   "source": [
    "<div class=\"alert alert-block alert-success\">\n",
    "<b>Code reviewer's comment</b> <a class=\"tocSkip\"></a>\n",
    "\n",
    "Success. Null values dihandle dengan sesuai.\n",
    "</div>"
   ]
  },
  {
   "cell_type": "code",
   "execution_count": 17,
   "metadata": {
    "colab": {
     "base_uri": "https://localhost:8080/"
    },
    "id": "0YCrsiv-fLie",
    "outputId": "168881d5-4e89-4a13-d49b-f35091c47101"
   },
   "outputs": [
    {
     "data": {
      "text/plain": [
       "date_crawled          0\n",
       "price                 0\n",
       "vehicle_type          0\n",
       "registration_year     0\n",
       "gearbox               0\n",
       "power                 0\n",
       "model                 0\n",
       "mileage               0\n",
       "registration_month    0\n",
       "fuel_type             0\n",
       "brand                 0\n",
       "not_repaired          0\n",
       "date_created          0\n",
       "number_of_pictures    0\n",
       "postal_code           0\n",
       "last_seen             0\n",
       "year_created          0\n",
       "dtype: int64"
      ]
     },
     "execution_count": 17,
     "metadata": {},
     "output_type": "execute_result"
    }
   ],
   "source": [
    "# Memeriksa nilai yang hilang\n",
    "df.isna().sum()"
   ]
  },
  {
   "cell_type": "markdown",
   "metadata": {
    "id": "UmdFCnC8fiNs"
   },
   "source": [
    "Sudah tidak ada nilai yang hilang pada keseluruhan dataset."
   ]
  },
  {
   "cell_type": "markdown",
   "metadata": {
    "id": "kY2ANSnMhSGU"
   },
   "source": [
    "**Menghapus baris duplikat**"
   ]
  },
  {
   "cell_type": "code",
   "execution_count": 18,
   "metadata": {
    "colab": {
     "base_uri": "https://localhost:8080/"
    },
    "id": "bxyQXZSMhQaP",
    "outputId": "d00d3238-9605-4bf8-e757-ba51428b6807"
   },
   "outputs": [
    {
     "data": {
      "text/plain": [
       "292"
      ]
     },
     "execution_count": 18,
     "metadata": {},
     "output_type": "execute_result"
    }
   ],
   "source": [
    "# Menampilkan jumlah baris duplikat\n",
    "df.duplicated().sum()"
   ]
  },
  {
   "cell_type": "code",
   "execution_count": 19,
   "metadata": {
    "colab": {
     "base_uri": "https://localhost:8080/"
    },
    "id": "YMvJX4Mzhg8p",
    "outputId": "d5c28019-430b-48d6-9064-12f555b93f9e"
   },
   "outputs": [
    {
     "data": {
      "text/plain": [
       "0"
      ]
     },
     "execution_count": 19,
     "metadata": {},
     "output_type": "execute_result"
    }
   ],
   "source": [
    "# Menghapus dan memeriksa ulang jumlah baris duplikat\n",
    "df = df.drop_duplicates(ignore_index=True)\n",
    "df.duplicated().sum()"
   ]
  },
  {
   "cell_type": "markdown",
   "metadata": {},
   "source": [
    "<div class=\"alert alert-block alert-success\">\n",
    "<b>Code reviewer's comment</b> <a class=\"tocSkip\"></a>\n",
    "\n",
    "Success. Data duplikat berhasil dihilangkan.\n",
    "</div>"
   ]
  },
  {
   "cell_type": "markdown",
   "metadata": {
    "id": "LCd4GDlVDJsW"
   },
   "source": [
    "### 1.3 Analisis Data Eksploratif"
   ]
  },
  {
   "cell_type": "markdown",
   "metadata": {},
   "source": [
    "**Pembagian Dataset**"
   ]
  },
  {
   "cell_type": "markdown",
   "metadata": {},
   "source": [
    "Agar model tidak mengalami overfitting (data set ikut berubah pada tahap eksplorasi), dataset dibagi dari awal. \n",
    "Sehingga drop/hapus data hanya ada di train set, sedangkan train set dan validation set tetap seperti aslinya.\n",
    "Explorasi tetap dilakukan pada keseluruhan dataset, tapi penhapusan dataset hanya akan dilakukan pada train set"
   ]
  },
  {
   "cell_type": "code",
   "execution_count": 20,
   "metadata": {
    "id": "pDGC6Ec5DpOf"
   },
   "outputs": [],
   "source": [
    "# Menetapkan fitur dan target dengan membagi dataset.\n",
    "X = df.drop('price', axis=1)\n",
    "y = df['price']\n",
    "X_train, X_test, y_train, y_test = train_test_split(X, y, test_size = 0.2, random_state=12345)\n",
    "X_train, X_valid, y_train, y_valid = train_test_split(X_train, y_train, test_size = 0.2, random_state=12345)"
   ]
  },
  {
   "cell_type": "markdown",
   "metadata": {},
   "source": [
    "<div class=\"alert alert-block alert-success\">\n",
    "<b>Code reviewer's comment</b> <a class=\"tocSkip\"></a>\n",
    "\n",
    "Success. Split data dilakukan dengan baik.\n",
    "</div>"
   ]
  },
  {
   "cell_type": "markdown",
   "metadata": {},
   "source": [
    "**Menggabungkan Train Dataset**"
   ]
  },
  {
   "cell_type": "markdown",
   "metadata": {},
   "source": [
    "Untuk menjaga konsistensi jumlah baris pada fitur dan target, terlebih dahulu X_train dan y_train digabung terlebih dahulu.\n",
    "Beberapa baris mungkin akan dihapus seperti outlier. Setelah itu fitur dan target dipisah kembali"
   ]
  },
  {
   "cell_type": "code",
   "execution_count": 21,
   "metadata": {},
   "outputs": [],
   "source": [
    "# Menggabung X_train dan y_train\n",
    "train_data = pd.concat([X_train, y_train], axis=1)"
   ]
  },
  {
   "cell_type": "markdown",
   "metadata": {
    "id": "9ra7xHWTDcNF"
   },
   "source": [
    "**registration_year**"
   ]
  },
  {
   "cell_type": "code",
   "execution_count": 22,
   "metadata": {
    "colab": {
     "base_uri": "https://localhost:8080/",
     "height": 437
    },
    "id": "5UoKcoxHZq92",
    "outputId": "169106f3-fb94-427e-a350-0a91ca772b5b"
   },
   "outputs": [
    {
     "data": {
      "image/png": "[encoded data removed]",
      "text/plain": [
       "<Figure size 432x288 with 1 Axes>"
      ]
     },
     "metadata": {
      "needs_background": "light"
     },
     "output_type": "display_data"
    }
   ],
   "source": [
    "# Boxplot `registration_year`\n",
    "df.boxplot('registration_year')\n",
    "plt.ylim(1000, 10000)\n",
    "plt.title('Distribusi Tahun Registrasi')\n",
    "plt.xticks([1], [''])\n",
    "plt.ylabel('Tahun');"
   ]
  },
  {
   "cell_type": "code",
   "execution_count": 23,
   "metadata": {
    "colab": {
     "base_uri": "https://localhost:8080/",
     "height": 472
    },
    "id": "n_xyFqsGaEV7",
    "outputId": "5855c6c0-568e-414d-cd5d-9853427a8479"
   },
   "outputs": [
    {
     "data": {
      "image/png": "[encoded data removed]",
      "text/plain": [
       "<Figure size 432x288 with 1 Axes>"
      ]
     },
     "metadata": {
      "needs_background": "light"
     },
     "output_type": "display_data"
    }
   ],
   "source": [
    "# Histogram `registration_year`\n",
    "df.hist('registration_year')\n",
    "plt.title('Disitribusi Tahun Registrasi')\n",
    "plt.xlabel('Tahun')\n",
    "plt.ylabel('Banyak Kendaraan');"
   ]
  },
  {
   "cell_type": "markdown",
   "metadata": {
    "id": "csxQ5xm2gsFT"
   },
   "source": [
    "Ada begitu banyak outlier namun sebagian besar tahun registrasi ada disekitar tahun 2000. Dari pra-pemrosesan data, Tahun terbaru dari kolom year_created adalah 2016, maka data diatas tahun tersebut tidak sesuai. Tahun tertua ditetapkan dari tahun 1900."
   ]
  },
  {
   "cell_type": "code",
   "execution_count": 24,
   "metadata": {
    "id": "K2Lkk8Z7gKxr"
   },
   "outputs": [],
   "source": [
    "# Menghapus tahun registrasi selain diantara tahun 1900 sampai 2000 pada Train set\n",
    "train_data.loc[(train_data['registration_year'] < 1900) | (train_data['registration_year'] > 2016), 'registration_year'] = np.nan\n",
    "train_data = train_data.dropna(subset=['registration_year'], axis=0)\n",
    "df.reset_index(drop=True, inplace=True)"
   ]
  },
  {
   "cell_type": "markdown",
   "metadata": {},
   "source": [
    "<div class=\"alert alert-block alert-success\">\n",
    "<b>Code reviewer's comment</b> <a class=\"tocSkip\"></a>\n",
    "\n",
    "Success. Nilai anomali pada tahun registrasi diatasi dengan baik.\n",
    "</div>"
   ]
  },
  {
   "cell_type": "markdown",
   "metadata": {
    "id": "-hbBZzpwiEUg"
   },
   "source": [
    "**price**"
   ]
  },
  {
   "cell_type": "code",
   "execution_count": 25,
   "metadata": {
    "colab": {
     "base_uri": "https://localhost:8080/",
     "height": 433
    },
    "id": "G7i7yM7fh-tR",
    "outputId": "e1aa3405-babe-4e71-9055-f35ebf9df313"
   },
   "outputs": [
    {
     "data": {
      "image/png": "[encoded data removed]",
      "text/plain": [
       "<Figure size 432x288 with 1 Axes>"
      ]
     },
     "metadata": {
      "needs_background": "light"
     },
     "output_type": "display_data"
    }
   ],
   "source": [
    "# Boxplot Harga\n",
    "df.boxplot('price')\n",
    "plt.title('Harga')\n",
    "plt.xticks([1], [''])\n",
    "plt.ylabel('price');"
   ]
  },
  {
   "cell_type": "markdown",
   "metadata": {
    "id": "hQBCk8JWp_oW"
   },
   "source": [
    "Harga kendaraan terbanyak ada di sekitar 1000 sampai 6000 euro. Harga maksimum 20000 euro dan ada nilai 0 dan 1 euro. Nilai 0 dan 1 euro ini dibiarkan saja karena mencerminkan data yang sebenarnya."
   ]
  },
  {
   "cell_type": "markdown",
   "metadata": {},
   "source": [
    "<div class=\"alert alert-block alert-danger\">\n",
    "\n",
    "<b>Code reviewer's comment</b> <a class=\"tocSkip\"></a>\n",
    "\n",
    "Butuh perbaikan. Kolom `price` adalah kolom yang menjadi target, yang mana akan kita prediksi. Melakukan preprocessing terhadap kolom `price` atau melakukan filter berdasakan kolom `price`, akan mengarahkan model untuk memprediksi data yang bukan sebenarnya. Dalam hal ini, kita memberikan asumsi bahwa harga mobil senilai 0 atau 1 Euro adalah tidak wajar. Meskipun tidak wajar (menurut kita), data disajikan demikian sebagai target. Jadi, tetap pertahankan dengan yang ada. \n",
    "</div>"
   ]
  },
  {
   "cell_type": "markdown",
   "metadata": {},
   "source": [
    "<div class=\"alert alert-block alert-info\"><b>Jawaban student.</b>\n",
    "<a class=\"tocSkip\"></a>\n",
    "    \n",
    "Terima kasih atas sarannya Mas/Mba Reviewer. Saya tetap mengikutsertakan nilai 0 dan 1 euro di dataset.\n",
    "</div>"
   ]
  },
  {
   "cell_type": "markdown",
   "metadata": {},
   "source": [
    "<div class=\"alert alert-block alert-success\">\n",
    "<b>Code reviewer's comment</b> <a class=\"tocSkip\"></a>\n",
    "\n",
    "Success. Good job.\n",
    "</div>"
   ]
  },
  {
   "cell_type": "markdown",
   "metadata": {
    "id": "KLIV9hNZr9iF"
   },
   "source": [
    "**mileage**"
   ]
  },
  {
   "cell_type": "code",
   "execution_count": 26,
   "metadata": {
    "colab": {
     "base_uri": "https://localhost:8080/",
     "height": 433
    },
    "id": "cwlQsgx8sAG7",
    "outputId": "59db2ec3-bb5b-4834-9506-49bd07ab79d7"
   },
   "outputs": [
    {
     "data": {
      "image/png": "[encoded data removed]",
      "text/plain": [
       "<Figure size 432x288 with 1 Axes>"
      ]
     },
     "metadata": {
      "needs_background": "light"
     },
     "output_type": "display_data"
    }
   ],
   "source": [
    "# Boxplot `mileage`\n",
    "Q1 = df['mileage'].quantile(0.25)\n",
    "Q3 = df['mileage'].quantile(0.75)\n",
    "IQR = Q3 - Q1\n",
    "lower_whisker = Q1 - 1.5 * IQR\n",
    "df.boxplot('mileage')\n",
    "plt.hlines(y=lower_whisker, xmin=0.9, xmax=1.1, color='red')\n",
    "\n",
    "plt.title('Boxplot Mil dengan kuantil')\n",
    "plt.xticks([1], [''])\n",
    "plt.ylabel('Mil');"
   ]
  },
  {
   "cell_type": "code",
   "execution_count": 27,
   "metadata": {
    "colab": {
     "base_uri": "https://localhost:8080/",
     "height": 447
    },
    "id": "mifPGl_duXXs",
    "outputId": "97dd651d-11b7-4ec0-cb22-147396e2ad83"
   },
   "outputs": [
    {
     "data": {
      "image/png": "[encoded data removed]",
      "text/plain": [
       "<Figure size 432x288 with 1 Axes>"
      ]
     },
     "metadata": {
      "needs_background": "light"
     },
     "output_type": "display_data"
    }
   ],
   "source": [
    "# Histogram `mileage`\n",
    "df['mileage'].hist()\n",
    "plt.show()"
   ]
  },
  {
   "cell_type": "code",
   "execution_count": 28,
   "metadata": {
    "colab": {
     "base_uri": "https://localhost:8080/"
    },
    "id": "F4O37rS69j1V",
    "outputId": "d5e4b4d7-3748-4d3d-f38f-5ddcd57f5e7d"
   },
   "outputs": [
    {
     "data": {
      "text/plain": [
       "53216"
      ]
     },
     "execution_count": 28,
     "metadata": {},
     "output_type": "execute_result"
    }
   ],
   "source": [
    "# Menghitung kendaraan dengan `mileage` yang rendah.\n",
    "len(df[df['mileage'] < lower_whisker])"
   ]
  },
  {
   "cell_type": "markdown",
   "metadata": {
    "id": "kxW6SwP--Ifs"
   },
   "source": [
    "Dari data, kendaraan dengan jarak tempuh/ mileage tinggi lebih banyak daripada yang memiliki jarak tempuh rendah. Tapi data ini dibiarkan saja seperti ini karena ini hal yang lumrah, kendaraan yang dijual bisa saja jarang digunakan atau sering digunakan."
   ]
  },
  {
   "cell_type": "markdown",
   "metadata": {},
   "source": [
    "<div class=\"alert alert-block alert-success\">\n",
    "<b>Code reviewer's comment</b> <a class=\"tocSkip\"></a>\n",
    "\n",
    "Success. Eksplorasi data `mileage` dilakukan dengan baik.\n",
    "</div>"
   ]
  },
  {
   "cell_type": "code",
   "execution_count": 29,
   "metadata": {
    "colab": {
     "base_uri": "https://localhost:8080/",
     "height": 472
    },
    "id": "kCpAUro09tF9",
    "outputId": "96053fca-62a5-436c-9a06-c56554973550"
   },
   "outputs": [
    {
     "data": {
      "image/png": "[encoded data removed]",
      "text/plain": [
       "<Figure size 432x288 with 1 Axes>"
      ]
     },
     "metadata": {
      "needs_background": "light"
     },
     "output_type": "display_data"
    }
   ],
   "source": [
    "# Menampilkan grafik antara harga dan jarak tempuh\n",
    "df.plot.scatter(x='mileage', y='price', alpha=.25)\n",
    "plt.title('Harga dan Jarak Tempuh');"
   ]
  },
  {
   "cell_type": "markdown",
   "metadata": {
    "id": "tIvVS8cu_sQC"
   },
   "source": [
    "Tidak ditemukan pola yang jelas dari grafik diatas"
   ]
  },
  {
   "cell_type": "markdown",
   "metadata": {
    "id": "yzB4hrZl_zQr"
   },
   "source": [
    "**power**"
   ]
  },
  {
   "cell_type": "code",
   "execution_count": 30,
   "metadata": {
    "colab": {
     "base_uri": "https://localhost:8080/",
     "height": 452
    },
    "id": "Khl0vgZS_6It",
    "outputId": "57831bfd-2840-47fb-8128-c1a9ef6837e3"
   },
   "outputs": [
    {
     "data": {
      "image/png": "[encoded data removed]",
      "text/plain": [
       "<Figure size 432x288 with 1 Axes>"
      ]
     },
     "metadata": {
      "needs_background": "light"
     },
     "output_type": "display_data"
    }
   ],
   "source": [
    "# Histogram tenaga mesin\n",
    "df['power'].hist()\n",
    "plt.title('Distribusi Tenaga Mesin');"
   ]
  },
  {
   "cell_type": "code",
   "execution_count": 31,
   "metadata": {
    "colab": {
     "base_uri": "https://localhost:8080/"
    },
    "id": "FpUW6YNBAG3S",
    "outputId": "aac51a05-2763-4ad9-91e1-5a6d8eb96a5a"
   },
   "outputs": [
    {
     "data": {
      "text/plain": [
       "99"
      ]
     },
     "execution_count": 31,
     "metadata": {},
     "output_type": "execute_result"
    }
   ],
   "source": [
    "# Mencari tenaga mesin diatas 2500\n",
    "len(df[df['power'] > 2500])"
   ]
  },
  {
   "cell_type": "code",
   "execution_count": 32,
   "metadata": {
    "colab": {
     "base_uri": "https://localhost:8080/"
    },
    "id": "Palxy1rQFQ6J",
    "outputId": "44983343-5998-40b2-cb32-d0b17fc439e7"
   },
   "outputs": [
    {
     "data": {
      "text/plain": [
       "40218"
      ]
     },
     "execution_count": 32,
     "metadata": {},
     "output_type": "execute_result"
    }
   ],
   "source": [
    "# Mencari tenaga mesin yang sama dengan 0\n",
    "len(df[df['power'] == 0])"
   ]
  },
  {
   "cell_type": "code",
   "execution_count": 33,
   "metadata": {
    "id": "T8a7UmlGF2Hw"
   },
   "outputs": [],
   "source": [
    "# Menghapus baris dengan tenaga mesin diatas 2500 dan sama dengan 0 pada trainset\n",
    "train_data.loc[(train_data['power'] > 2500) | (train_data['power'] == 0), 'power'] = np.nan\n",
    "\n",
    "train_data = train_data.dropna(subset=['power'], axis=0)\n",
    "train_data.reset_index(drop=True, inplace=True)"
   ]
  },
  {
   "cell_type": "markdown",
   "metadata": {},
   "source": [
    "<div class=\"alert alert-block alert-success\">\n",
    "<b>Code reviewer's comment</b> <a class=\"tocSkip\"></a>\n",
    "\n",
    "Success. Eksplorasi data `power` dilakukan dengan baik.\n",
    "</div>"
   ]
  },
  {
   "cell_type": "markdown",
   "metadata": {
    "id": "xH00VLMgFa54"
   },
   "source": [
    "Data tenaga mesin diatas 2500 dihapus begitu juga yang bernilai 0 karena tidak valid."
   ]
  },
  {
   "cell_type": "code",
   "execution_count": 34,
   "metadata": {
    "colab": {
     "base_uri": "https://localhost:8080/",
     "height": 472
    },
    "id": "5Tll811JGBla",
    "outputId": "296581db-8cce-4905-f04a-7c999d134c01"
   },
   "outputs": [
    {
     "data": {
      "image/png": "[encoded data removed]",
      "text/plain": [
       "<Figure size 432x288 with 1 Axes>"
      ]
     },
     "metadata": {
      "needs_background": "light"
     },
     "output_type": "display_data"
    }
   ],
   "source": [
    "# Hubungan antara harga dan tenaga mesin\n",
    "df.plot.scatter(x='power', y='price', alpha=.25)\n",
    "plt.title('Hubungan harga dengan tenaga mesin mobil');"
   ]
  },
  {
   "cell_type": "markdown",
   "metadata": {
    "id": "PbDqypL4Ga__"
   },
   "source": [
    "Tidak ada hubungan yang jelas antara harga dan tenaga mesin"
   ]
  },
  {
   "cell_type": "markdown",
   "metadata": {
    "id": "wnwJE0iSXt-D"
   },
   "source": [
    "**postal_code**\n"
   ]
  },
  {
   "cell_type": "code",
   "execution_count": 35,
   "metadata": {
    "colab": {
     "base_uri": "https://localhost:8080/",
     "height": 472
    },
    "id": "oXMu451xX-EB",
    "outputId": "bdb002f0-3eb9-4bb9-d5a4-2e5b305a31b9"
   },
   "outputs": [
    {
     "data": {
      "image/png": "[encoded data removed]",
      "text/plain": [
       "<Figure size 432x288 with 1 Axes>"
      ]
     },
     "metadata": {
      "needs_background": "light"
     },
     "output_type": "display_data"
    }
   ],
   "source": [
    "# Hubungan harga dan postal_code\n",
    "df.plot.scatter(x='postal_code', y='price', alpha=.25)\n",
    "plt.title('Kode Pos dan Harga');"
   ]
  },
  {
   "cell_type": "markdown",
   "metadata": {
    "id": "jzQXGn0DYU3S"
   },
   "source": [
    "Tidak ada hubungan yang jelas antara kode pos dan harga, kolom ini boleh dihapus."
   ]
  },
  {
   "cell_type": "markdown",
   "metadata": {
    "id": "56IBGY5QhyqE"
   },
   "source": [
    "## 2 Pelatihan Model"
   ]
  },
  {
   "cell_type": "markdown",
   "metadata": {
    "id": "5_8ykAwTYFJ-"
   },
   "source": [
    "### 2.1 Persiapan Dataset"
   ]
  },
  {
   "cell_type": "code",
   "execution_count": 36,
   "metadata": {},
   "outputs": [],
   "source": [
    "# Memecah fitur dan target kembali\n",
    "X_train = train_data.drop('price', axis=1)\n",
    "y_train = train_data['price']"
   ]
  },
  {
   "cell_type": "code",
   "execution_count": 37,
   "metadata": {
    "id": "yVm0yop_hyqF"
   },
   "outputs": [],
   "source": [
    "# Menghapus kolom yang tidak diperlukan\n",
    "X_train = X_train.drop(['date_crawled','last_seen', 'number_of_pictures', 'date_created', 'postal_code'], axis=1)\n",
    "X_test = X_test.drop(['date_crawled','last_seen', 'number_of_pictures', 'date_created', 'postal_code'], axis=1)\n",
    "X_valid = X_valid.drop(['date_crawled','last_seen', 'number_of_pictures', 'date_created', 'postal_code'], axis=1)"
   ]
  },
  {
   "cell_type": "markdown",
   "metadata": {},
   "source": [
    "<div class=\"alert alert-block alert-warning\">\n",
    "<b>Code reviewer's comment</b> <a class=\"tocSkip\"></a>\n",
    "\n",
    "Catatan. Kita bisa mempertimbangkan beberapa hal sebelum melakukan seleksi kolom yang akan menjadi features. Untuk data-data yang memang bersifat object, kita bisa drop, seperti kolom `last_seen`. Untuk data-data yang bersifat kategorical seperti `year_created` atau `registration_month` kita bisa pertahankan. Untuk melakukan filter terdahap kolom, kita perlu mengukur seberapa besar pengaruh kolom tersebut ke Target. Hal ini bisa dilakukan sebelum modeling, pada saat modeling atau setelah modeling (iterative). Hal ini biasa disebut sebagai `feature_selection` process. Coba diskusikan dengan tutor Anda untuk tahu lebih banyak terkait hal ini. \n",
    "</div>"
   ]
  },
  {
   "cell_type": "markdown",
   "metadata": {},
   "source": [
    "<div class=\"alert alert-block alert-info\"><b>Jawaban student.</b><a class=\"tocSkip\"></a><a class=\"tocSkip\"></a>\n",
    "\n",
    "Okay sepertinya `year_created` dan `registration_month` bisa dipertahankan, awalnya saya pikir `car_age` sudah cukup. Khususnya registration month sebagai bulan mobil didaftarkan ke penjualan akan berpengaruh terhadap model.\n",
    "\n",
    "</div>"
   ]
  },
  {
   "cell_type": "markdown",
   "metadata": {
    "id": "cl6IIULXCtem"
   },
   "source": [
    "**Konversi Variabel Katagorikal (Encoding)**"
   ]
  },
  {
   "cell_type": "code",
   "execution_count": 38,
   "metadata": {
    "colab": {
     "base_uri": "https://localhost:8080/",
     "height": 206
    },
    "id": "NYEPBkP382a3",
    "outputId": "6437c871-df6e-4deb-aac6-a35f79196011"
   },
   "outputs": [],
   "source": [
    "# list kolom kategorikal\n",
    "cat_columns = ['vehicle_type', 'gearbox', 'model', 'fuel_type', 'brand', 'not_repaired']\n",
    "\n",
    "# konversi kolom ke bentuk numerik\n",
    "X_train[cat_columns] = OrdinalEncoder().fit_transform(X_train[cat_columns])\n",
    "X_test[cat_columns] = OrdinalEncoder().fit_transform(X_test[cat_columns])\n",
    "X_valid[cat_columns] = OrdinalEncoder().fit_transform(X_valid[cat_columns])\n"
   ]
  },
  {
   "cell_type": "markdown",
   "metadata": {},
   "source": [
    "<div class=\"alert alert-block alert-warning\">\n",
    "<b>Code reviewer's comment</b> <a class=\"tocSkip\"></a>\n",
    "\n",
    "Catatan. Coba pertimbangkan untuk menggunakan cross validation. Library tersedia di sklearn. \n",
    "</div>"
   ]
  },
  {
   "cell_type": "markdown",
   "metadata": {},
   "source": [
    "<div class=\"alert alert-block alert-info\"><b>Jawaban student.</b><a class=\"tocSkip\"></a><a class=\"tocSkip\"></a>\n",
    "\n",
    "Terima kasih atas sarannya, saya akan pakai cross validation diproyek berikutnya, berhubung saya cukup tertinggal untuk pengerjaan proyek.\n",
    "\n",
    "</div>"
   ]
  },
  {
   "cell_type": "markdown",
   "metadata": {},
   "source": [
    "<div class=\"alert alert-block alert-danger\">\n",
    "\n",
    "<b>Code reviewer's comment</b> <a class=\"tocSkip\"></a>\n",
    "\n",
    "Butuh perbaikan. Melakukan train test split setelah melakukan preprocessing akan membuat hasil menjadi overfitting, atau tidak mencerminkan kondisi aslinya. Sebagai contoh, kita menemukan data anomali di data asli, tapi karena sudah di buang, maka data split training dan test tidak akan mengenal adanya data anomali, begitu juga model yang dikembangkan. \n",
    "    \n",
    "```\n",
    "   Setelah menghandle duplication, lakukan train-test split terlebih dahulu sebelum melakukan preprocessing. Silahkan lakukan apa saja pada train, termasuk melakukan drop sesuai logic yang Anda pahami. Tapi, jangan pernah drop data di test, cukup implementasikan saja preprocessing yang ditemukan pada train, ke data test. \n",
    "```\n",
    "    \n",
    "Konsultasikan dengan tutor Anda jika mengalami kebingungan.\n",
    "</div>"
   ]
  },
  {
   "cell_type": "markdown",
   "metadata": {},
   "source": [
    "<div class=\"alert alert-block alert-success\">\n",
    "<b>Code reviewer's comment</b> <a class=\"tocSkip\"></a>\n",
    "\n",
    "Success. Train test split sudah dilakukan dengan baik di bagian atas.\n",
    "</div>"
   ]
  },
  {
   "cell_type": "markdown",
   "metadata": {
    "id": "VY6qz7OyEO9j"
   },
   "source": [
    "**Standard Scaling**"
   ]
  },
  {
   "cell_type": "code",
   "execution_count": 414,
   "metadata": {
    "id": "E0OGzEVNETem"
   },
   "outputs": [],
   "source": [
    "# Penerapan Standard Scaling pada fitur\n",
    "sc = ss()\n",
    "X_train = sc.fit_transform(X_train)\n",
    "X_valid = sc.transform(X_valid)\n",
    "X_test = sc.transform(X_test)"
   ]
  },
  {
   "cell_type": "code",
   "execution_count": 415,
   "metadata": {},
   "outputs": [
    {
     "name": "stdout",
     "output_type": "stream",
     "text": [
      "(193904, 11)\n",
      "(56653, 11)\n",
      "(70816, 11)\n"
     ]
    }
   ],
   "source": [
    "print(X_train.shape)\n",
    "print(X_valid.shape)\n",
    "print(X_test.shape)\n"
   ]
  },
  {
   "cell_type": "markdown",
   "metadata": {
    "id": "90roegUcESe6"
   },
   "source": [
    "### 2.2 Pemodelan"
   ]
  },
  {
   "cell_type": "markdown",
   "metadata": {
    "id": "fs1PCvqFcKfB"
   },
   "source": [
    "**Linear Regression**"
   ]
  },
  {
   "cell_type": "code",
   "execution_count": 416,
   "metadata": {
    "colab": {
     "base_uri": "https://localhost:8080/"
    },
    "id": "i7GFf17kcOyD",
    "outputId": "441cbc6c-30a3-4ccf-e711-9469d11182f6"
   },
   "outputs": [
    {
     "data": {
      "text/plain": [
       "15627.292572301738"
      ]
     },
     "execution_count": 416,
     "metadata": {},
     "output_type": "execute_result"
    }
   ],
   "source": [
    "# Model Regresi Linear\n",
    "LR = LinearRegression()\n",
    "start = time()\n",
    "LR.fit(X_train, y_train)\n",
    "end = time()\n",
    "fit_time_LR = end - start\n",
    "\n",
    "start = time()\n",
    "y_pred = LR.predict(X_valid)\n",
    "end = time()\n",
    "predict_time_LR = end - start\n",
    "\n",
    "LR_score = mean_squared_error(y_valid, y_pred) ** 0.5\n",
    "LR_score"
   ]
  },
  {
   "cell_type": "markdown",
   "metadata": {},
   "source": [
    "<div class=\"alert alert-block alert-danger\">\n",
    "\n",
    "<b>Code reviewer's comment</b> <a class=\"tocSkip\"></a>\n",
    "\n",
    "Butuh perbaikan. Proses modeling sudah benar, hanya perlu menyesuaikan bagian train-test split dan preprocessingnya dulu.\n",
    "</div>"
   ]
  },
  {
   "cell_type": "markdown",
   "metadata": {},
   "source": [
    "<div class=\"alert alert-block alert-success\">\n",
    "<b>Code reviewer's comment</b> <a class=\"tocSkip\"></a>\n",
    "\n",
    "Success. Good job.\n",
    "</div>"
   ]
  },
  {
   "cell_type": "markdown",
   "metadata": {
    "id": "3uVs-dF1cbO0"
   },
   "source": [
    "**Random Forest**"
   ]
  },
  {
   "cell_type": "code",
   "execution_count": 417,
   "metadata": {
    "colab": {
     "base_uri": "https://localhost:8080/"
    },
    "id": "7vk6m8g-ceTn",
    "outputId": "74fba624-0928-447a-9f3e-6bba17363f71"
   },
   "outputs": [
    {
     "data": {
      "text/plain": [
       "1929.5064161910118"
      ]
     },
     "execution_count": 417,
     "metadata": {},
     "output_type": "execute_result"
    }
   ],
   "source": [
    "# Model Random Forest\n",
    "RF = RandomForestRegressor()\n",
    "\n",
    "start = time()\n",
    "RF.fit(X_train, y_train)\n",
    "end = time()\n",
    "fit_time_RF = end - start\n",
    "\n",
    "start = time()\n",
    "y_pred = RF.predict(X_valid)\n",
    "end = time()\n",
    "predict_time_RF = end - start\n",
    "\n",
    "RF_score_base = mean_squared_error(y_valid, y_pred) ** 0.5\n",
    "RF_score_base"
   ]
  },
  {
   "cell_type": "markdown",
   "metadata": {},
   "source": [
    "<div class=\"alert alert-block alert-danger\">\n",
    "\n",
    "<b>Code reviewer's comment</b> <a class=\"tocSkip\"></a>\n",
    "\n",
    "Butuh perbaikan. Proses modeling sudah benar, hanya perlu menyesuaikan bagian train-test split dan preprocessingnya dulu.\n",
    "</div>"
   ]
  },
  {
   "cell_type": "markdown",
   "metadata": {},
   "source": [
    "<div class=\"alert alert-block alert-success\">\n",
    "<b>Code reviewer's comment</b> <a class=\"tocSkip\"></a>\n",
    "\n",
    "Success. Good job.\n",
    "</div>"
   ]
  },
  {
   "cell_type": "code",
   "execution_count": 418,
   "metadata": {
    "colab": {
     "base_uri": "https://localhost:8080/",
     "height": 81
    },
    "id": "mdOx2nTwcowh",
    "outputId": "506ace3c-f510-409b-ce8c-d498cdc7b5f9"
   },
   "outputs": [
    {
     "data": {
      "text/html": [
       "<div>\n",
       "<style scoped>\n",
       "    .dataframe tbody tr th:only-of-type {\n",
       "        vertical-align: middle;\n",
       "    }\n",
       "\n",
       "    .dataframe tbody tr th {\n",
       "        vertical-align: top;\n",
       "    }\n",
       "\n",
       "    .dataframe thead th {\n",
       "        text-align: right;\n",
       "    }\n",
       "</style>\n",
       "<table border=\"1\" class=\"dataframe\">\n",
       "  <thead>\n",
       "    <tr style=\"text-align: right;\">\n",
       "      <th></th>\n",
       "      <th>n_estimators</th>\n",
       "      <th>max_depth</th>\n",
       "      <th>RF_score_tuned</th>\n",
       "      <th>fit_time_RF_tuned</th>\n",
       "      <th>predict_time_RF_tuned</th>\n",
       "    </tr>\n",
       "  </thead>\n",
       "  <tbody>\n",
       "    <tr>\n",
       "      <th>3</th>\n",
       "      <td>500</td>\n",
       "      <td>10</td>\n",
       "      <td>2110.443444</td>\n",
       "      <td>205.571199</td>\n",
       "      <td>3.04471</td>\n",
       "    </tr>\n",
       "  </tbody>\n",
       "</table>\n",
       "</div>"
      ],
      "text/plain": [
       "   n_estimators  max_depth  RF_score_tuned  fit_time_RF_tuned  \\\n",
       "3           500         10     2110.443444         205.571199   \n",
       "\n",
       "   predict_time_RF_tuned  \n",
       "3                3.04471  "
      ]
     },
     "execution_count": 418,
     "metadata": {},
     "output_type": "execute_result"
    }
   ],
   "source": [
    "# Model Random Forest dengan hyperparameter tuning\n",
    "d = []\n",
    "for estim in [100, 500]:\n",
    "    for depth in [5,10]:\n",
    "        RF = RandomForestRegressor(random_state=12345, n_estimators=estim, max_depth=depth)\n",
    "\n",
    "        start = time()\n",
    "        RF.fit(X_train, y_train)\n",
    "        end = time()\n",
    "        fit_time_RF_tuned = end - start\n",
    "\n",
    "        start = time()\n",
    "        y_pred = RF.predict(X_valid)\n",
    "        end = time()\n",
    "        predict_time_RF_tuned = end - start\n",
    "\n",
    "        RF_score_tuned = mean_squared_error(y_valid, y_pred) ** 0.5\n",
    "        d.append(\n",
    "            {\n",
    "                'n_estimators': estim,\n",
    "                'max_depth': depth,\n",
    "                'RF_score_tuned':  RF_score_tuned,\n",
    "                'fit_time_RF_tuned': fit_time_RF_tuned,\n",
    "                'predict_time_RF_tuned': predict_time_RF_tuned\n",
    "            }\n",
    "        )\n",
    "best_param = pd.DataFrame(d).nsmallest(1, ['RF_score_tuned'], keep='first')\n",
    "RF_score_tuned = best_param['RF_score_tuned'].values\n",
    "fit_time_RF_tuned = best_param['fit_time_RF_tuned'].values\n",
    "predict_time_RF_tuned = best_param['predict_time_RF_tuned'].values\n",
    "\n",
    "best_param"
   ]
  },
  {
   "cell_type": "markdown",
   "metadata": {},
   "source": [
    "<div class=\"alert alert-block alert-danger\">\n",
    "\n",
    "<b>Code reviewer's comment</b> <a class=\"tocSkip\"></a>\n",
    "\n",
    "Butuh perbaikan. Proses modeling sudah benar, hanya perlu menyesuaikan bagian train-test split dan preprocessingnya dulu.\n",
    "</div>"
   ]
  },
  {
   "cell_type": "markdown",
   "metadata": {},
   "source": [
    "<div class=\"alert alert-block alert-success\">\n",
    "<b>Code reviewer's comment</b> <a class=\"tocSkip\"></a>\n",
    "\n",
    "Success. Good job.\n",
    "</div>"
   ]
  },
  {
   "cell_type": "markdown",
   "metadata": {
    "id": "T73mJsXExybX"
   },
   "source": [
    "**XGBoost**"
   ]
  },
  {
   "cell_type": "code",
   "execution_count": 419,
   "metadata": {
    "colab": {
     "base_uri": "https://localhost:8080/"
    },
    "id": "lE7UPjrHx5ds",
    "outputId": "5e3f6407-ef69-4757-a4cf-b2235a2a85a0"
   },
   "outputs": [
    {
     "data": {
      "text/plain": [
       "1909.6861502417655"
      ]
     },
     "execution_count": 419,
     "metadata": {},
     "output_type": "execute_result"
    }
   ],
   "source": [
    "# Model XGBoost\n",
    "XGB = XGBRegressor(n_jobs=-1)\n",
    "\n",
    "start = time()\n",
    "XGB.fit(X_train, y_train)\n",
    "end = time()\n",
    "fit_time_XGB = end - start\n",
    "\n",
    "start = time()\n",
    "y_pred = XGB.predict(X_valid)\n",
    "end = time()\n",
    "predict_time_XGB = end - start\n",
    "\n",
    "XGB_score_base = mean_squared_error(y_valid, y_pred) ** 0.5\n",
    "XGB_score_base"
   ]
  },
  {
   "cell_type": "markdown",
   "metadata": {},
   "source": [
    "<div class=\"alert alert-block alert-danger\">\n",
    "\n",
    "<b>Code reviewer's comment</b> <a class=\"tocSkip\"></a>\n",
    "\n",
    "Butuh perbaikan. Proses modeling sudah benar, hanya perlu menyesuaikan bagian train-test split dan preprocessingnya dulu.\n",
    "</div>"
   ]
  },
  {
   "cell_type": "markdown",
   "metadata": {},
   "source": [
    "<div class=\"alert alert-block alert-success\">\n",
    "<b>Code reviewer's comment</b> <a class=\"tocSkip\"></a>\n",
    "\n",
    "Success. Good job.\n",
    "</div>"
   ]
  },
  {
   "cell_type": "code",
   "execution_count": 420,
   "metadata": {
    "colab": {
     "base_uri": "https://localhost:8080/",
     "height": 81
    },
    "id": "7eNok55dyNqP",
    "outputId": "91ddf1be-a779-41a5-dc57-d06cb74c9d10"
   },
   "outputs": [
    {
     "data": {
      "text/html": [
       "<div>\n",
       "<style scoped>\n",
       "    .dataframe tbody tr th:only-of-type {\n",
       "        vertical-align: middle;\n",
       "    }\n",
       "\n",
       "    .dataframe tbody tr th {\n",
       "        vertical-align: top;\n",
       "    }\n",
       "\n",
       "    .dataframe thead th {\n",
       "        text-align: right;\n",
       "    }\n",
       "</style>\n",
       "<table border=\"1\" class=\"dataframe\">\n",
       "  <thead>\n",
       "    <tr style=\"text-align: right;\">\n",
       "      <th></th>\n",
       "      <th>n_estimators</th>\n",
       "      <th>max_depth</th>\n",
       "      <th>XGB_score_tuned</th>\n",
       "      <th>fit_time_XGB_tuned</th>\n",
       "      <th>predict_time_XGB_tuned</th>\n",
       "    </tr>\n",
       "  </thead>\n",
       "  <tbody>\n",
       "    <tr>\n",
       "      <th>1</th>\n",
       "      <td>100</td>\n",
       "      <td>10</td>\n",
       "      <td>1882.163301</td>\n",
       "      <td>57.671106</td>\n",
       "      <td>0.529749</td>\n",
       "    </tr>\n",
       "  </tbody>\n",
       "</table>\n",
       "</div>"
      ],
      "text/plain": [
       "   n_estimators  max_depth  XGB_score_tuned  fit_time_XGB_tuned  \\\n",
       "1           100         10      1882.163301           57.671106   \n",
       "\n",
       "   predict_time_XGB_tuned  \n",
       "1                0.529749  "
      ]
     },
     "execution_count": 420,
     "metadata": {},
     "output_type": "execute_result"
    }
   ],
   "source": [
    "# Model XGBoost dengan hyperparameter tuning\n",
    "d = []\n",
    "for estim in [100, 500]:\n",
    "    for depth in [5, 10]:\n",
    "        XGB = XGBRegressor(random_state=12345, n_estimators=estim,\n",
    "                                       max_depth=depth, n_jobs=-1)\n",
    "        start = time()\n",
    "        XGB.fit(X_train, y_train)\n",
    "        end = time()\n",
    "        fit_time_XGB_tuned = end - start\n",
    "\n",
    "        start = time()\n",
    "        y_pred = XGB.predict(X_valid)\n",
    "        end = time()\n",
    "        predict_time_XGB_tuned = end - start\n",
    "\n",
    "        XGB_score_tuned = mean_squared_error(y_valid, y_pred) ** 0.5\n",
    "        d.append(\n",
    "                        {\n",
    "                            'n_estimators': estim,\n",
    "                            'max_depth': depth,\n",
    "                            'XGB_score_tuned':  XGB_score_tuned,\n",
    "                            'fit_time_XGB_tuned': fit_time_XGB_tuned,\n",
    "                            'predict_time_XGB_tuned': predict_time_XGB_tuned\n",
    "                        }\n",
    "                    )\n",
    "\n",
    "best_param = pd.DataFrame(d).nsmallest(1, ['XGB_score_tuned'], keep='first')\n",
    "XGB_score_tuned = best_param['XGB_score_tuned'].values\n",
    "fit_time_XGB_tuned = best_param['fit_time_XGB_tuned'].values\n",
    "predict_time_XGB_tuned = best_param['predict_time_XGB_tuned'].values\n",
    "\n",
    "best_param"
   ]
  },
  {
   "cell_type": "markdown",
   "metadata": {},
   "source": [
    "<div class=\"alert alert-block alert-danger\">\n",
    "\n",
    "<b>Code reviewer's comment</b> <a class=\"tocSkip\"></a>\n",
    "\n",
    "Butuh perbaikan. Proses modeling sudah benar, hanya perlu menyesuaikan bagian train-test split dan preprocessingnya dulu.\n",
    "</div>"
   ]
  },
  {
   "cell_type": "markdown",
   "metadata": {},
   "source": [
    "<div class=\"alert alert-block alert-success\">\n",
    "<b>Code reviewer's comment</b> <a class=\"tocSkip\"></a>\n",
    "\n",
    "Success. Good job.\n",
    "</div>"
   ]
  },
  {
   "cell_type": "markdown",
   "metadata": {
    "id": "caoe9IZ8Rb4l"
   },
   "source": [
    "**LightGBM**"
   ]
  },
  {
   "cell_type": "code",
   "execution_count": 421,
   "metadata": {
    "colab": {
     "base_uri": "https://localhost:8080/"
    },
    "id": "ISmYsZXrRduG",
    "outputId": "44caa08d-f4ea-45e1-f1a6-8e34fbf6f999"
   },
   "outputs": [
    {
     "data": {
      "text/plain": [
       "1942.4033214863991"
      ]
     },
     "execution_count": 421,
     "metadata": {},
     "output_type": "execute_result"
    }
   ],
   "source": [
    "# Model LightGBM\n",
    "LGB = LGBMRegressor()\n",
    "\n",
    "start = time()\n",
    "LGB.fit(X_train, y_train)\n",
    "end = time()\n",
    "fit_time_LGB = end - start\n",
    "\n",
    "start = time()\n",
    "y_pred = LGB.predict(X_valid)\n",
    "end = time()\n",
    "predict_time_LGB = end - start\n",
    "\n",
    "LGB_score_base = mean_squared_error(y_valid, y_pred) ** 0.5\n",
    "LGB_score_base"
   ]
  },
  {
   "cell_type": "markdown",
   "metadata": {},
   "source": [
    "<div class=\"alert alert-block alert-danger\">\n",
    "\n",
    "<b>Code reviewer's comment</b> <a class=\"tocSkip\"></a>\n",
    "\n",
    "Butuh perbaikan. Proses modeling sudah benar, hanya perlu menyesuaikan bagian train-test split dan preprocessingnya dulu.\n",
    "</div>"
   ]
  },
  {
   "cell_type": "markdown",
   "metadata": {},
   "source": [
    "<div class=\"alert alert-block alert-success\">\n",
    "<b>Code reviewer's comment</b> <a class=\"tocSkip\"></a>\n",
    "\n",
    "Success. Good job.\n",
    "</div>"
   ]
  },
  {
   "cell_type": "code",
   "execution_count": 422,
   "metadata": {
    "colab": {
     "base_uri": "https://localhost:8080/",
     "height": 81
    },
    "id": "dVg6FGSLRjHT",
    "outputId": "76432b5d-b9f7-4750-b97b-514c94a69eda"
   },
   "outputs": [
    {
     "data": {
      "text/html": [
       "<div>\n",
       "<style scoped>\n",
       "    .dataframe tbody tr th:only-of-type {\n",
       "        vertical-align: middle;\n",
       "    }\n",
       "\n",
       "    .dataframe tbody tr th {\n",
       "        vertical-align: top;\n",
       "    }\n",
       "\n",
       "    .dataframe thead th {\n",
       "        text-align: right;\n",
       "    }\n",
       "</style>\n",
       "<table border=\"1\" class=\"dataframe\">\n",
       "  <thead>\n",
       "    <tr style=\"text-align: right;\">\n",
       "      <th></th>\n",
       "      <th>n_estimators</th>\n",
       "      <th>max_depth</th>\n",
       "      <th>LGB_score_tuned</th>\n",
       "      <th>fit_time_LGB_tuned</th>\n",
       "      <th>predict_time_LGB_tuned</th>\n",
       "    </tr>\n",
       "  </thead>\n",
       "  <tbody>\n",
       "    <tr>\n",
       "      <th>3</th>\n",
       "      <td>500</td>\n",
       "      <td>10</td>\n",
       "      <td>1857.209239</td>\n",
       "      <td>10.108521</td>\n",
       "      <td>2.572833</td>\n",
       "    </tr>\n",
       "  </tbody>\n",
       "</table>\n",
       "</div>"
      ],
      "text/plain": [
       "   n_estimators  max_depth  LGB_score_tuned  fit_time_LGB_tuned  \\\n",
       "3           500         10      1857.209239           10.108521   \n",
       "\n",
       "   predict_time_LGB_tuned  \n",
       "3                2.572833  "
      ]
     },
     "execution_count": 422,
     "metadata": {},
     "output_type": "execute_result"
    }
   ],
   "source": [
    "# Model LightGBM dengan Hyperparameter tuning\n",
    "\n",
    "d = []\n",
    "for estim in [100, 500]:\n",
    "    for depth in [5, 10]:\n",
    "        LGB = LGBMRegressor(random_state=12345, n_estimators=estim,\n",
    "                                       max_depth=depth)\n",
    "        start = time()\n",
    "        LGB.fit(X_train, y_train)\n",
    "        end = time()\n",
    "        fit_time_LGB_tuned = end - start\n",
    "\n",
    "        start = time()\n",
    "        y_pred = LGB.predict(X_valid)\n",
    "        end = time()\n",
    "        predict_time_LGB_tuned = end - start\n",
    "\n",
    "        LGB_score_tuned = mean_squared_error(y_valid, y_pred) ** 0.5\n",
    "        d.append(\n",
    "            {\n",
    "                 'n_estimators': estim,\n",
    "                  'max_depth': depth,\n",
    "                  'LGB_score_tuned':  LGB_score_tuned,\n",
    "                  'fit_time_LGB_tuned': fit_time_LGB_tuned,\n",
    "                  'predict_time_LGB_tuned': predict_time_LGB_tuned\n",
    "                        }\n",
    "                    )\n",
    "\n",
    "best_param = pd.DataFrame(d).nsmallest(1, ['LGB_score_tuned'], keep='first')\n",
    "LGB_score_tuned = best_param['LGB_score_tuned'].values\n",
    "fit_time_LGB_tuned = best_param['fit_time_LGB_tuned'].values\n",
    "predict_time_LGB_tuned = best_param['predict_time_LGB_tuned'].values\n",
    "\n",
    "best_param"
   ]
  },
  {
   "cell_type": "markdown",
   "metadata": {},
   "source": [
    "<div class=\"alert alert-block alert-danger\">\n",
    "\n",
    "<b>Code reviewer's comment</b> <a class=\"tocSkip\"></a>\n",
    "\n",
    "Butuh perbaikan. Proses modeling sudah benar, hanya perlu menyesuaikan bagian train-test split dan preprocessingnya dulu.\n",
    "</div>"
   ]
  },
  {
   "cell_type": "markdown",
   "metadata": {},
   "source": [
    "<div class=\"alert alert-block alert-success\">\n",
    "<b>Code reviewer's comment</b> <a class=\"tocSkip\"></a>\n",
    "\n",
    "Success. Good job.\n",
    "</div>"
   ]
  },
  {
   "cell_type": "markdown",
   "metadata": {
    "id": "K43XIesfyY2r"
   },
   "source": [
    "**CatBoost**"
   ]
  },
  {
   "cell_type": "code",
   "execution_count": 423,
   "metadata": {
    "colab": {
     "base_uri": "https://localhost:8080/"
    },
    "id": "wVcDvSybyfcj",
    "outputId": "2bfbf5c3-5835-4672-81b5-b2aad3b2f332"
   },
   "outputs": [
    {
     "data": {
      "text/plain": [
       "1868.90226344181"
      ]
     },
     "execution_count": 423,
     "metadata": {},
     "output_type": "execute_result"
    }
   ],
   "source": [
    "# Model CatBoost\n",
    "CB = CatBoostRegressor(verbose=0)\n",
    "\n",
    "start = time()\n",
    "CB.fit(X_train, y_train)\n",
    "end = time()\n",
    "fit_time_CB = end - start\n",
    "\n",
    "start = time()\n",
    "y_pred = CB.predict(X_valid)\n",
    "end = time()\n",
    "predict_time_CB = end - start\n",
    "\n",
    "CB_score_base = mean_squared_error(y_valid, y_pred) ** 0.5\n",
    "CB_score_base"
   ]
  },
  {
   "cell_type": "markdown",
   "metadata": {},
   "source": [
    "<div class=\"alert alert-block alert-danger\">\n",
    "\n",
    "<b>Code reviewer's comment</b> <a class=\"tocSkip\"></a>\n",
    "\n",
    "Butuh perbaikan. Proses modeling sudah benar, hanya perlu menyesuaikan bagian train-test split dan preprocessingnya dulu.\n",
    "</div>"
   ]
  },
  {
   "cell_type": "markdown",
   "metadata": {},
   "source": [
    "<div class=\"alert alert-block alert-success\">\n",
    "<b>Code reviewer's comment</b> <a class=\"tocSkip\"></a>\n",
    "\n",
    "Success. Good job.\n",
    "</div>"
   ]
  },
  {
   "cell_type": "code",
   "execution_count": 424,
   "metadata": {
    "colab": {
     "base_uri": "https://localhost:8080/",
     "height": 81
    },
    "id": "_NQLw00zykIm",
    "outputId": "8dda3fb4-28e3-4c62-b772-685bed1375bb"
   },
   "outputs": [
    {
     "data": {
      "text/html": [
       "<div>\n",
       "<style scoped>\n",
       "    .dataframe tbody tr th:only-of-type {\n",
       "        vertical-align: middle;\n",
       "    }\n",
       "\n",
       "    .dataframe tbody tr th {\n",
       "        vertical-align: top;\n",
       "    }\n",
       "\n",
       "    .dataframe thead th {\n",
       "        text-align: right;\n",
       "    }\n",
       "</style>\n",
       "<table border=\"1\" class=\"dataframe\">\n",
       "  <thead>\n",
       "    <tr style=\"text-align: right;\">\n",
       "      <th></th>\n",
       "      <th>n_estimators</th>\n",
       "      <th>depth</th>\n",
       "      <th>CB_score_tuned</th>\n",
       "      <th>fit_time_CB_tuned</th>\n",
       "      <th>predict_time_CB_tuned</th>\n",
       "    </tr>\n",
       "  </thead>\n",
       "  <tbody>\n",
       "    <tr>\n",
       "      <th>3</th>\n",
       "      <td>500</td>\n",
       "      <td>10</td>\n",
       "      <td>1826.400707</td>\n",
       "      <td>56.482474</td>\n",
       "      <td>0.124424</td>\n",
       "    </tr>\n",
       "  </tbody>\n",
       "</table>\n",
       "</div>"
      ],
      "text/plain": [
       "   n_estimators  depth  CB_score_tuned  fit_time_CB_tuned  \\\n",
       "3           500     10     1826.400707          56.482474   \n",
       "\n",
       "   predict_time_CB_tuned  \n",
       "3               0.124424  "
      ]
     },
     "execution_count": 424,
     "metadata": {},
     "output_type": "execute_result"
    }
   ],
   "source": [
    "# Model CatBoost dengan hyperparameter tuning\n",
    "d = []\n",
    "for iterations in [100, 500]:\n",
    "    for depth in [5, 10]:\n",
    "        CB = CatBoostRegressor(random_state=12345, iterations=iterations,\n",
    "                                       depth=depth, verbose=0)\n",
    "        start = time()\n",
    "        CB.fit(X_train, y_train)\n",
    "        end = time()\n",
    "        fit_time_CB_tuned = end - start\n",
    "\n",
    "        start = time()\n",
    "        y_pred = CB.predict(X_valid)\n",
    "        end = time()\n",
    "        predict_time_CB_tuned = end - start\n",
    "\n",
    "        CB_score_tuned = mean_squared_error(y_valid, y_pred) ** 0.5\n",
    "        d.append(\n",
    "            {\n",
    "                            'n_estimators': estim,\n",
    "                            'depth': depth,\n",
    "                            'CB_score_tuned':  CB_score_tuned,\n",
    "                            'fit_time_CB_tuned': fit_time_CB_tuned,\n",
    "                            'predict_time_CB_tuned': predict_time_CB_tuned\n",
    "                        }\n",
    "                    )\n",
    "\n",
    "best_param = pd.DataFrame(d).nsmallest(1, ['CB_score_tuned'], keep='first')\n",
    "CB_score_tuned = best_param['CB_score_tuned'].values\n",
    "fit_time_CB_tuned = best_param['fit_time_CB_tuned'].values\n",
    "predict_time_CB_tuned = best_param['predict_time_CB_tuned'].values\n",
    "\n",
    "best_param"
   ]
  },
  {
   "cell_type": "markdown",
   "metadata": {},
   "source": [
    "<div class=\"alert alert-block alert-danger\">\n",
    "\n",
    "<b>Code reviewer's comment</b> <a class=\"tocSkip\"></a>\n",
    "\n",
    "Butuh perbaikan. Proses modeling sudah benar, hanya perlu menyesuaikan bagian train-test split dan preprocessingnya dulu.\n",
    "</div>"
   ]
  },
  {
   "cell_type": "markdown",
   "metadata": {},
   "source": [
    "<div class=\"alert alert-block alert-success\">\n",
    "<b>Code reviewer's comment</b> <a class=\"tocSkip\"></a>\n",
    "\n",
    "Success. Good job.\n",
    "</div>"
   ]
  },
  {
   "cell_type": "markdown",
   "metadata": {
    "id": "MMlgOn4shyqF"
   },
   "source": [
    "## 3 Analisis Model"
   ]
  },
  {
   "cell_type": "markdown",
   "metadata": {
    "id": "vw9aaavvzdFP"
   },
   "source": [
    "Pada bagian ini, model akan dianalisis berdasarakan nilai RMSE, kecepatan training dan kecepatan prediksi."
   ]
  },
  {
   "cell_type": "code",
   "execution_count": 425,
   "metadata": {
    "id": "MmC81PEQhyqF"
   },
   "outputs": [],
   "source": [
    "# Daftar model dalam bentuk dataframe\n",
    "models = pd.DataFrame({\n",
    "    'Model': ['LR', 'RF_base', 'XGB_base', 'LGB_base', 'CB_base',\n",
    "             'RF_tuned', 'XGB_tuned', 'LGB_tuned', 'CB_tuned'],\n",
    "    'Score': [LR_score, RF_score_base, XGB_score_base, LGB_score_base, CB_score_base,\n",
    "             RF_score_tuned, XGB_score_tuned, LGB_score_tuned, CB_score_tuned],\n",
    "    'Training_time': [fit_time_LR, fit_time_RF, fit_time_XGB, fit_time_LGB, fit_time_CB, fit_time_RF_tuned,\n",
    "             fit_time_XGB_tuned, fit_time_LGB_tuned, fit_time_CB_tuned],\n",
    "    'Prediction_time': [predict_time_LR, predict_time_RF, predict_time_XGB, predict_time_LGB, predict_time_CB, predict_time_RF_tuned,\n",
    "             predict_time_XGB_tuned, predict_time_LGB_tuned, predict_time_CB_tuned]})"
   ]
  },
  {
   "cell_type": "code",
   "execution_count": 426,
   "metadata": {
    "colab": {
     "base_uri": "https://localhost:8080/",
     "height": 558
    },
    "id": "I40opyZG4ZuW",
    "outputId": "886042d6-8f73-48cb-ab12-3cbaa60fefe5"
   },
   "outputs": [
    {
     "data": {
      "image/png": "[encoded data removed]",
      "text/plain": [
       "<Figure size 1080x360 with 3 Axes>"
      ]
     },
     "metadata": {
      "needs_background": "light"
     },
     "output_type": "display_data"
    }
   ],
   "source": [
    "# Grafik perbandingan antar model\n",
    "fig, axs = plt.subplots(1,3,figsize=(15,5))\n",
    "fig.suptitle('Perbandingan Model Machine Learning', fontsize=15)\n",
    "\n",
    "labels = models.sort_values(by='Score')['Model']\n",
    "values = models.sort_values(by='Score')['Score']\n",
    "axs[0].bar(labels, values, color = 'g')\n",
    "axs[0].set_xticklabels(labels, rotation='vertical')\n",
    "axs[0].set_title('RMSE score')\n",
    "\n",
    "labels = models.sort_values(by='Training_time')['Model']\n",
    "values = models.sort_values(by='Training_time')['Training_time']\n",
    "axs[1].bar(labels, values, color = 'b')\n",
    "axs[1].set_xticklabels(labels, rotation='vertical')\n",
    "axs[1].set_title('Training time')\n",
    "\n",
    "labels = models.sort_values(by='Prediction_time')['Model']\n",
    "values = models.sort_values(by='Prediction_time')['Prediction_time']\n",
    "axs[2].bar(labels, values, color = 'orange')\n",
    "axs[2].set_xticklabels(labels, rotation='vertical')\n",
    "axs[2].set_title('Prediction time');"
   ]
  },
  {
   "cell_type": "markdown",
   "metadata": {
    "id": "RCB7PsfLSw2T"
   },
   "source": [
    "Dari grafik diatas terlihat bahwa CB_tuned adalah model terbaik dari nilai RMSE, kecepatan training dan kecepatan prediksi. Perbededaan RMSE dan kecepatan training hanya sedikit berbeda dengan Model XGB_tuned, namun kecepatan prediksi cukup jauh berbeda."
   ]
  },
  {
   "cell_type": "markdown",
   "metadata": {},
   "source": [
    "<div class=\"alert alert-block alert-danger\">\n",
    "\n",
    "<b>Code reviewer's comment</b> <a class=\"tocSkip\"></a>\n",
    "\n",
    "Butuh perbaikan. Proses membandingkan performa antar model sudah benar, hanya perlu menyesuaikan bagian train-test split dan preprocessingnya dulu.\n",
    "</div>"
   ]
  },
  {
   "cell_type": "markdown",
   "metadata": {},
   "source": [
    "<div class=\"alert alert-block alert-success\">\n",
    "<b>Code reviewer's comment</b> <a class=\"tocSkip\"></a>\n",
    "\n",
    "Success. Good job.\n",
    "</div>"
   ]
  },
  {
   "cell_type": "markdown",
   "metadata": {
    "id": "ZsGKPeqX5lNG"
   },
   "source": [
    "## 4 Penerapan Model Terpilih"
   ]
  },
  {
   "cell_type": "markdown",
   "metadata": {
    "id": "nQs2Hhga9E7F"
   },
   "source": [
    "**Penerapan Model pada Test set**"
   ]
  },
  {
   "cell_type": "markdown",
   "metadata": {
    "id": "eMsqwxH99V2u"
   },
   "source": [
    "Tidak terjadi overfitting, karena baik skor validation dan test tidak jauh berbeda."
   ]
  },
  {
   "cell_type": "markdown",
   "metadata": {
    "id": "ecazKqvuWykz"
   },
   "source": [
    "**Penerapan Model pada Test set**"
   ]
  },
  {
   "cell_type": "markdown",
   "metadata": {},
   "source": [
    "<div class=\"alert alert-block alert-warning\">\n",
    "<b>Code reviewer's comment</b> <a class=\"tocSkip\"></a>\n",
    "\n",
    "Catatan. Ada baiknya tidak melakukan train-test split lebih dari 2 kali. Jika membutuhkan data gabungan, maka disarankan bisa melakukan split diawal dengan nama variable sebagai berikut.\n",
    "```\n",
    "    X_train_valid, X_test, y_train_valid, y_test = train_test_split(X, y, test_size = 0.25, random_state=12345)\n",
    "```\n",
    "</div>"
   ]
  },
  {
   "cell_type": "markdown",
   "metadata": {},
   "source": [
    "<div class=\"alert alert-block alert-info\"><b>Jawaban student.</b><a class=\"tocSkip\"></a><a class=\"tocSkip\"></a>\n",
    "\n",
    "Dengan pertimbangan saran reviewer saya hanya akan menerapkan model pada test set (tidak menyertakan valid set, fungsinya hanya untuk pengembangan model)\n",
    "\n",
    "</div>"
   ]
  },
  {
   "cell_type": "code",
   "execution_count": 427,
   "metadata": {
    "colab": {
     "base_uri": "https://localhost:8080/"
    },
    "id": "_6aGVvkS6JtG",
    "outputId": "433a1960-56d6-4176-e36f-1bd7cedc0be2"
   },
   "outputs": [
    {
     "name": "stdout",
     "output_type": "stream",
     "text": [
      "test RMSE score, eur: 1801.0\n",
      "Training time, sec: 55.0\n",
      "Prediction time, sec: 0.21\n"
     ]
    }
   ],
   "source": [
    "# Menjalankan Model pada keseluruhan dataset\n",
    "CB_final = CatBoostRegressor(random_state=12345, iterations=500, depth=10, verbose=0)\n",
    "start = time()\n",
    "CB_final.fit(X_train, y_train)\n",
    "end = time()\n",
    "fit_time_final = end - start\n",
    "\n",
    "start = time()\n",
    "y_pred = CB_final.predict(X_test)\n",
    "end = time()\n",
    "predict_time_final = end - start\n",
    "\n",
    "CB_final_score_test = mean_squared_error(y_test, y_pred) ** 0.5\n",
    "print('test RMSE score, eur:', round(CB_final_score_test,0))\n",
    "print('Training time, sec:', round(fit_time_final,0))\n",
    "print('Prediction time, sec:', round(predict_time_final,2))"
   ]
  },
  {
   "cell_type": "markdown",
   "metadata": {},
   "source": [
    "<div class=\"alert alert-block alert-warning\">\n",
    "<b>Code reviewer's comment</b> <a class=\"tocSkip\"></a>\n",
    "\n",
    "Catatan. Ada baiknya juga dipertimbangkan untuk melakukan pengecekan underfitting atau overfitting dari RMSE cross validation ke RMSE data test, untuk menghilangkan faktor bias.\n",
    "</div>"
   ]
  },
  {
   "cell_type": "markdown",
   "metadata": {
    "id": "1NtBWCEZ6eCZ"
   },
   "source": [
    "**Sanity Check**"
   ]
  },
  {
   "cell_type": "code",
   "execution_count": 431,
   "metadata": {
    "colab": {
     "base_uri": "https://localhost:8080/"
    },
    "id": "-fEV9Hej6Y7a",
    "outputId": "18f71a4f-67ad-4ca3-cf5d-fec22829fde7"
   },
   "outputs": [
    {
     "data": {
      "text/plain": [
       "19936.63337860513"
      ]
     },
     "execution_count": 431,
     "metadata": {},
     "output_type": "execute_result"
    }
   ],
   "source": [
    "# Model Linear Regression sebagai baseline\n",
    "LR.fit(X_train, y_train)\n",
    "y_pred = LR.predict(X_test)\n",
    "LR_score_test = mean_squared_error(y_test, y_pred) ** 0.5\n",
    "LR_score_test"
   ]
  },
  {
   "cell_type": "markdown",
   "metadata": {
    "id": "yOnptL1H6xkV"
   },
   "source": [
    "Persentase perbedaan akurasi antara Model Catboost Final dan Model Baseline"
   ]
  },
  {
   "cell_type": "code",
   "execution_count": 429,
   "metadata": {
    "colab": {
     "base_uri": "https://localhost:8080/"
    },
    "id": "zNEcEThu6vIr",
    "outputId": "7c6eacb9-3e5e-4e2e-c02d-d8b418eabac7"
   },
   "outputs": [
    {
     "name": "stdout",
     "output_type": "stream",
     "text": [
      "Perbedaan Nilai RMSE adalah  90.97 %\n"
     ]
    }
   ],
   "source": [
    "diff_error = round(((LR_score_test - CB_final_score_test)/LR_score_test)*100,2)\n",
    "print('Perbedaan Nilai RMSE adalah ', diff_error, '%')"
   ]
  },
  {
   "cell_type": "markdown",
   "metadata": {
    "id": "Do-Vc-I3FDdE"
   },
   "source": [
    "Nilai RMSE Model Akhir (CatBoost Final) lebih tinggi 90.97 % dari pada Model Baseline, yang berarti bahwa Model Akhir ini sangat baik untuk prediksi."
   ]
  },
  {
   "cell_type": "markdown",
   "metadata": {},
   "source": [
    "<div class=\"alert alert-block alert-danger\">\n",
    "\n",
    "<b>Code reviewer's comment</b> <a class=\"tocSkip\"></a>\n",
    "\n",
    "Butuh perbaikan. Sanity check dilakukan dengan baik, hanya perlu menyesuaikan bagian train-test split dan preprocessingnya dulu.\n",
    "</div>"
   ]
  },
  {
   "cell_type": "markdown",
   "metadata": {},
   "source": [
    "<div class=\"alert alert-block alert-success\">\n",
    "<b>Code reviewer's comment</b> <a class=\"tocSkip\"></a>\n",
    "\n",
    "Success. Good job.\n",
    "</div>"
   ]
  },
  {
   "cell_type": "markdown",
   "metadata": {
    "id": "ajZ6Y5XSF7K8"
   },
   "source": [
    "## 5. Kesimpulan"
   ]
  },
  {
   "cell_type": "markdown",
   "metadata": {
    "id": "NSppVWsfF_yh"
   },
   "source": [
    "Tujuan proyek ini mengembangkan model yang mampu menenentukan nilai pasar mobil untuk calon pembeli. Secara teknikal, proyek ini mencari metode terbaik dengan membandingkan metode gradient boosting dengan random forest, decision tree, dan regresi linear. Model diharapkan memiliki tingkat kesalahan yang rendah dan memiliki kecepatan prediksi yang tinggi.\n",
    "\n",
    "Berikut ini langkah-langkah yang telah ditempuh dalam proyek ini:\n",
    "1. Pada ikhtisar data ditemukan beberapa format fitur yang salah dari sisi penamaan, nilai yang hilang, tipe data, baris duplikat dan data-data yang tidak informatif. Hal-hal tersebut diperbaiki di pra-pemrosesan data.\n",
    "2. Outlier dihapus pada bagian analisis data eksploratif.\n",
    "3. Ada 6 fitur kategorikal yang dikonversi ke numerik.\n",
    "4. Dataset dibagi menjadi train, validation dan test set.\n",
    "5. Model yang diuji adalah Linear Regression, Random Forest, XGBoost, LightGBM, dan CatBoost. Dengan menggunakan hyperparameter pada semua model, ditemukan bahawa Model CatBoost terpilih dari sisi nilai RMSE, kecepatan training dan kecepatan prediksi.\n",
    "6. Model terpilih diuji kembali pada keseluruhan dataset.\n",
    "7. Sanity check membuktikan bahwa Model CatBoost dengan hyperparameter memiliki tingkat kesalahan lebih rendah 90.97 % % dari Model Base line."
   ]
  },
  {
   "cell_type": "markdown",
   "metadata": {
    "id": "0cA-jQAEhyqG"
   },
   "source": [
    "Ketik 'x' untuk menandakannya sebagai selesai. Lalu, tekan tombol Shift+Enter"
   ]
  },
  {
   "cell_type": "markdown",
   "metadata": {
    "id": "ZiK39iKLhyqG"
   },
   "source": [
    "- [x]  Jupyter Notebook bisa dibuka\n",
    "- [X]  Tidak ada kesalahan pada kode\n",
    "- [X]  Sel-sel dengan kode telah disusun berdasarkan urutan eksekusi\n",
    "- [X]  Data telah diunduh dan disiapkan- [ ]  Model sudah dilatih\n",
    "- [X]  Analisis terhadap kecepatan dan kualitas model telah dilakukan"
   ]
  }
 ],
 "metadata": {
  "colab": {
   "provenance": [],
   "toc_visible": true
  },
  "kernelspec": {
   "display_name": "Python 3 (ipykernel)",
   "language": "python",
   "name": "python3"
  },
  "language_info": {
   "codemirror_mode": {
    "name": "ipython",
    "version": 3
   },
   "file_extension": ".py",
   "mimetype": "text/x-python",
   "name": "python",
   "nbconvert_exporter": "python",
   "pygments_lexer": "ipython3",
   "version": "3.9.5"
  },
  "toc": {
   "base_numbering": 1,
   "nav_menu": {},
   "number_sections": false,
   "sideBar": true,
   "skip_h1_title": true,
   "title_cell": "Table of Contents",
   "title_sidebar": "Contents",
   "toc_cell": false,
   "toc_position": {},
   "toc_section_display": true,
   "toc_window_display": true
  }
 },
 "nbformat": 4,
 "nbformat_minor": 1
}
